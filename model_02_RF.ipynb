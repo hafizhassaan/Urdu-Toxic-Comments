{
 "cells": [
  {
   "cell_type": "code",
   "execution_count": 1,
   "metadata": {},
   "outputs": [],
   "source": [
    "import warnings\n",
    "warnings.filterwarnings( 'ignore' )\n",
    "\n",
    "import gc\n",
    "import os\n",
    "import time\n",
    "import numpy as np\n",
    "import pandas as pd\n",
    "\n",
    "from sklearn.metrics import accuracy_score, precision_score, recall_score\n",
    "from sklearn.metrics import f1_score, confusion_matrix\n",
    "from sklearn.model_selection import StratifiedKFold, train_test_split\n",
    "\n",
    "from sklearn.feature_extraction.text import TfidfVectorizer\n",
    "\n",
    "import pickle"
   ]
  },
  {
   "cell_type": "code",
   "execution_count": 2,
   "metadata": {},
   "outputs": [],
   "source": [
    "import All_UT_Models\n",
    "import UT_Utils"
   ]
  },
  {
   "cell_type": "code",
   "execution_count": 3,
   "metadata": {},
   "outputs": [],
   "source": [
    "# hyper parameters for this model\n",
    "\n",
    "N_ESTIMATORS = 1200\n",
    "CRITERION = 'entropy'\n",
    "BOOTSTRAP = True\n",
    "OOB_SCORE = True\n",
    "CLASS_WEIGHT = 'balanced'"
   ]
  },
  {
   "cell_type": "code",
   "execution_count": 4,
   "metadata": {},
   "outputs": [],
   "source": [
    "modelname = 'RF'\n",
    "\n",
    "modelpath = './Saved Models/' + modelname + '/'\n",
    "modelresults = './Model Results'\n",
    "modelsummaries = './Model - Summaries-Figures'\n",
    "\n",
    "DIRECTORIES_TO_BE_CREATED = [ modelpath, modelresults, modelsummaries ]\n",
    "for directory in DIRECTORIES_TO_BE_CREATED:\n",
    "    if not os.path.exists( directory ):\n",
    "        os.makedirs( directory )"
   ]
  },
  {
   "cell_type": "code",
   "execution_count": 5,
   "metadata": {},
   "outputs": [],
   "source": [
    "def hms_string( sec_elapsed ):\n",
    "    h = int(sec_elapsed / (60 * 60))\n",
    "    m = int((sec_elapsed % (60 * 60)) / 60)\n",
    "    s = sec_elapsed % 60\n",
    "    return \"{} hrs {:>02} mins {:>05.2f} secs\".format( h, m, s )"
   ]
  },
  {
   "cell_type": "code",
   "execution_count": 6,
   "metadata": {},
   "outputs": [
    {
     "data": {
      "text/plain": [
       "(72771, 3)"
      ]
     },
     "execution_count": 6,
     "metadata": {},
     "output_type": "execute_result"
    }
   ],
   "source": [
    "sheets = [ pd.read_excel( 'RUT_UT_Comments.xlsx', 'Sheet1' ), pd.read_excel( 'RUT_UT_Comments.xlsx', 'Sheet2' ) ]\n",
    "df = pd.concat( sheets )\n",
    "df.reset_index( drop=True, inplace=True )\n",
    "\n",
    "df.Urdu = df.Urdu.astype( 'str' )\n",
    "df.Urdu = df.Urdu.apply( UT_Utils.urdu_preprocessing )\n",
    "\n",
    "df.dropna( inplace=True )\n",
    "df.reset_index( drop=True, inplace=True )\n",
    "\n",
    "del sheets\n",
    "gc.collect()\n",
    "\n",
    "xcolumn = 'Urdu'\n",
    "ycolumn = 'Toxic'\n",
    "\n",
    "df.shape"
   ]
  },
  {
   "cell_type": "code",
   "execution_count": 7,
   "metadata": {},
   "outputs": [
    {
     "name": "stdout",
     "output_type": "stream",
     "text": [
      "StratifiedKFold(n_splits=5, random_state=0, shuffle=True)\n"
     ]
    }
   ],
   "source": [
    "skf = StratifiedKFold( n_splits=5, random_state=0, shuffle=True )\n",
    "print(skf)"
   ]
  },
  {
   "cell_type": "code",
   "execution_count": 9,
   "metadata": {},
   "outputs": [
    {
     "name": "stdout",
     "output_type": "stream",
     "text": [
      "Fold: 01 out of 05 completed.\n",
      "Fold: 02 out of 05 completed.\n",
      "Fold: 03 out of 05 completed.\n",
      "Fold: 04 out of 05 completed.\n",
      "Fold: 05 out of 05 completed.\n",
      "Total runtime: 0 hrs 23 mins 30.94 secs\n"
     ]
    }
   ],
   "source": [
    "warnings.filterwarnings( 'ignore' )\n",
    "start_time = time.time()\n",
    "\n",
    "valaccuracy, valprecision, valrecall, valf1, valcm = [], [], [], [], []\n",
    "testaccuracy, testprecision, testrecall, testf1, testcm = [], [], [], [], []\n",
    "com_text, com_label, com_predicted, com_prob = [], [], [], []\n",
    "com_indices = []\n",
    "\n",
    "fold = 1\n",
    "for train_index, test_index in skf.split( df[ xcolumn ], df[ ycolumn ] ):\n",
    "    # seprating train and test sets\n",
    "    xtrain = df.loc[ train_index ][ xcolumn ].values\n",
    "    xtest = df.loc[ test_index ][ xcolumn ].values\n",
    "    \n",
    "    ytrain = df.loc[ train_index ][ ycolumn ].values\n",
    "    ytest = df.loc[ test_index ][ ycolumn ].values\n",
    "    \n",
    "    # splitting train and validation sets\n",
    "    xtrain, xval, ytrain, yval = train_test_split( xtrain, ytrain, test_size=0.15, random_state=0 )\n",
    "    \n",
    "    # tf.idf vectorization    \n",
    "    vectorizer = TfidfVectorizer(  )\n",
    "    vectorizer.fit( np.append( xtrain, xval ) )\n",
    "    \n",
    "    xtrain = vectorizer.transform( xtrain )\n",
    "    xval = vectorizer.transform( xval )\n",
    "    xtest = vectorizer.transform( xtest )\n",
    "    \n",
    "    # define a model\n",
    "    model = All_UT_Models.RF_Model(\n",
    "        n_est=N_ESTIMATORS, crit=CRITERION, bootstrap=BOOTSTRAP, oob_score=OOB_SCORE, class_weight=CLASS_WEIGHT\n",
    "    )\n",
    "    \n",
    "    # train the model\n",
    "    model.fit( xtrain, ytrain )\n",
    "    \n",
    "    # save the model\n",
    "    with open( modelpath + modelname + str(fold) + '.pkl', 'wb' ) as f:\n",
    "        pickle.dump( model, f )\n",
    "    \n",
    "    # delete trained model\n",
    "    del model\n",
    "    gc.collect()\n",
    "    \n",
    "    # load saved model\n",
    "    with open( modelpath + modelname + str(fold) + '.pkl', 'rb' ) as f:\n",
    "        loaded_model = pickle.load( f )\n",
    "    \n",
    "    # get predictions (probabilities) for validation and test sets respectively\n",
    "    valpredictions = loaded_model.predict_proba( xval )[ :, 1 ]\n",
    "    testpredictions = loaded_model.predict_proba( xtest )[ :, 1 ]\n",
    "    \n",
    "    # delete loaded model\n",
    "    del loaded_model\n",
    "    gc.collect()\n",
    "    \n",
    "    # optimizer threshold on validation set\n",
    "    threshold = UT_Utils.optimize_threshold( yval, valpredictions )\n",
    "    \n",
    "    # save accuracy, precision, recall, f1 and confusion matrices\n",
    "    vallabels = ( valpredictions >= threshold ).astype( 'int32' )\n",
    "    testlabels = ( testpredictions >= threshold ).astype( 'int32' )\n",
    "    \n",
    "    valaccuracy.append( accuracy_score( yval, vallabels ) )\n",
    "    valprecision.append( precision_score( yval, vallabels ) )\n",
    "    valrecall.append( recall_score( yval, vallabels ) )\n",
    "    valf1.append( f1_score( yval, vallabels ) )\n",
    "    valcm.append( confusion_matrix( yval, vallabels ) )    \n",
    "    \n",
    "    testaccuracy.append( accuracy_score( ytest, testlabels ) )\n",
    "    testprecision.append( precision_score( ytest, testlabels ) )\n",
    "    testrecall.append( recall_score( ytest, testlabels ) )\n",
    "    testf1.append( f1_score( ytest, testlabels ) )\n",
    "    testcm.append( confusion_matrix( ytest, testlabels ) )\n",
    "    \n",
    "    # save for future analysis and ensemble\n",
    "    com_indices.extend( test_index.tolist() )\n",
    "    com_text.extend( df.loc[ test_index ][ xcolumn ] )\n",
    "    com_label.extend( df.loc[ test_index ][ ycolumn ].tolist() )\n",
    "    com_predicted.extend( testlabels )\n",
    "    com_prob.extend( testpredictions )\n",
    "    \n",
    "    print( 'Fold: {:02d} out of {:02d} completed.'.format( fold, skf.get_n_splits() ) )\n",
    "    \n",
    "    fold = fold + 1\n",
    "time_took = time.time() - start_time\n",
    "print( f\"Total runtime: { hms_string( time_took ) }\" )"
   ]
  },
  {
   "cell_type": "code",
   "execution_count": 10,
   "metadata": {},
   "outputs": [
    {
     "name": "stdout",
     "output_type": "stream",
     "text": [
      "Validation Accuracy\n",
      "['0.9469', '0.9485', '0.9432', '0.9488', '0.9477'] 0.9470056109011795 +- 0.002016644906698845 \n",
      "\n",
      "Validation Precision\n",
      "['0.8839', '0.8937', '0.8411', '0.8991', '0.8949'] 0.8825332419450941 +- 0.021324142606954772 \n",
      "\n",
      "Validation Recall\n",
      "['0.8033', '0.8031', '0.8356', '0.7992', '0.7966'] 0.8075650460449593 +- 0.01424155379005603 \n",
      "\n",
      "Validation F1\n",
      "['0.8416', '0.8460', '0.8383', '0.8462', '0.8429'] 0.843019969929181 +- 0.002935622147786745\n"
     ]
    }
   ],
   "source": [
    "print( 'Validation Accuracy' )\n",
    "print( [ '{:0.4f}'.format( x ) for x in valaccuracy ], np.mean( valaccuracy ), '+-', np.std( valaccuracy ), '\\n' )\n",
    "\n",
    "print( 'Validation Precision' )\n",
    "print( [ '{:0.4f}'.format( x ) for x in valprecision ], np.mean( valprecision ), '+-', np.std( valprecision ), '\\n' )\n",
    "\n",
    "print( 'Validation Recall' )\n",
    "print( [ '{:0.4f}'.format( x ) for x in valrecall ], np.mean( valrecall ), '+-', np.std( valrecall ), '\\n' )\n",
    "\n",
    "print( 'Validation F1' )\n",
    "print( [ '{:0.4f}'.format( x ) for x in valf1 ], np.mean( valf1 ), '+-', np.std( valf1 ) )"
   ]
  },
  {
   "cell_type": "code",
   "execution_count": 11,
   "metadata": {},
   "outputs": [
    {
     "name": "stdout",
     "output_type": "stream",
     "text": [
      "[[1233  302]\n",
      " [ 162 7036]] \n",
      "\n",
      "[[1236  303]\n",
      " [ 147 7047]] \n",
      "\n",
      "[[1286  253]\n",
      " [ 243 6951]] \n",
      "\n",
      "[[1230  309]\n",
      " [ 138 7056]] \n",
      "\n",
      "[[1226  313]\n",
      " [ 144 7050]] \n",
      "\n"
     ]
    }
   ],
   "source": [
    "for c in valcm:\n",
    "    print( np.rot90(np.rot90(c)), '\\n' )"
   ]
  },
  {
   "cell_type": "code",
   "execution_count": 12,
   "metadata": {},
   "outputs": [
    {
     "name": "stdout",
     "output_type": "stream",
     "text": [
      "Test Accuracy\n",
      "['0.9452', '0.9450', '0.9443', '0.9458', '0.9463'] 0.945335368391029 +- 0.0006569223613173661 \n",
      "\n",
      "Test Precision\n",
      "['0.8900', '0.8879', '0.8472', '0.8947', '0.8884'] 0.881650013360936 +- 0.017385659261730007 \n",
      "\n",
      "Test Recall\n",
      "['0.7939', '0.7950', '0.8427', '0.7919', '0.8022'] 0.8051478479345009 +- 0.019089839731886084 \n",
      "\n",
      "Test F1\n",
      "['0.8392', '0.8389', '0.8449', '0.8402', '0.8431'] 0.8412704963975937 +- 0.002359684272944766\n"
     ]
    }
   ],
   "source": [
    "print( 'Test Accuracy' )\n",
    "print( [ '{:0.4f}'.format( x ) for x in testaccuracy ], np.mean( testaccuracy ), '+-', np.std( testaccuracy ), '\\n' )\n",
    "\n",
    "print( 'Test Precision' )\n",
    "print( [ '{:0.4f}'.format( x ) for x in testprecision ], np.mean( testprecision ), '+-', np.std( testprecision ), '\\n' )\n",
    "\n",
    "print( 'Test Recall' )\n",
    "print( [ '{:0.4f}'.format( x ) for x in testrecall ], np.mean( testrecall ), '+-', np.std( testrecall ), '\\n' )\n",
    "\n",
    "print( 'Test F1' )\n",
    "print( [ '{:0.4f}'.format( x ) for x in testf1 ], np.mean( testf1 ), '+-', np.std( testf1 ) )"
   ]
  },
  {
   "cell_type": "code",
   "execution_count": 13,
   "metadata": {},
   "outputs": [
    {
     "name": "stdout",
     "output_type": "stream",
     "text": [
      "[[ 2080   540]\n",
      " [  257 11678]] \n",
      "\n",
      "[[ 2083   537]\n",
      " [  263 11671]] \n",
      "\n",
      "[[ 2207   412]\n",
      " [  398 11537]] \n",
      "\n",
      "[[ 2074   545]\n",
      " [  244 11691]] \n",
      "\n",
      "[[ 2101   518]\n",
      " [  264 11671]] \n",
      "\n"
     ]
    }
   ],
   "source": [
    "for c in testcm:\n",
    "    print( np.rot90(np.rot90(c)), '\\n' )"
   ]
  },
  {
   "cell_type": "code",
   "execution_count": 14,
   "metadata": {},
   "outputs": [],
   "source": [
    "file = open( '{}/ResultsMain.csv'.format( modelresults ), mode='a' )\n",
    "file.write( modelname )\n",
    "file.write( ',' )\n",
    "file.write( str(np.mean( testaccuracy ))[:7] + '+-' + str(np.std( testaccuracy ))[:6] )\n",
    "file.write( ',' )\n",
    "file.write( str(np.mean( testprecision ))[:7] + '+-' + str(np.std( testprecision ))[:6] )\n",
    "file.write( ',' )\n",
    "file.write( str(np.mean( testrecall ))[:7] + '+-' + str(np.std( testrecall ))[:6] )\n",
    "file.write( ',' )\n",
    "file.write( str(np.mean( testf1 ))[:7] + '+-' + str(np.std( testf1 ))[:6] )\n",
    "file.write( '\\n' )\n",
    "file.close()"
   ]
  },
  {
   "cell_type": "code",
   "execution_count": 15,
   "metadata": {},
   "outputs": [
    {
     "data": {
      "text/plain": [
       "(72771, 4)"
      ]
     },
     "execution_count": 15,
     "metadata": {},
     "output_type": "execute_result"
    }
   ],
   "source": [
    "dfPredictions = pd.DataFrame(  )\n",
    "dfPredictions[ 'comment_indices' ] = com_indices\n",
    "#dfPredictions[ 'comment_text' ] = com_text #comment text\n",
    "dfPredictions[ 'comment_label' ] = com_label\n",
    "dfPredictions[ 'comment_predicted' ] = com_predicted\n",
    "dfPredictions[ 'comment_prob' ] = com_prob\n",
    "dfPredictions.to_csv( '{}/{}.csv'.format( modelresults, modelname ), index=False )\n",
    "dfPredictions.shape"
   ]
  }
 ],
 "metadata": {
  "kernelspec": {
   "display_name": "tf_2.8",
   "language": "python",
   "name": "tf_2.8"
  },
  "language_info": {
   "codemirror_mode": {
    "name": "ipython",
    "version": 3
   },
   "file_extension": ".py",
   "mimetype": "text/x-python",
   "name": "python",
   "nbconvert_exporter": "python",
   "pygments_lexer": "ipython3",
   "version": "3.7.13"
  },
  "varInspector": {
   "cols": {
    "lenName": 16,
    "lenType": 16,
    "lenVar": 40
   },
   "kernels_config": {
    "python": {
     "delete_cmd_postfix": "",
     "delete_cmd_prefix": "del ",
     "library": "var_list.py",
     "varRefreshCmd": "print(var_dic_list())"
    },
    "r": {
     "delete_cmd_postfix": ") ",
     "delete_cmd_prefix": "rm(",
     "library": "var_list.r",
     "varRefreshCmd": "cat(var_dic_list()) "
    }
   },
   "types_to_exclude": [
    "module",
    "function",
    "builtin_function_or_method",
    "instance",
    "_Feature"
   ],
   "window_display": false
  }
 },
 "nbformat": 4,
 "nbformat_minor": 2
}

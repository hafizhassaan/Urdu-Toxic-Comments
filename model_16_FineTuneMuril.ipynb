{
 "cells": [
  {
   "cell_type": "code",
   "execution_count": 1,
   "metadata": {},
   "outputs": [],
   "source": [
    "import warnings\n",
    "warnings.filterwarnings( 'ignore' )\n",
    "\n",
    "import gc\n",
    "import os\n",
    "import time\n",
    "import numpy as np\n",
    "import pandas as pd\n",
    "\n",
    "from sklearn.metrics import accuracy_score, precision_score, recall_score\n",
    "from sklearn.metrics import f1_score, confusion_matrix\n",
    "from sklearn.model_selection import StratifiedKFold, train_test_split\n",
    "\n",
    "import tensorflow as tf\n",
    "from tensorflow.keras import backend as K\n",
    "from tensorflow.keras.models import load_model\n",
    "from tensorflow.keras.preprocessing import text, sequence\n",
    "\n",
    "from contextlib import redirect_stdout\n",
    "from tensorflow.keras.utils import plot_model\n",
    "\n",
    "os.environ['TF_CPP_MIN_LOG_LEVEL'] = '2' # supress tensorflow warnings\n",
    "\n",
    "os.environ[\"CUDA_VISIBLE_DEVICES\"] = \"0\""
   ]
  },
  {
   "cell_type": "code",
   "execution_count": 2,
   "metadata": {},
   "outputs": [],
   "source": [
    "import All_UT_Models\n",
    "import UT_Utils"
   ]
  },
  {
   "cell_type": "code",
   "execution_count": 3,
   "metadata": {},
   "outputs": [],
   "source": [
    "# hyper parameters for this model\n",
    "\n",
    "MAX_LEN = 91\n",
    "EMBED_SIZE = 768\n",
    "BERT_TRAINABLE = True\n",
    "\n",
    "DRPT = 0.4\n",
    "FC_WEIGHTS_INIT = 'he_uniform'\n",
    "FC_ACT = 'elu'\n",
    "LR_RATE = 9e-6\n",
    "OPTIMIZER = 'adam'\n",
    "\n",
    "BATCH = 32\n",
    "NEPOCHS = 20\n",
    "PATIENCE = 4\n",
    "DECAY = True\n",
    "DECAY_RATE = 0.3\n",
    "DECAY_AFTER = 1"
   ]
  },
  {
   "cell_type": "code",
   "execution_count": 4,
   "metadata": {},
   "outputs": [],
   "source": [
    "modelname = 'hfFineTuneMuril'\n",
    "\n",
    "modelpath = './Saved Models/' + modelname + '/'\n",
    "modelresults = './Model Results'\n",
    "modelsummaries = './Model - Summaries-Figures'\n",
    "\n",
    "DIRECTORIES_TO_BE_CREATED = [ modelpath, modelresults, modelsummaries ]\n",
    "for directory in DIRECTORIES_TO_BE_CREATED:\n",
    "    if not os.path.exists( directory ):\n",
    "        os.makedirs( directory )"
   ]
  },
  {
   "cell_type": "code",
   "execution_count": 5,
   "metadata": {},
   "outputs": [
    {
     "data": {
      "text/plain": [
       "'./Embeddings/huggingface/google/muril-base-cased/'"
      ]
     },
     "execution_count": 5,
     "metadata": {},
     "output_type": "execute_result"
    }
   ],
   "source": [
    "bertmodelname = 'google/muril-base-cased'\n",
    "\n",
    "hfcachedir = './Embeddings/huggingface/{}/'.format( bertmodelname )\n",
    "hfcachedir"
   ]
  },
  {
   "cell_type": "code",
   "execution_count": 6,
   "metadata": {},
   "outputs": [],
   "source": [
    "def hms_string( sec_elapsed ):\n",
    "    h = int(sec_elapsed / (60 * 60))\n",
    "    m = int((sec_elapsed % (60 * 60)) / 60)\n",
    "    s = sec_elapsed % 60\n",
    "    return \"{} hrs {:>02} mins {:>05.2f} secs\".format( h, m, s )"
   ]
  },
  {
   "cell_type": "code",
   "execution_count": 7,
   "metadata": {},
   "outputs": [
    {
     "data": {
      "text/plain": [
       "(72771, 3)"
      ]
     },
     "execution_count": 7,
     "metadata": {},
     "output_type": "execute_result"
    }
   ],
   "source": [
    "sheets = [ pd.read_excel( 'RUT_UT_Comments.xlsx', 'Sheet1' ), pd.read_excel( 'RUT_UT_Comments.xlsx', 'Sheet2' ) ]\n",
    "df = pd.concat( sheets )\n",
    "df.reset_index( drop=True, inplace=True )\n",
    "\n",
    "df.Urdu = df.Urdu.astype( 'str' )\n",
    "df.Urdu = df.Urdu.apply( UT_Utils.urdu_preprocessing )\n",
    "\n",
    "df.dropna( inplace=True )\n",
    "df.reset_index( drop=True, inplace=True )\n",
    "\n",
    "del sheets\n",
    "gc.collect()\n",
    "\n",
    "xcolumn = 'Urdu'\n",
    "ycolumn = 'Toxic'\n",
    "\n",
    "df.shape"
   ]
  },
  {
   "cell_type": "code",
   "execution_count": 8,
   "metadata": {},
   "outputs": [],
   "source": [
    "from tensorflow.keras.layers import Dropout, Dense\n",
    "from tensorflow.keras.models import Model\n",
    "\n",
    "def FineTuneBertWithDenseLayer(\n",
    "    bert_model, max_len=128, drpt=0.1, fc_weights_init='', fc_act='', optimizer='' ):\n",
    "    \n",
    "    input_ids_in = tf.keras.layers.Input( shape=( max_len, ), dtype='int32' )\n",
    "    input_masks_in = tf.keras.layers.Input( shape=( max_len, ), dtype='int32' )\n",
    "    \n",
    "    embedding_layer = bert_model( input_ids_in, attention_mask=input_masks_in )[ 1 ]\n",
    "    \n",
    "    d = Dropout( drpt )( embedding_layer )\n",
    "    d = Dense( 768, activation=fc_act, kernel_initializer=fc_weights_init )( d )\n",
    "    outp = Dense( 1, activation='sigmoid' )( d )\n",
    "    \n",
    "    model = Model( inputs=[ input_ids_in, input_masks_in ], outputs=outp )\n",
    "    \n",
    "    model.compile(\n",
    "        loss='binary_crossentropy',\n",
    "        optimizer=optimizer,\n",
    "        metrics=['accuracy']\n",
    "    )\n",
    "    return model"
   ]
  },
  {
   "cell_type": "code",
   "execution_count": 9,
   "metadata": {},
   "outputs": [],
   "source": [
    "from transformers import AutoTokenizer, AutoConfig, TFAutoModel\n",
    "from transformers import utils\n",
    "utils.logging.set_verbosity( 40 ) # supress huggingface warnings\n",
    "os.environ[ \"TOKENIZERS_PARALLELISM\" ] = \"false\" # disabling tokenizers parallelism to avoid deadlocks"
   ]
  },
  {
   "cell_type": "code",
   "execution_count": 10,
   "metadata": {},
   "outputs": [],
   "source": [
    "# initialize bert tokenizer\n",
    "BERT_TOKENIZER = AutoTokenizer.from_pretrained( bertmodelname )\n",
    "\n",
    "# define function to tokenize input Urdu comments using bert tokenizer\n",
    "def get_tokens_and_masks( bert_tokenizer, sentences, max_length=128, padding='max_length' ):\n",
    "    encoded_input = bert_tokenizer(\n",
    "        sentences,\n",
    "        add_special_tokens=True,\n",
    "        max_length=max_length,\n",
    "        padding=padding,\n",
    "        truncation=True,\n",
    "        return_attention_mask = True\n",
    "    )\n",
    "    return np.array( encoded_input[ 'input_ids' ] ), np.array( encoded_input[ 'attention_mask' ] )"
   ]
  },
  {
   "cell_type": "code",
   "execution_count": 11,
   "metadata": {},
   "outputs": [
    {
     "data": {
      "text/plain": [
       "BertConfig {\n",
       "  \"_name_or_path\": \"google/muril-base-cased\",\n",
       "  \"architectures\": [\n",
       "    \"BertForMaskedLM\"\n",
       "  ],\n",
       "  \"attention_probs_dropout_prob\": 0.1,\n",
       "  \"classifier_dropout\": null,\n",
       "  \"embedding_size\": 768,\n",
       "  \"hidden_act\": \"gelu\",\n",
       "  \"hidden_dropout_prob\": 0.1,\n",
       "  \"hidden_size\": 768,\n",
       "  \"initializer_range\": 0.02,\n",
       "  \"intermediate_size\": 3072,\n",
       "  \"layer_norm_eps\": 1e-12,\n",
       "  \"max_position_embeddings\": 512,\n",
       "  \"model_type\": \"bert\",\n",
       "  \"num_attention_heads\": 12,\n",
       "  \"num_hidden_layers\": 12,\n",
       "  \"pad_token_id\": 0,\n",
       "  \"position_embedding_type\": \"absolute\",\n",
       "  \"transformers_version\": \"4.20.1\",\n",
       "  \"type_vocab_size\": 2,\n",
       "  \"use_cache\": true,\n",
       "  \"vocab_size\": 197285\n",
       "}"
      ]
     },
     "execution_count": 11,
     "metadata": {},
     "output_type": "execute_result"
    }
   ],
   "source": [
    "BERT_CONFIG = AutoConfig.from_pretrained( bertmodelname )\n",
    "BERT_CONFIG"
   ]
  },
  {
   "cell_type": "code",
   "execution_count": 12,
   "metadata": {},
   "outputs": [
    {
     "name": "stdout",
     "output_type": "stream",
     "text": [
      "StratifiedKFold(n_splits=5, random_state=0, shuffle=True)\n"
     ]
    }
   ],
   "source": [
    "skf = StratifiedKFold( n_splits=5, random_state=0, shuffle=True )\n",
    "print(skf)"
   ]
  },
  {
   "cell_type": "code",
   "execution_count": 13,
   "metadata": {},
   "outputs": [
    {
     "name": "stdout",
     "output_type": "stream",
     "text": [
      "Local System Time: 01:19 PM\n",
      "Epoch: 001 --LR: 9e-06 --MaxValF1: 0.8684035 --CurValF1: 0.8684035 --Patience: 01 --F1 improved: 0.8684035\n",
      "Epoch: 002 --LR: 9e-06 --MaxValF1: 0.8832621 --CurValF1: 0.8832621 --Patience: 01 --F1 improved: 0.8832621\n",
      "Epoch: 003 --LR: 9e-06 --MaxValF1: 0.8919631 --CurValF1: 0.8919631 --Patience: 01 --F1 improved: 0.8919631\n",
      "Epoch: 004 --LR: 9e-06 --MaxValF1: 0.8957633 --CurValF1: 0.8957633 --Patience: 01 --F1 improved: 0.8957633\n",
      "Epoch: 005 --LR: 9e-06 --MaxValF1: 0.8957633 --CurValF1: 0.8947196 --Patience: 01\n",
      "Epoch: 006 --LR: 3e-06 --MaxValF1: 0.8968228 --CurValF1: 0.8968228 --Patience: 02 --F1 improved: 0.8968228\n",
      "Epoch: 007 --LR: 3e-06 --MaxValF1: 0.8968228 --CurValF1: 0.8964622 --Patience: 01\n",
      "Epoch: 008 --LR: 8e-07 --MaxValF1: 0.8968668 --CurValF1: 0.8968668 --Patience: 02 --F1 improved: 0.8968668\n",
      "Epoch: 009 --LR: 8e-07 --MaxValF1: 0.8978389 --CurValF1: 0.8978389 --Patience: 01 --F1 improved: 0.8978389\n",
      "Epoch: 010 --LR: 8e-07 --MaxValF1: 0.8980124 --CurValF1: 0.8980124 --Patience: 01 --F1 improved: 0.8980124\n",
      "Epoch: 011 --LR: 8e-07 --MaxValF1: 0.8985036 --CurValF1: 0.8985036 --Patience: 01 --F1 improved: 0.8985036\n",
      "Epoch: 012 --LR: 8e-07 --MaxValF1: 0.8985318 --CurValF1: 0.8985318 --Patience: 01 --F1 improved: 0.8985318\n",
      "Epoch: 013 --LR: 8e-07 --MaxValF1: 0.8985318 --CurValF1: 0.8982775 --Patience: 01\n",
      "Epoch: 014 --LR: 2e-07 --MaxValF1: 0.8985318 --CurValF1: 0.8985318 --Patience: 02\n",
      "Epoch: 015 --LR: 7e-08 --MaxValF1: 0.8985318 --CurValF1: 0.8983713 --Patience: 03\n",
      "Epoch: 016 --LR: 2e-08 --MaxValF1: 0.8985318 --CurValF1: 0.8985318 --Patience: 04\n",
      "Training stopped due to the patience parameter. --Patience: 04\n",
      "Fold: 01 out of 05 completed.\n",
      "Local System Time: 03:27 PM\n",
      "Epoch: 001 --LR: 9e-06 --MaxValF1: 0.8570454 --CurValF1: 0.8570454 --Patience: 01 --F1 improved: 0.8570454\n",
      "Epoch: 002 --LR: 9e-06 --MaxValF1: 0.8879165 --CurValF1: 0.8879165 --Patience: 01 --F1 improved: 0.8879165\n",
      "Epoch: 003 --LR: 9e-06 --MaxValF1: 0.8966667 --CurValF1: 0.8966667 --Patience: 01 --F1 improved: 0.8966667\n",
      "Epoch: 004 --LR: 9e-06 --MaxValF1: 0.8978638 --CurValF1: 0.8978638 --Patience: 01 --F1 improved: 0.8978638\n",
      "Epoch: 005 --LR: 9e-06 --MaxValF1: 0.9025778 --CurValF1: 0.9025778 --Patience: 01 --F1 improved: 0.9025778\n",
      "Epoch: 006 --LR: 9e-06 --MaxValF1: 0.9025778 --CurValF1: 0.9024869 --Patience: 01\n",
      "Epoch: 007 --LR: 3e-06 --MaxValF1: 0.9025778 --CurValF1: 0.9020772 --Patience: 02\n",
      "Epoch: 008 --LR: 8e-07 --MaxValF1: 0.9040554 --CurValF1: 0.9040554 --Patience: 03 --F1 improved: 0.9040554\n",
      "Epoch: 009 --LR: 8e-07 --MaxValF1: 0.9040554 --CurValF1: 0.9034185 --Patience: 01\n",
      "Epoch: 010 --LR: 2e-07 --MaxValF1: 0.9040554 --CurValF1: 0.9035466 --Patience: 02\n",
      "Epoch: 011 --LR: 7e-08 --MaxValF1: 0.9040554 --CurValF1: 0.9034853 --Patience: 03\n",
      "Epoch: 012 --LR: 2e-08 --MaxValF1: 0.9040554 --CurValF1: 0.9035702 --Patience: 04\n",
      "Training stopped due to the patience parameter. --Patience: 04\n",
      "Fold: 02 out of 05 completed.\n",
      "Local System Time: 05:03 PM\n",
      "Epoch: 001 --LR: 9e-06 --MaxValF1: 0.8757043 --CurValF1: 0.8757043 --Patience: 01 --F1 improved: 0.8757043\n",
      "Epoch: 002 --LR: 9e-06 --MaxValF1: 0.8964605 --CurValF1: 0.8964605 --Patience: 01 --F1 improved: 0.8964605\n",
      "Epoch: 003 --LR: 9e-06 --MaxValF1: 0.9056852 --CurValF1: 0.9056852 --Patience: 01 --F1 improved: 0.9056852\n",
      "Epoch: 004 --LR: 9e-06 --MaxValF1: 0.9056852 --CurValF1: 0.9035499 --Patience: 01\n",
      "Epoch: 005 --LR: 3e-06 --MaxValF1: 0.9059829 --CurValF1: 0.9059829 --Patience: 02 --F1 improved: 0.9059829\n",
      "Epoch: 006 --LR: 3e-06 --MaxValF1: 0.9073043 --CurValF1: 0.9073043 --Patience: 01 --F1 improved: 0.9073043\n",
      "Epoch: 007 --LR: 3e-06 --MaxValF1: 0.9073043 --CurValF1: 0.9026316 --Patience: 01\n",
      "Epoch: 008 --LR: 8e-07 --MaxValF1: 0.9073043 --CurValF1: 0.9041555 --Patience: 02\n",
      "Epoch: 009 --LR: 2e-07 --MaxValF1: 0.9073043 --CurValF1: 0.9046817 --Patience: 03\n",
      "Epoch: 010 --LR: 7e-08 --MaxValF1: 0.9073043 --CurValF1: 0.9041278 --Patience: 04\n",
      "Training stopped due to the patience parameter. --Patience: 04\n",
      "Fold: 03 out of 05 completed.\n",
      "Local System Time: 06:23 PM\n",
      "Epoch: 001 --LR: 9e-06 --MaxValF1: 0.8810397 --CurValF1: 0.8810397 --Patience: 01 --F1 improved: 0.8810397\n",
      "Epoch: 002 --LR: 9e-06 --MaxValF1: 0.9003021 --CurValF1: 0.9003021 --Patience: 01 --F1 improved: 0.9003021\n",
      "Epoch: 003 --LR: 9e-06 --MaxValF1: 0.9036304 --CurValF1: 0.9036304 --Patience: 01 --F1 improved: 0.9036304\n",
      "Epoch: 004 --LR: 9e-06 --MaxValF1: 0.9113674 --CurValF1: 0.9113674 --Patience: 01 --F1 improved: 0.9113674\n",
      "Epoch: 005 --LR: 9e-06 --MaxValF1: 0.9113674 --CurValF1: 0.9078062 --Patience: 01\n",
      "Epoch: 006 --LR: 3e-06 --MaxValF1: 0.9113674 --CurValF1: 0.9068564 --Patience: 02\n",
      "Epoch: 007 --LR: 8e-07 --MaxValF1: 0.9113674 --CurValF1: 0.9108717 --Patience: 03\n",
      "Epoch: 008 --LR: 2e-07 --MaxValF1: 0.9113674 --CurValF1: 0.9101013 --Patience: 04\n",
      "Training stopped due to the patience parameter. --Patience: 04\n",
      "Fold: 04 out of 05 completed.\n",
      "Local System Time: 07:28 PM\n",
      "Epoch: 001 --LR: 9e-06 --MaxValF1: 0.8836136 --CurValF1: 0.8836136 --Patience: 01 --F1 improved: 0.8836136\n",
      "Epoch: 002 --LR: 9e-06 --MaxValF1: 0.8997684 --CurValF1: 0.8997684 --Patience: 01 --F1 improved: 0.8997684\n",
      "Epoch: 003 --LR: 9e-06 --MaxValF1: 0.9095159 --CurValF1: 0.9095159 --Patience: 01 --F1 improved: 0.9095159\n",
      "Epoch: 004 --LR: 9e-06 --MaxValF1: 0.9102859 --CurValF1: 0.9102859 --Patience: 01 --F1 improved: 0.9102859\n",
      "Epoch: 005 --LR: 9e-06 --MaxValF1: 0.9102859 --CurValF1: 0.9098250 --Patience: 01\n",
      "Epoch: 006 --LR: 3e-06 --MaxValF1: 0.9145527 --CurValF1: 0.9145527 --Patience: 02 --F1 improved: 0.9145527\n",
      "Epoch: 007 --LR: 3e-06 --MaxValF1: 0.9145527 --CurValF1: 0.9132720 --Patience: 01\n",
      "Epoch: 008 --LR: 8e-07 --MaxValF1: 0.9145527 --CurValF1: 0.9141330 --Patience: 02\n",
      "Epoch: 009 --LR: 2e-07 --MaxValF1: 0.9146097 --CurValF1: 0.9146097 --Patience: 03 --F1 improved: 0.9146097\n",
      "Epoch: 010 --LR: 2e-07 --MaxValF1: 0.9146097 --CurValF1: 0.9128989 --Patience: 01\n",
      "Epoch: 011 --LR: 7e-08 --MaxValF1: 0.9146097 --CurValF1: 0.9132025 --Patience: 02\n",
      "Epoch: 012 --LR: 2e-08 --MaxValF1: 0.9146097 --CurValF1: 0.9128989 --Patience: 03\n",
      "Epoch: 013 --LR: 7e-09 --MaxValF1: 0.9146097 --CurValF1: 0.9128989 --Patience: 04\n",
      "Training stopped due to the patience parameter. --Patience: 04\n",
      "Fold: 05 out of 05 completed.\n",
      "Local System Time: 09:12 PM\n",
      "Total runtime: 7 hrs 52 mins 47.59 secs\n"
     ]
    }
   ],
   "source": [
    "warnings.filterwarnings( 'ignore' )\n",
    "start_time = time.time()\n",
    "print( 'Local System Time: {}'.format( time.strftime( \"%I:%M %p\", time.localtime() ) ) )\n",
    "\n",
    "valaccuracy, valprecision, valrecall, valf1, valcm = [], [], [], [], []\n",
    "testaccuracy, testprecision, testrecall, testf1, testcm = [], [], [], [], []\n",
    "com_text, com_label, com_predicted, com_prob = [], [], [], []\n",
    "com_indices = []\n",
    "hist = {}\n",
    "\n",
    "fold = 1\n",
    "for train_index, test_index in skf.split( df[ xcolumn ], df[ ycolumn ] ):\n",
    "    # seprating train and test sets\n",
    "    xtrain = df.loc[ train_index ][ xcolumn ].values\n",
    "    xtest = df.loc[ test_index ][ xcolumn ].values\n",
    "    \n",
    "    ytrain = df.loc[ train_index ][ ycolumn ].values\n",
    "    ytest = df.loc[ test_index ][ ycolumn ].values\n",
    "    \n",
    "    # splitting train and validation sets\n",
    "    xtrain, xval, ytrain, yval = train_test_split( xtrain, ytrain, test_size=0.15, random_state=0 )\n",
    "    \n",
    "    xtrain_input_ids, xtrain_attention_masks = get_tokens_and_masks(\n",
    "        BERT_TOKENIZER, xtrain.tolist(), max_length=MAX_LEN, padding='max_length'\n",
    "    )\n",
    "    \n",
    "    xval_input_ids, xval_attention_masks = get_tokens_and_masks(\n",
    "        BERT_TOKENIZER, xval.tolist(), max_length=MAX_LEN, padding='max_length'\n",
    "    )\n",
    "    \n",
    "    xtest_input_ids, xtest_attention_masks = get_tokens_and_masks(\n",
    "        BERT_TOKENIZER, xtest.tolist(), max_length=MAX_LEN, padding='max_length'\n",
    "    )\n",
    "    \n",
    "    # instantiate bert model\n",
    "    BERT_MODEL = TFAutoModel.from_pretrained( bertmodelname, config=BERT_CONFIG, cache_dir=hfcachedir )\n",
    "    BERT_MODEL.trainable = BERT_TRAINABLE\n",
    "    \n",
    "    # define a model\n",
    "    model = FineTuneBertWithDenseLayer(\n",
    "        bert_model=BERT_MODEL,\n",
    "        max_len=MAX_LEN, drpt=DRPT, fc_weights_init=FC_WEIGHTS_INIT, fc_act=FC_ACT, optimizer=OPTIMIZER\n",
    "    )\n",
    "    \n",
    "    # save model summaries and model architecture diagrams in the first fold only\n",
    "    if fold == 1:\n",
    "        plot_model( model=model, to_file='{}/{}.png'.format( modelsummaries, modelname ), show_shapes=False )\n",
    "        \n",
    "        with open( '{}/{}.txt'.format( modelsummaries, modelname ), 'w' ) as s:\n",
    "            with redirect_stdout( s ):\n",
    "                model.summary()\n",
    "    \n",
    "    K.set_value( model.optimizer.lr, LR_RATE )\n",
    "    \n",
    "    # train the model with callbacks for early stopping\n",
    "    f1callback = UT_Utils.F1_score_callback_HF(\n",
    "        val_data=( xval_input_ids, xval_attention_masks, yval ),\n",
    "        filepath=modelpath + modelname + str( fold ), patience=PATIENCE,\n",
    "        decay=DECAY, decay_rate=DECAY_RATE, decay_after=DECAY_AFTER\n",
    "    )\n",
    "    histmodel = model.fit(\n",
    "        [ xtrain_input_ids, xtrain_attention_masks ], ytrain,\n",
    "        batch_size=BATCH, epochs=NEPOCHS, verbose=0, callbacks=[ f1callback ]\n",
    "    )\n",
    "    \n",
    "    # save history of all folds\n",
    "    hist[ 'fold' + str( fold ) ] = histmodel.history.copy()\n",
    "    \n",
    "    hffinetuned = './Embeddings/hf_finetuned/{}-fold{}/'.format( bertmodelname, fold )\n",
    "    BERT_MODEL.save_pretrained( hffinetuned )\n",
    "    \n",
    "    # delete trained model object\n",
    "    del model, histmodel, f1callback, BERT_MODEL\n",
    "    K.clear_session()\n",
    "    gc.collect()\n",
    "    \n",
    "    # load saved model\n",
    "    FINETUNED_BERT_MODEL = TFAutoModel.from_pretrained( hffinetuned, config=BERT_CONFIG, cache_dir=hfcachedir )\n",
    "    FINETUNED_BERT_MODEL.trainable = False\n",
    "    loaded_model = load_model(\n",
    "        modelpath + modelname + str( fold ),\n",
    "        custom_objects={ 'TFBertModel': FINETUNED_BERT_MODEL }\n",
    "    )\n",
    "    \n",
    "    # get predictions (probabilities) for validation and test sets respectively\n",
    "    valpredictions = loaded_model.predict(\n",
    "        [ xval_input_ids, xval_attention_masks ], verbose=0, batch_size=BATCH\n",
    "    )\n",
    "    testpredictions = loaded_model.predict(\n",
    "        [ xtest_input_ids, xtest_attention_masks ], verbose=0, batch_size=BATCH\n",
    "    )\n",
    "    \n",
    "    # delete loaded model\n",
    "    del loaded_model, FINETUNED_BERT_MODEL\n",
    "    K.clear_session()\n",
    "    gc.collect()\n",
    "    \n",
    "    # optimizer threshold on validation set\n",
    "    threshold = UT_Utils.optimize_threshold( yval, valpredictions )\n",
    "    \n",
    "    # save accuracy, precision, recall, f1 and confusion matrices\n",
    "    vallabels = ( valpredictions >= threshold ).astype( 'int32' )\n",
    "    testlabels = ( testpredictions >= threshold ).astype( 'int32' )\n",
    "    \n",
    "    valaccuracy.append( accuracy_score( yval, vallabels ) )\n",
    "    valprecision.append( precision_score( yval, vallabels ) )\n",
    "    valrecall.append( recall_score( yval, vallabels ) )\n",
    "    valf1.append( f1_score( yval, vallabels ) )\n",
    "    valcm.append( confusion_matrix( yval, vallabels ) )    \n",
    "    \n",
    "    testaccuracy.append( accuracy_score( ytest, testlabels ) )\n",
    "    testprecision.append( precision_score( ytest, testlabels ) )\n",
    "    testrecall.append( recall_score( ytest, testlabels ) )\n",
    "    testf1.append( f1_score( ytest, testlabels ) )\n",
    "    testcm.append( confusion_matrix( ytest, testlabels ) )\n",
    "    \n",
    "    # save for future analysis and ensemble\n",
    "    com_indices.extend( test_index.tolist() )\n",
    "    com_text.extend( df.loc[ test_index ][ xcolumn ] )\n",
    "    com_label.extend( df.loc[ test_index ][ ycolumn ].tolist() )\n",
    "    com_predicted.extend( testlabels[:,0].tolist() )\n",
    "    com_prob.extend( testpredictions[:,0].tolist() )\n",
    "    \n",
    "    print( 'Fold: {:02d} out of {:02d} completed.'.format( fold, skf.get_n_splits() ) )\n",
    "    print( 'Local System Time: {}'.format( time.strftime( \"%I:%M %p\", time.localtime() ) ) )\n",
    "    \n",
    "    fold = fold + 1\n",
    "time_took = time.time() - start_time\n",
    "print( f\"Total runtime: { hms_string( time_took ) }\" )"
   ]
  },
  {
   "cell_type": "code",
   "execution_count": 14,
   "metadata": {},
   "outputs": [
    {
     "name": "stdout",
     "output_type": "stream",
     "text": [
      "Validation Accuracy\n",
      "['0.9644', '0.9667', '0.9676', '0.9692', '0.9707'] 0.9677086911714188 +- 0.002153241135654303 \n",
      "\n",
      "Validation Precision\n",
      "['0.9000', '0.9177', '0.9148', '0.9245', '0.9397'] 0.9193231766633939 +- 0.012943346950544396 \n",
      "\n",
      "Validation Recall\n",
      "['0.8971', '0.8908', '0.8999', '0.8986', '0.8908'] 0.8954630634978085 +- 0.0038837700905821914 \n",
      "\n",
      "Validation F1\n",
      "['0.8985', '0.9041', '0.9073', '0.9114', '0.9146'] 0.9071737225434253 +- 0.005609007065596768\n"
     ]
    }
   ],
   "source": [
    "print( 'Validation Accuracy' )\n",
    "print( [ '{:0.4f}'.format( x ) for x in valaccuracy ], np.mean( valaccuracy ), '+-', np.std( valaccuracy ), '\\n' )\n",
    "\n",
    "print( 'Validation Precision' )\n",
    "print( [ '{:0.4f}'.format( x ) for x in valprecision ], np.mean( valprecision ), '+-', np.std( valprecision ), '\\n' )\n",
    "\n",
    "print( 'Validation Recall' )\n",
    "print( [ '{:0.4f}'.format( x ) for x in valrecall ], np.mean( valrecall ), '+-', np.std( valrecall ), '\\n' )\n",
    "\n",
    "print( 'Validation F1' )\n",
    "print( [ '{:0.4f}'.format( x ) for x in valf1 ], np.mean( valf1 ), '+-', np.std( valf1 ) )"
   ]
  },
  {
   "cell_type": "code",
   "execution_count": 15,
   "metadata": {},
   "outputs": [
    {
     "name": "stdout",
     "output_type": "stream",
     "text": [
      "[[1377  158]\n",
      " [ 153 7045]] \n",
      "\n",
      "[[1371  168]\n",
      " [ 123 7071]] \n",
      "\n",
      "[[1385  154]\n",
      " [ 129 7065]] \n",
      "\n",
      "[[1383  156]\n",
      " [ 113 7081]] \n",
      "\n",
      "[[1371  168]\n",
      " [  88 7106]] \n",
      "\n"
     ]
    }
   ],
   "source": [
    "for c in valcm:\n",
    "    print( np.rot90(np.rot90(c)), '\\n' )"
   ]
  },
  {
   "cell_type": "code",
   "execution_count": 16,
   "metadata": {},
   "outputs": [
    {
     "name": "stdout",
     "output_type": "stream",
     "text": [
      "Test Accuracy\n",
      "['0.9661', '0.9656', '0.9683', '0.9674', '0.9641'] 0.9662777784832587 +- 0.0014447280648345183 \n",
      "\n",
      "Test Precision\n",
      "['0.9222', '0.9170', '0.9029', '0.9224', '0.9246'] 0.9178092900677532 +- 0.007874943488445902 \n",
      "\n",
      "Test Recall\n",
      "['0.8863', '0.8897', '0.9229', '0.8939', '0.8713'] 0.8928006144178333 +- 0.016846316066225133 \n",
      "\n",
      "Test F1\n",
      "['0.9039', '0.9031', '0.9128', '0.9079', '0.8972'] 0.9049674813554429 +- 0.005185319059092604\n"
     ]
    }
   ],
   "source": [
    "print( 'Test Accuracy' )\n",
    "print( [ '{:0.4f}'.format( x ) for x in testaccuracy ], np.mean( testaccuracy ), '+-', np.std( testaccuracy ), '\\n' )\n",
    "\n",
    "print( 'Test Precision' )\n",
    "print( [ '{:0.4f}'.format( x ) for x in testprecision ], np.mean( testprecision ), '+-', np.std( testprecision ), '\\n' )\n",
    "\n",
    "print( 'Test Recall' )\n",
    "print( [ '{:0.4f}'.format( x ) for x in testrecall ], np.mean( testrecall ), '+-', np.std( testrecall ), '\\n' )\n",
    "\n",
    "print( 'Test F1' )\n",
    "print( [ '{:0.4f}'.format( x ) for x in testf1 ], np.mean( testf1 ), '+-', np.std( testf1 ) )"
   ]
  },
  {
   "cell_type": "code",
   "execution_count": 17,
   "metadata": {},
   "outputs": [
    {
     "name": "stdout",
     "output_type": "stream",
     "text": [
      "[[ 2322   298]\n",
      " [  196 11739]] \n",
      "\n",
      "[[ 2331   289]\n",
      " [  211 11723]] \n",
      "\n",
      "[[ 2417   202]\n",
      " [  260 11675]] \n",
      "\n",
      "[[ 2341   278]\n",
      " [  197 11738]] \n",
      "\n",
      "[[ 2282   337]\n",
      " [  186 11749]] \n",
      "\n"
     ]
    }
   ],
   "source": [
    "for c in testcm:\n",
    "    print( np.rot90(np.rot90(c)), '\\n' )"
   ]
  },
  {
   "cell_type": "code",
   "execution_count": 18,
   "metadata": {},
   "outputs": [],
   "source": [
    "file = open( '{}/ResultsMain.csv'.format( modelresults ), mode='a' )\n",
    "file.write( modelname )\n",
    "file.write( ',' )\n",
    "file.write( str(np.mean( testaccuracy ))[:7] + '+-' + str(np.std( testaccuracy ))[:6] )\n",
    "file.write( ',' )\n",
    "file.write( str(np.mean( testprecision ))[:7] + '+-' + str(np.std( testprecision ))[:6] )\n",
    "file.write( ',' )\n",
    "file.write( str(np.mean( testrecall ))[:7] + '+-' + str(np.std( testrecall ))[:6] )\n",
    "file.write( ',' )\n",
    "file.write( str(np.mean( testf1 ))[:7] + '+-' + str(np.std( testf1 ))[:6] )\n",
    "file.write( '\\n' )\n",
    "file.close()"
   ]
  },
  {
   "cell_type": "code",
   "execution_count": 19,
   "metadata": {},
   "outputs": [
    {
     "data": {
      "text/plain": [
       "(72771, 4)"
      ]
     },
     "execution_count": 19,
     "metadata": {},
     "output_type": "execute_result"
    }
   ],
   "source": [
    "dfPredictions = pd.DataFrame(  )\n",
    "dfPredictions[ 'comment_indices' ] = com_indices\n",
    "#dfPredictions[ 'comment_text' ] = com_text #comment text\n",
    "dfPredictions[ 'comment_label' ] = com_label\n",
    "dfPredictions[ 'comment_predicted' ] = com_predicted\n",
    "dfPredictions[ 'comment_prob' ] = com_prob\n",
    "dfPredictions.to_csv( '{}/{}.csv'.format( modelresults, modelname ), index=False )\n",
    "dfPredictions.shape"
   ]
  }
 ],
 "metadata": {
  "kernelspec": {
   "display_name": "tf_2.8",
   "language": "python",
   "name": "tf_2.8"
  },
  "language_info": {
   "codemirror_mode": {
    "name": "ipython",
    "version": 3
   },
   "file_extension": ".py",
   "mimetype": "text/x-python",
   "name": "python",
   "nbconvert_exporter": "python",
   "pygments_lexer": "ipython3",
   "version": "3.7.13"
  },
  "varInspector": {
   "cols": {
    "lenName": 16,
    "lenType": 16,
    "lenVar": 40
   },
   "kernels_config": {
    "python": {
     "delete_cmd_postfix": "",
     "delete_cmd_prefix": "del ",
     "library": "var_list.py",
     "varRefreshCmd": "print(var_dic_list())"
    },
    "r": {
     "delete_cmd_postfix": ") ",
     "delete_cmd_prefix": "rm(",
     "library": "var_list.r",
     "varRefreshCmd": "cat(var_dic_list()) "
    }
   },
   "types_to_exclude": [
    "module",
    "function",
    "builtin_function_or_method",
    "instance",
    "_Feature"
   ],
   "window_display": false
  }
 },
 "nbformat": 4,
 "nbformat_minor": 2
}

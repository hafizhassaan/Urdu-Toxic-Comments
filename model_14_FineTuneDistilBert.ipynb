{
 "cells": [
  {
   "cell_type": "code",
   "execution_count": 1,
   "metadata": {},
   "outputs": [],
   "source": [
    "import warnings\n",
    "warnings.filterwarnings( 'ignore' )\n",
    "\n",
    "import gc\n",
    "import os\n",
    "import time\n",
    "import numpy as np\n",
    "import pandas as pd\n",
    "\n",
    "from sklearn.metrics import accuracy_score, precision_score, recall_score\n",
    "from sklearn.metrics import f1_score, confusion_matrix\n",
    "from sklearn.model_selection import StratifiedKFold, train_test_split\n",
    "\n",
    "import tensorflow as tf\n",
    "from tensorflow.keras import backend as K\n",
    "from tensorflow.keras.models import load_model\n",
    "from tensorflow.keras.preprocessing import text, sequence\n",
    "\n",
    "from contextlib import redirect_stdout\n",
    "from tensorflow.keras.utils import plot_model\n",
    "\n",
    "os.environ['TF_CPP_MIN_LOG_LEVEL'] = '2' # supress tensorflow warnings\n",
    "\n",
    "os.environ[\"CUDA_VISIBLE_DEVICES\"] = \"0\""
   ]
  },
  {
   "cell_type": "code",
   "execution_count": 2,
   "metadata": {},
   "outputs": [],
   "source": [
    "import All_UT_Models\n",
    "import UT_Utils"
   ]
  },
  {
   "cell_type": "code",
   "execution_count": 3,
   "metadata": {},
   "outputs": [],
   "source": [
    "# hyper parameters for this model\n",
    "\n",
    "MAX_LEN = 130\n",
    "EMBED_SIZE = 768\n",
    "BERT_TRAINABLE = True\n",
    "\n",
    "DRPT = 0.4\n",
    "FC_WEIGHTS_INIT = 'he_uniform'\n",
    "FC_ACT = 'elu'\n",
    "LR_RATE = 9e-6\n",
    "OPTIMIZER = 'adam'\n",
    "\n",
    "BATCH = 32\n",
    "NEPOCHS = 20\n",
    "PATIENCE = 4\n",
    "DECAY = True\n",
    "DECAY_RATE = 0.3\n",
    "DECAY_AFTER = 1"
   ]
  },
  {
   "cell_type": "code",
   "execution_count": 4,
   "metadata": {},
   "outputs": [],
   "source": [
    "modelname = 'hfFineTuneDistilBert'\n",
    "\n",
    "modelpath = './Saved Models/' + modelname + '/'\n",
    "modelresults = './Model Results'\n",
    "modelsummaries = './Model - Summaries-Figures'\n",
    "\n",
    "DIRECTORIES_TO_BE_CREATED = [ modelpath, modelresults, modelsummaries ]\n",
    "for directory in DIRECTORIES_TO_BE_CREATED:\n",
    "    if not os.path.exists( directory ):\n",
    "        os.makedirs( directory )"
   ]
  },
  {
   "cell_type": "code",
   "execution_count": 5,
   "metadata": {},
   "outputs": [
    {
     "data": {
      "text/plain": [
       "'./Embeddings/huggingface/distilbert-base-multilingual-cased/'"
      ]
     },
     "execution_count": 5,
     "metadata": {},
     "output_type": "execute_result"
    }
   ],
   "source": [
    "bertmodelname = 'distilbert-base-multilingual-cased'\n",
    "\n",
    "hfcachedir = './Embeddings/huggingface/{}/'.format( bertmodelname )\n",
    "hfcachedir"
   ]
  },
  {
   "cell_type": "code",
   "execution_count": 6,
   "metadata": {},
   "outputs": [],
   "source": [
    "def hms_string( sec_elapsed ):\n",
    "    h = int(sec_elapsed / (60 * 60))\n",
    "    m = int((sec_elapsed % (60 * 60)) / 60)\n",
    "    s = sec_elapsed % 60\n",
    "    return \"{} hrs {:>02} mins {:>05.2f} secs\".format( h, m, s )"
   ]
  },
  {
   "cell_type": "code",
   "execution_count": 7,
   "metadata": {},
   "outputs": [
    {
     "data": {
      "text/plain": [
       "(72771, 3)"
      ]
     },
     "execution_count": 7,
     "metadata": {},
     "output_type": "execute_result"
    }
   ],
   "source": [
    "sheets = [ pd.read_excel( 'RUT_UT_Comments.xlsx', 'Sheet1' ), pd.read_excel( 'RUT_UT_Comments.xlsx', 'Sheet2' ) ]\n",
    "df = pd.concat( sheets )\n",
    "df.reset_index( drop=True, inplace=True )\n",
    "\n",
    "df.Urdu = df.Urdu.astype( 'str' )\n",
    "df.Urdu = df.Urdu.apply( UT_Utils.urdu_preprocessing )\n",
    "\n",
    "df.dropna( inplace=True )\n",
    "df.reset_index( drop=True, inplace=True )\n",
    "\n",
    "del sheets\n",
    "gc.collect()\n",
    "\n",
    "xcolumn = 'Urdu'\n",
    "ycolumn = 'Toxic'\n",
    "\n",
    "df.shape"
   ]
  },
  {
   "cell_type": "code",
   "execution_count": 8,
   "metadata": {},
   "outputs": [],
   "source": [
    "from tensorflow.keras.layers import Dropout, Dense\n",
    "from tensorflow.keras.models import Model\n",
    "\n",
    "def FineTuneBertWithDenseLayer(\n",
    "    bert_model, max_len=128, drpt=0.1, fc_weights_init='', fc_act='', optimizer='' ):\n",
    "    \n",
    "    input_ids_in = tf.keras.layers.Input( shape=( max_len, ), dtype='int32' )\n",
    "    input_masks_in = tf.keras.layers.Input( shape=( max_len, ), dtype='int32' )\n",
    "    \n",
    "    embedding_layer = bert_model( input_ids_in, attention_mask=input_masks_in )\n",
    "    \n",
    "    hidden_state = embedding_layer[0]\n",
    "    pooler = hidden_state[:, 0]\n",
    "    \n",
    "    d = Dropout( drpt )( pooler )\n",
    "    d = Dense( 768, activation=fc_act, kernel_initializer=fc_weights_init )( d )\n",
    "    outp = Dense( 1, activation='sigmoid' )( d )\n",
    "    \n",
    "    model = Model( inputs=[ input_ids_in, input_masks_in ], outputs=outp )\n",
    "    \n",
    "    model.compile(\n",
    "        loss='binary_crossentropy',\n",
    "        optimizer=optimizer,\n",
    "        metrics=['accuracy']\n",
    "    )\n",
    "    return model"
   ]
  },
  {
   "cell_type": "code",
   "execution_count": 9,
   "metadata": {},
   "outputs": [],
   "source": [
    "from transformers import DistilBertTokenizer, DistilBertConfig, TFDistilBertModel\n",
    "from transformers import utils\n",
    "utils.logging.set_verbosity( 40 ) # supress huggingface warnings\n",
    "os.environ[ \"TOKENIZERS_PARALLELISM\" ] = \"false\" # disabling tokenizers parallelism to avoid deadlocks"
   ]
  },
  {
   "cell_type": "code",
   "execution_count": 10,
   "metadata": {},
   "outputs": [],
   "source": [
    "# initialize bert tokenizer\n",
    "BERT_TOKENIZER = DistilBertTokenizer.from_pretrained( bertmodelname )\n",
    "\n",
    "# define function to tokenize input Urdu comments using bert tokenizer\n",
    "def get_tokens_and_masks( bert_tokenizer, sentences, max_length=128, padding='max_length' ):\n",
    "    encoded_input = bert_tokenizer(\n",
    "        sentences,\n",
    "        add_special_tokens=True,\n",
    "        max_length=max_length,\n",
    "        padding=padding,\n",
    "        truncation=True,\n",
    "        return_attention_mask = True\n",
    "    )\n",
    "    return np.array( encoded_input[ 'input_ids' ] ), np.array( encoded_input[ 'attention_mask' ] )"
   ]
  },
  {
   "cell_type": "code",
   "execution_count": 11,
   "metadata": {},
   "outputs": [
    {
     "data": {
      "text/plain": [
       "DistilBertConfig {\n",
       "  \"activation\": \"gelu\",\n",
       "  \"architectures\": [\n",
       "    \"DistilBertForMaskedLM\"\n",
       "  ],\n",
       "  \"attention_dropout\": 0.1,\n",
       "  \"dim\": 768,\n",
       "  \"dropout\": 0.1,\n",
       "  \"hidden_dim\": 3072,\n",
       "  \"initializer_range\": 0.02,\n",
       "  \"max_position_embeddings\": 512,\n",
       "  \"model_type\": \"distilbert\",\n",
       "  \"n_heads\": 12,\n",
       "  \"n_layers\": 6,\n",
       "  \"output_past\": true,\n",
       "  \"pad_token_id\": 0,\n",
       "  \"qa_dropout\": 0.1,\n",
       "  \"seq_classif_dropout\": 0.2,\n",
       "  \"sinusoidal_pos_embds\": false,\n",
       "  \"tie_weights_\": true,\n",
       "  \"transformers_version\": \"4.20.1\",\n",
       "  \"vocab_size\": 119547\n",
       "}"
      ]
     },
     "execution_count": 11,
     "metadata": {},
     "output_type": "execute_result"
    }
   ],
   "source": [
    "BERT_CONFIG = DistilBertConfig.from_pretrained( bertmodelname )\n",
    "BERT_CONFIG"
   ]
  },
  {
   "cell_type": "code",
   "execution_count": 12,
   "metadata": {},
   "outputs": [
    {
     "name": "stdout",
     "output_type": "stream",
     "text": [
      "StratifiedKFold(n_splits=5, random_state=0, shuffle=True)\n"
     ]
    }
   ],
   "source": [
    "skf = StratifiedKFold( n_splits=5, random_state=0, shuffle=True )\n",
    "print(skf)"
   ]
  },
  {
   "cell_type": "code",
   "execution_count": 13,
   "metadata": {},
   "outputs": [
    {
     "name": "stdout",
     "output_type": "stream",
     "text": [
      "Local System Time: 02:37 AM\n",
      "Epoch: 001 --LR: 9e-06 --MaxValF1: 0.8678220 --CurValF1: 0.8678220 --Patience: 01 --F1 improved: 0.8678220\n",
      "Epoch: 002 --LR: 9e-06 --MaxValF1: 0.8767582 --CurValF1: 0.8767582 --Patience: 01 --F1 improved: 0.8767582\n",
      "Epoch: 003 --LR: 9e-06 --MaxValF1: 0.8812312 --CurValF1: 0.8812312 --Patience: 01 --F1 improved: 0.8812312\n",
      "Epoch: 004 --LR: 9e-06 --MaxValF1: 0.8917456 --CurValF1: 0.8917456 --Patience: 01 --F1 improved: 0.8917456\n",
      "Epoch: 005 --LR: 9e-06 --MaxValF1: 0.8917456 --CurValF1: 0.8913407 --Patience: 01\n",
      "Epoch: 006 --LR: 3e-06 --MaxValF1: 0.8917456 --CurValF1: 0.8910624 --Patience: 02\n",
      "Epoch: 007 --LR: 8e-07 --MaxValF1: 0.8924623 --CurValF1: 0.8924623 --Patience: 03 --F1 improved: 0.8924623\n",
      "Epoch: 008 --LR: 8e-07 --MaxValF1: 0.8929889 --CurValF1: 0.8929889 --Patience: 01 --F1 improved: 0.8929889\n",
      "Epoch: 009 --LR: 8e-07 --MaxValF1: 0.8929889 --CurValF1: 0.8902196 --Patience: 01\n",
      "Epoch: 010 --LR: 2e-07 --MaxValF1: 0.8929889 --CurValF1: 0.8888149 --Patience: 02\n",
      "Epoch: 011 --LR: 7e-08 --MaxValF1: 0.8929889 --CurValF1: 0.8906774 --Patience: 03\n",
      "Epoch: 012 --LR: 2e-08 --MaxValF1: 0.8929889 --CurValF1: 0.8900804 --Patience: 04\n",
      "Training stopped due to the patience parameter. --Patience: 04\n",
      "Fold: 01 out of 05 completed.\n",
      "Local System Time: 03:42 AM\n",
      "Epoch: 001 --LR: 9e-06 --MaxValF1: 0.8680793 --CurValF1: 0.8680793 --Patience: 01 --F1 improved: 0.8680793\n",
      "Epoch: 002 --LR: 9e-06 --MaxValF1: 0.8821319 --CurValF1: 0.8821319 --Patience: 01 --F1 improved: 0.8821319\n",
      "Epoch: 003 --LR: 9e-06 --MaxValF1: 0.8899424 --CurValF1: 0.8899424 --Patience: 01 --F1 improved: 0.8899424\n",
      "Epoch: 004 --LR: 9e-06 --MaxValF1: 0.8899424 --CurValF1: 0.8879165 --Patience: 01\n",
      "Epoch: 005 --LR: 3e-06 --MaxValF1: 0.8945062 --CurValF1: 0.8945062 --Patience: 02 --F1 improved: 0.8945062\n",
      "Epoch: 006 --LR: 3e-06 --MaxValF1: 0.8945062 --CurValF1: 0.8903788 --Patience: 01\n",
      "Epoch: 007 --LR: 8e-07 --MaxValF1: 0.8945062 --CurValF1: 0.8928451 --Patience: 02\n",
      "Epoch: 008 --LR: 2e-07 --MaxValF1: 0.8945430 --CurValF1: 0.8945430 --Patience: 03 --F1 improved: 0.8945430\n",
      "Epoch: 009 --LR: 2e-07 --MaxValF1: 0.8945430 --CurValF1: 0.8940000 --Patience: 01\n",
      "Epoch: 010 --LR: 7e-08 --MaxValF1: 0.8945430 --CurValF1: 0.8936743 --Patience: 02\n",
      "Epoch: 011 --LR: 2e-08 --MaxValF1: 0.8945430 --CurValF1: 0.8936743 --Patience: 03\n",
      "Epoch: 012 --LR: 7e-09 --MaxValF1: 0.8945430 --CurValF1: 0.8937458 --Patience: 04\n",
      "Training stopped due to the patience parameter. --Patience: 04\n",
      "Fold: 02 out of 05 completed.\n",
      "Local System Time: 04:46 AM\n",
      "Epoch: 001 --LR: 9e-06 --MaxValF1: 0.8678730 --CurValF1: 0.8678730 --Patience: 01 --F1 improved: 0.8678730\n",
      "Epoch: 002 --LR: 9e-06 --MaxValF1: 0.8815039 --CurValF1: 0.8815039 --Patience: 01 --F1 improved: 0.8815039\n",
      "Epoch: 003 --LR: 9e-06 --MaxValF1: 0.8906937 --CurValF1: 0.8906937 --Patience: 01 --F1 improved: 0.8906937\n",
      "Epoch: 004 --LR: 9e-06 --MaxValF1: 0.8921634 --CurValF1: 0.8921634 --Patience: 01 --F1 improved: 0.8921634\n",
      "Epoch: 005 --LR: 9e-06 --MaxValF1: 0.8921634 --CurValF1: 0.8874532 --Patience: 01\n",
      "Epoch: 006 --LR: 3e-06 --MaxValF1: 0.8921634 --CurValF1: 0.8911475 --Patience: 02\n",
      "Epoch: 007 --LR: 8e-07 --MaxValF1: 0.8941411 --CurValF1: 0.8941411 --Patience: 03 --F1 improved: 0.8941411\n",
      "Epoch: 008 --LR: 8e-07 --MaxValF1: 0.8948247 --CurValF1: 0.8948247 --Patience: 01 --F1 improved: 0.8948247\n",
      "Epoch: 009 --LR: 8e-07 --MaxValF1: 0.8948247 --CurValF1: 0.8938735 --Patience: 01\n",
      "Epoch: 010 --LR: 2e-07 --MaxValF1: 0.8950166 --CurValF1: 0.8950166 --Patience: 02 --F1 improved: 0.8950166\n",
      "Epoch: 011 --LR: 2e-07 --MaxValF1: 0.8950166 --CurValF1: 0.8938023 --Patience: 01\n",
      "Epoch: 012 --LR: 7e-08 --MaxValF1: 0.8950166 --CurValF1: 0.8938172 --Patience: 02\n",
      "Epoch: 013 --LR: 2e-08 --MaxValF1: 0.8950166 --CurValF1: 0.8941888 --Patience: 03\n",
      "Epoch: 014 --LR: 7e-09 --MaxValF1: 0.8950166 --CurValF1: 0.8938885 --Patience: 04\n",
      "Training stopped due to the patience parameter. --Patience: 04\n",
      "Fold: 03 out of 05 completed.\n",
      "Local System Time: 06:02 AM\n",
      "Epoch: 001 --LR: 9e-06 --MaxValF1: 0.8680000 --CurValF1: 0.8680000 --Patience: 01 --F1 improved: 0.8680000\n",
      "Epoch: 002 --LR: 9e-06 --MaxValF1: 0.8876861 --CurValF1: 0.8876861 --Patience: 01 --F1 improved: 0.8876861\n",
      "Epoch: 003 --LR: 9e-06 --MaxValF1: 0.8908849 --CurValF1: 0.8908849 --Patience: 01 --F1 improved: 0.8908849\n",
      "Epoch: 004 --LR: 9e-06 --MaxValF1: 0.8938322 --CurValF1: 0.8938322 --Patience: 01 --F1 improved: 0.8938322\n",
      "Epoch: 005 --LR: 9e-06 --MaxValF1: 0.8969210 --CurValF1: 0.8969210 --Patience: 01 --F1 improved: 0.8969210\n",
      "Epoch: 006 --LR: 9e-06 --MaxValF1: 0.8969210 --CurValF1: 0.8967373 --Patience: 01\n",
      "Epoch: 007 --LR: 3e-06 --MaxValF1: 0.8993964 --CurValF1: 0.8993964 --Patience: 02 --F1 improved: 0.8993964\n",
      "Epoch: 008 --LR: 3e-06 --MaxValF1: 0.9012555 --CurValF1: 0.9012555 --Patience: 01 --F1 improved: 0.9012555\n",
      "Epoch: 009 --LR: 3e-06 --MaxValF1: 0.9012555 --CurValF1: 0.8957425 --Patience: 01\n",
      "Epoch: 010 --LR: 8e-07 --MaxValF1: 0.9012555 --CurValF1: 0.9002660 --Patience: 02\n",
      "Epoch: 011 --LR: 2e-07 --MaxValF1: 0.9012555 --CurValF1: 0.9007685 --Patience: 03\n",
      "Epoch: 012 --LR: 7e-08 --MaxValF1: 0.9012555 --CurValF1: 0.9006004 --Patience: 04\n",
      "Training stopped due to the patience parameter. --Patience: 04\n",
      "Fold: 04 out of 05 completed.\n",
      "Local System Time: 07:07 AM\n",
      "Epoch: 001 --LR: 9e-06 --MaxValF1: 0.8640584 --CurValF1: 0.8640584 --Patience: 01 --F1 improved: 0.8640584\n",
      "Epoch: 002 --LR: 9e-06 --MaxValF1: 0.8841483 --CurValF1: 0.8841483 --Patience: 01 --F1 improved: 0.8841483\n",
      "Epoch: 003 --LR: 9e-06 --MaxValF1: 0.8859150 --CurValF1: 0.8859150 --Patience: 01 --F1 improved: 0.8859150\n",
      "Epoch: 004 --LR: 9e-06 --MaxValF1: 0.8914440 --CurValF1: 0.8914440 --Patience: 01 --F1 improved: 0.8914440\n",
      "Epoch: 005 --LR: 9e-06 --MaxValF1: 0.8914440 --CurValF1: 0.8907395 --Patience: 01\n",
      "Epoch: 006 --LR: 3e-06 --MaxValF1: 0.8919649 --CurValF1: 0.8919649 --Patience: 02 --F1 improved: 0.8919649\n",
      "Epoch: 007 --LR: 3e-06 --MaxValF1: 0.8923692 --CurValF1: 0.8923692 --Patience: 01 --F1 improved: 0.8923692\n",
      "Epoch: 008 --LR: 3e-06 --MaxValF1: 0.8923692 --CurValF1: 0.8908123 --Patience: 01\n",
      "Epoch: 009 --LR: 8e-07 --MaxValF1: 0.8923902 --CurValF1: 0.8923902 --Patience: 02 --F1 improved: 0.8923902\n",
      "Epoch: 010 --LR: 8e-07 --MaxValF1: 0.8923902 --CurValF1: 0.8899967 --Patience: 01\n",
      "Epoch: 011 --LR: 2e-07 --MaxValF1: 0.8923902 --CurValF1: 0.8914286 --Patience: 02\n",
      "Epoch: 012 --LR: 7e-08 --MaxValF1: 0.8923902 --CurValF1: 0.8918919 --Patience: 03\n",
      "Epoch: 013 --LR: 2e-08 --MaxValF1: 0.8923902 --CurValF1: 0.8921933 --Patience: 04\n",
      "Training stopped due to the patience parameter. --Patience: 04\n",
      "Fold: 05 out of 05 completed.\n",
      "Local System Time: 08:17 AM\n",
      "Total runtime: 5 hrs 40 mins 28.66 secs\n"
     ]
    }
   ],
   "source": [
    "warnings.filterwarnings( 'ignore' )\n",
    "start_time = time.time()\n",
    "print( 'Local System Time: {}'.format( time.strftime( \"%I:%M %p\", time.localtime() ) ) )\n",
    "\n",
    "valaccuracy, valprecision, valrecall, valf1, valcm = [], [], [], [], []\n",
    "testaccuracy, testprecision, testrecall, testf1, testcm = [], [], [], [], []\n",
    "com_text, com_label, com_predicted, com_prob = [], [], [], []\n",
    "com_indices = []\n",
    "hist = {}\n",
    "\n",
    "fold = 1\n",
    "for train_index, test_index in skf.split( df[ xcolumn ], df[ ycolumn ] ):\n",
    "    # seprating train and test sets\n",
    "    xtrain = df.loc[ train_index ][ xcolumn ].values\n",
    "    xtest = df.loc[ test_index ][ xcolumn ].values\n",
    "    \n",
    "    ytrain = df.loc[ train_index ][ ycolumn ].values\n",
    "    ytest = df.loc[ test_index ][ ycolumn ].values\n",
    "    \n",
    "    # splitting train and validation sets\n",
    "    xtrain, xval, ytrain, yval = train_test_split( xtrain, ytrain, test_size=0.15, random_state=0 )\n",
    "    \n",
    "    xtrain_input_ids, xtrain_attention_masks = get_tokens_and_masks(\n",
    "        BERT_TOKENIZER, xtrain.tolist(), max_length=MAX_LEN, padding='max_length'\n",
    "    )\n",
    "    \n",
    "    xval_input_ids, xval_attention_masks = get_tokens_and_masks(\n",
    "        BERT_TOKENIZER, xval.tolist(), max_length=MAX_LEN, padding='max_length'\n",
    "    )\n",
    "    \n",
    "    xtest_input_ids, xtest_attention_masks = get_tokens_and_masks(\n",
    "        BERT_TOKENIZER, xtest.tolist(), max_length=MAX_LEN, padding='max_length'\n",
    "    )\n",
    "    \n",
    "    # instantiate bert model\n",
    "    BERT_MODEL = TFDistilBertModel.from_pretrained( bertmodelname, config=BERT_CONFIG, cache_dir=hfcachedir )\n",
    "    BERT_MODEL.trainable = BERT_TRAINABLE\n",
    "    \n",
    "    # define a model\n",
    "    model = FineTuneBertWithDenseLayer(\n",
    "        bert_model=BERT_MODEL,\n",
    "        max_len=MAX_LEN, drpt=DRPT, fc_weights_init=FC_WEIGHTS_INIT, fc_act=FC_ACT, optimizer=OPTIMIZER\n",
    "    )\n",
    "    \n",
    "    # save model summaries and model architecture diagrams in the first fold only\n",
    "    if fold == 1:\n",
    "        plot_model( model=model, to_file='{}/{}.png'.format( modelsummaries, modelname ), show_shapes=False )\n",
    "        \n",
    "        with open( '{}/{}.txt'.format( modelsummaries, modelname ), 'w' ) as s:\n",
    "            with redirect_stdout( s ):\n",
    "                model.summary()\n",
    "    \n",
    "    K.set_value( model.optimizer.lr, LR_RATE )\n",
    "    \n",
    "    # train the model with callbacks for early stopping\n",
    "    f1callback = UT_Utils.F1_score_callback_HF(\n",
    "        val_data=( xval_input_ids, xval_attention_masks, yval ),\n",
    "        filepath=modelpath + modelname + str( fold ), patience=PATIENCE,\n",
    "        decay=DECAY, decay_rate=DECAY_RATE, decay_after=DECAY_AFTER\n",
    "    )\n",
    "    histmodel = model.fit(\n",
    "        [ xtrain_input_ids, xtrain_attention_masks ], ytrain,\n",
    "        batch_size=BATCH, epochs=NEPOCHS, verbose=0, callbacks=[ f1callback ]\n",
    "    )\n",
    "    \n",
    "    # save history of all folds\n",
    "    hist[ 'fold' + str( fold ) ] = histmodel.history.copy()\n",
    "    \n",
    "    hffinetuned = './Embeddings/hf_finetuned/{}-fold{}/'.format( bertmodelname, fold )\n",
    "    BERT_MODEL.save_pretrained( hffinetuned )\n",
    "    \n",
    "    # delete trained model object\n",
    "    del model, histmodel, f1callback, BERT_MODEL\n",
    "    K.clear_session()\n",
    "    gc.collect()\n",
    "    \n",
    "    # load saved model\n",
    "    FINETUNED_BERT_MODEL = TFDistilBertModel.from_pretrained( hffinetuned, config=BERT_CONFIG, cache_dir=hfcachedir )\n",
    "    FINETUNED_BERT_MODEL.trainable = False\n",
    "    loaded_model = load_model(\n",
    "        modelpath + modelname + str( fold ),\n",
    "        custom_objects={ 'TFDistilBertModel': FINETUNED_BERT_MODEL }\n",
    "    )\n",
    "    \n",
    "    # get predictions (probabilities) for validation and test sets respectively\n",
    "    valpredictions = loaded_model.predict(\n",
    "        [ xval_input_ids, xval_attention_masks ], verbose=0, batch_size=BATCH\n",
    "    )\n",
    "    testpredictions = loaded_model.predict(\n",
    "        [ xtest_input_ids, xtest_attention_masks ], verbose=0, batch_size=BATCH\n",
    "    )\n",
    "    \n",
    "    # delete loaded model\n",
    "    del loaded_model, FINETUNED_BERT_MODEL\n",
    "    K.clear_session()\n",
    "    gc.collect()\n",
    "    \n",
    "    # optimizer threshold on validation set\n",
    "    threshold = UT_Utils.optimize_threshold( yval, valpredictions )\n",
    "    \n",
    "    # save accuracy, precision, recall, f1 and confusion matrices\n",
    "    vallabels = ( valpredictions >= threshold ).astype( 'int32' )\n",
    "    testlabels = ( testpredictions >= threshold ).astype( 'int32' )\n",
    "    \n",
    "    valaccuracy.append( accuracy_score( yval, vallabels ) )\n",
    "    valprecision.append( precision_score( yval, vallabels ) )\n",
    "    valrecall.append( recall_score( yval, vallabels ) )\n",
    "    valf1.append( f1_score( yval, vallabels ) )\n",
    "    valcm.append( confusion_matrix( yval, vallabels ) )    \n",
    "    \n",
    "    testaccuracy.append( accuracy_score( ytest, testlabels ) )\n",
    "    testprecision.append( precision_score( ytest, testlabels ) )\n",
    "    testrecall.append( recall_score( ytest, testlabels ) )\n",
    "    testf1.append( f1_score( ytest, testlabels ) )\n",
    "    testcm.append( confusion_matrix( ytest, testlabels ) )\n",
    "    \n",
    "    # save for future analysis and ensemble\n",
    "    com_indices.extend( test_index.tolist() )\n",
    "    com_text.extend( df.loc[ test_index ][ xcolumn ] )\n",
    "    com_label.extend( df.loc[ test_index ][ ycolumn ].tolist() )\n",
    "    com_predicted.extend( testlabels[:,0].tolist() )\n",
    "    com_prob.extend( testpredictions[:,0].tolist() )\n",
    "    \n",
    "    print( 'Fold: {:02d} out of {:02d} completed.'.format( fold, skf.get_n_splits() ) )\n",
    "    print( 'Local System Time: {}'.format( time.strftime( \"%I:%M %p\", time.localtime() ) ) )\n",
    "    \n",
    "    fold = fold + 1\n",
    "time_took = time.time() - start_time\n",
    "print( f\"Total runtime: { hms_string( time_took ) }\" )"
   ]
  },
  {
   "cell_type": "code",
   "execution_count": 14,
   "metadata": {},
   "outputs": [
    {
     "name": "stdout",
     "output_type": "stream",
     "text": [
      "Validation Accuracy\n",
      "['0.9635', '0.9639', '0.9638', '0.9667', '0.9632'] 0.9642276422764228 +- 0.0012493467717380846 \n",
      "\n",
      "Validation Precision\n",
      "['0.9205', '0.9227', '0.9157', '0.9432', '0.9217'] 0.9247505540046246 +- 0.0095217263236468 \n",
      "\n",
      "Validation Recall\n",
      "['0.8671', '0.8681', '0.8752', '0.8629', '0.8648'] 0.8676372194813249 +- 0.0042095169655942555 \n",
      "\n",
      "Validation F1\n",
      "['0.8930', '0.8945', '0.8950', '0.9013', '0.8924'] 0.8952388572432278 +- 0.003159452483829585\n"
     ]
    }
   ],
   "source": [
    "print( 'Validation Accuracy' )\n",
    "print( [ '{:0.4f}'.format( x ) for x in valaccuracy ], np.mean( valaccuracy ), '+-', np.std( valaccuracy ), '\\n' )\n",
    "\n",
    "print( 'Validation Precision' )\n",
    "print( [ '{:0.4f}'.format( x ) for x in valprecision ], np.mean( valprecision ), '+-', np.std( valprecision ), '\\n' )\n",
    "\n",
    "print( 'Validation Recall' )\n",
    "print( [ '{:0.4f}'.format( x ) for x in valrecall ], np.mean( valrecall ), '+-', np.std( valrecall ), '\\n' )\n",
    "\n",
    "print( 'Validation F1' )\n",
    "print( [ '{:0.4f}'.format( x ) for x in valf1 ], np.mean( valf1 ), '+-', np.std( valf1 ) )"
   ]
  },
  {
   "cell_type": "code",
   "execution_count": 15,
   "metadata": {},
   "outputs": [
    {
     "name": "stdout",
     "output_type": "stream",
     "text": [
      "[[1331  204]\n",
      " [ 115 7083]] \n",
      "\n",
      "[[1336  203]\n",
      " [ 112 7082]] \n",
      "\n",
      "[[1347  192]\n",
      " [ 124 7070]] \n",
      "\n",
      "[[1328  211]\n",
      " [  80 7114]] \n",
      "\n",
      "[[1331  208]\n",
      " [ 113 7081]] \n",
      "\n"
     ]
    }
   ],
   "source": [
    "for c in valcm:\n",
    "    print( np.rot90(np.rot90(c)), '\\n' )"
   ]
  },
  {
   "cell_type": "code",
   "execution_count": 16,
   "metadata": {},
   "outputs": [
    {
     "name": "stdout",
     "output_type": "stream",
     "text": [
      "Test Accuracy\n",
      "['0.9613', '0.9634', '0.9643', '0.9608', '0.9608'] 0.9621140398634832 +- 0.0014374291063381536 \n",
      "\n",
      "Test Precision\n",
      "['0.9405', '0.9233', '0.9079', '0.9321', '0.9197'] 0.9246911160395769 +- 0.011074156461132832 \n",
      "\n",
      "Test Recall\n",
      "['0.8382', '0.8687', '0.8919', '0.8438', '0.8568'] 0.8598925643200452 +- 0.019205171468080633 \n",
      "\n",
      "Test F1\n",
      "['0.8864', '0.8952', '0.8998', '0.8858', '0.8871'] 0.8908617216519288 +- 0.005644658422799997\n"
     ]
    }
   ],
   "source": [
    "print( 'Test Accuracy' )\n",
    "print( [ '{:0.4f}'.format( x ) for x in testaccuracy ], np.mean( testaccuracy ), '+-', np.std( testaccuracy ), '\\n' )\n",
    "\n",
    "print( 'Test Precision' )\n",
    "print( [ '{:0.4f}'.format( x ) for x in testprecision ], np.mean( testprecision ), '+-', np.std( testprecision ), '\\n' )\n",
    "\n",
    "print( 'Test Recall' )\n",
    "print( [ '{:0.4f}'.format( x ) for x in testrecall ], np.mean( testrecall ), '+-', np.std( testrecall ), '\\n' )\n",
    "\n",
    "print( 'Test F1' )\n",
    "print( [ '{:0.4f}'.format( x ) for x in testf1 ], np.mean( testf1 ), '+-', np.std( testf1 ) )"
   ]
  },
  {
   "cell_type": "code",
   "execution_count": 17,
   "metadata": {},
   "outputs": [
    {
     "name": "stdout",
     "output_type": "stream",
     "text": [
      "[[ 2196   424]\n",
      " [  139 11796]] \n",
      "\n",
      "[[ 2276   344]\n",
      " [  189 11745]] \n",
      "\n",
      "[[ 2336   283]\n",
      " [  237 11698]] \n",
      "\n",
      "[[ 2210   409]\n",
      " [  161 11774]] \n",
      "\n",
      "[[ 2244   375]\n",
      " [  196 11739]] \n",
      "\n"
     ]
    }
   ],
   "source": [
    "for c in testcm:\n",
    "    print( np.rot90(np.rot90(c)), '\\n' )"
   ]
  },
  {
   "cell_type": "code",
   "execution_count": 18,
   "metadata": {},
   "outputs": [],
   "source": [
    "file = open( '{}/ResultsMain.csv'.format( modelresults ), mode='a' )\n",
    "file.write( modelname )\n",
    "file.write( ',' )\n",
    "file.write( str(np.mean( testaccuracy ))[:7] + '+-' + str(np.std( testaccuracy ))[:6] )\n",
    "file.write( ',' )\n",
    "file.write( str(np.mean( testprecision ))[:7] + '+-' + str(np.std( testprecision ))[:6] )\n",
    "file.write( ',' )\n",
    "file.write( str(np.mean( testrecall ))[:7] + '+-' + str(np.std( testrecall ))[:6] )\n",
    "file.write( ',' )\n",
    "file.write( str(np.mean( testf1 ))[:7] + '+-' + str(np.std( testf1 ))[:6] )\n",
    "file.write( '\\n' )\n",
    "file.close()"
   ]
  },
  {
   "cell_type": "code",
   "execution_count": 19,
   "metadata": {},
   "outputs": [
    {
     "data": {
      "text/plain": [
       "(72771, 4)"
      ]
     },
     "execution_count": 19,
     "metadata": {},
     "output_type": "execute_result"
    }
   ],
   "source": [
    "dfPredictions = pd.DataFrame(  )\n",
    "dfPredictions[ 'comment_indices' ] = com_indices\n",
    "#dfPredictions[ 'comment_text' ] = com_text #comment text\n",
    "dfPredictions[ 'comment_label' ] = com_label\n",
    "dfPredictions[ 'comment_predicted' ] = com_predicted\n",
    "dfPredictions[ 'comment_prob' ] = com_prob\n",
    "dfPredictions.to_csv( '{}/{}.csv'.format( modelresults, modelname ), index=False )\n",
    "dfPredictions.shape"
   ]
  }
 ],
 "metadata": {
  "kernelspec": {
   "display_name": "tf_2.8",
   "language": "python",
   "name": "tf_2.8"
  },
  "language_info": {
   "codemirror_mode": {
    "name": "ipython",
    "version": 3
   },
   "file_extension": ".py",
   "mimetype": "text/x-python",
   "name": "python",
   "nbconvert_exporter": "python",
   "pygments_lexer": "ipython3",
   "version": "3.7.13"
  },
  "varInspector": {
   "cols": {
    "lenName": 16,
    "lenType": 16,
    "lenVar": 40
   },
   "kernels_config": {
    "python": {
     "delete_cmd_postfix": "",
     "delete_cmd_prefix": "del ",
     "library": "var_list.py",
     "varRefreshCmd": "print(var_dic_list())"
    },
    "r": {
     "delete_cmd_postfix": ") ",
     "delete_cmd_prefix": "rm(",
     "library": "var_list.r",
     "varRefreshCmd": "cat(var_dic_list()) "
    }
   },
   "types_to_exclude": [
    "module",
    "function",
    "builtin_function_or_method",
    "instance",
    "_Feature"
   ],
   "window_display": false
  }
 },
 "nbformat": 4,
 "nbformat_minor": 2
}

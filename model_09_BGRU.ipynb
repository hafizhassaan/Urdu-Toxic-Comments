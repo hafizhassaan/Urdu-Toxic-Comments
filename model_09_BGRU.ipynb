{
 "cells": [
  {
   "cell_type": "code",
   "execution_count": 1,
   "metadata": {},
   "outputs": [],
   "source": [
    "import warnings\n",
    "warnings.filterwarnings( 'ignore' )\n",
    "\n",
    "import gc\n",
    "import os\n",
    "import time\n",
    "import numpy as np\n",
    "import pandas as pd\n",
    "\n",
    "from sklearn.metrics import accuracy_score, precision_score, recall_score\n",
    "from sklearn.metrics import f1_score, confusion_matrix\n",
    "from sklearn.model_selection import StratifiedKFold, train_test_split\n",
    "\n",
    "import tensorflow as tf\n",
    "from tensorflow.keras import backend as K\n",
    "from tensorflow.keras.models import load_model\n",
    "from tensorflow.keras.preprocessing import text, sequence\n",
    "\n",
    "from contextlib import redirect_stdout\n",
    "from tensorflow.keras.utils import plot_model\n",
    "\n",
    "os.environ['TF_CPP_MIN_LOG_LEVEL'] = '2' # supress tensorflow warnings\n",
    "\n",
    "os.environ[\"CUDA_VISIBLE_DEVICES\"] = \"0\""
   ]
  },
  {
   "cell_type": "code",
   "execution_count": 2,
   "metadata": {},
   "outputs": [],
   "source": [
    "import All_UT_Models\n",
    "import UT_Utils"
   ]
  },
  {
   "cell_type": "code",
   "execution_count": 3,
   "metadata": {},
   "outputs": [],
   "source": [
    "# hyper parameters for this model\n",
    "\n",
    "MAX_LEN = 100\n",
    "EMBED_SIZE = 300\n",
    "PRE_TRAINED_FLAG = True\n",
    "EMBED_TRAINABLE = False\n",
    "\n",
    "EMB_WEIGHTS_INIT = 'he_normal'\n",
    "SPDRPT = 0.4\n",
    "DRPT = 0.2\n",
    "FC_WEIGHTS_INIT = 'he_uniform'\n",
    "FC_ACT = 'elu'\n",
    "LR_RATE = 1e-3\n",
    "OPTIMIZER = 'adam'\n",
    "GRU_UNITS = 100\n",
    "\n",
    "BATCH = 32\n",
    "NEPOCHS = 30\n",
    "PATIENCE = 5\n",
    "DECAY = True\n",
    "DECAY_RATE = 0.3\n",
    "DECAY_AFTER = 1"
   ]
  },
  {
   "cell_type": "code",
   "execution_count": 4,
   "metadata": {},
   "outputs": [],
   "source": [
    "#EMBEDDING_FILE = './Embeddings/urduvec_140M_100K_300d.txt'\n",
    "EMBEDDING_FILE = './Embeddings/cc.ur.300.vec'\n",
    "\n",
    "EMBEDDING_MATRIX = []\n",
    "\n",
    "modelname = 'BGRU-ft'\n",
    "\n",
    "modelpath = './Saved Models/' + modelname + '/'\n",
    "modelresults = './Model Results'\n",
    "modelsummaries = './Model - Summaries-Figures'\n",
    "\n",
    "DIRECTORIES_TO_BE_CREATED = [ modelpath, modelresults, modelsummaries ]\n",
    "for directory in DIRECTORIES_TO_BE_CREATED:\n",
    "    if not os.path.exists( directory ):\n",
    "        os.makedirs( directory )"
   ]
  },
  {
   "cell_type": "code",
   "execution_count": 5,
   "metadata": {},
   "outputs": [],
   "source": [
    "def hms_string( sec_elapsed ):\n",
    "    h = int(sec_elapsed / (60 * 60))\n",
    "    m = int((sec_elapsed % (60 * 60)) / 60)\n",
    "    s = sec_elapsed % 60\n",
    "    return \"{} hrs {:>02} mins {:>05.2f} secs\".format( h, m, s )"
   ]
  },
  {
   "cell_type": "code",
   "execution_count": 6,
   "metadata": {},
   "outputs": [
    {
     "data": {
      "text/plain": [
       "(72771, 3)"
      ]
     },
     "execution_count": 6,
     "metadata": {},
     "output_type": "execute_result"
    }
   ],
   "source": [
    "sheets = [ pd.read_excel( 'RUT_UT_Comments.xlsx', 'Sheet1' ), pd.read_excel( 'RUT_UT_Comments.xlsx', 'Sheet2' ) ]\n",
    "df = pd.concat( sheets )\n",
    "df.reset_index( drop=True, inplace=True )\n",
    "\n",
    "df.Urdu = df.Urdu.astype( 'str' )\n",
    "df.Urdu = df.Urdu.apply( UT_Utils.urdu_preprocessing )\n",
    "\n",
    "df.dropna( inplace=True )\n",
    "df.reset_index( drop=True, inplace=True )\n",
    "\n",
    "del sheets\n",
    "gc.collect()\n",
    "\n",
    "xcolumn = 'Urdu'\n",
    "ycolumn = 'Toxic'\n",
    "\n",
    "df.shape"
   ]
  },
  {
   "cell_type": "code",
   "execution_count": 7,
   "metadata": {},
   "outputs": [
    {
     "name": "stdout",
     "output_type": "stream",
     "text": [
      "Total Words in Pretrained Embeddings:  1153999\n",
      "Pretrained Embeddings mean: -0.00027458658  std:  0.024344679\n"
     ]
    }
   ],
   "source": [
    "def get_coefs( word, *arr ):\n",
    "    return word, np.asarray( arr, dtype='float32' )\n",
    "\n",
    "def get_vectors( tokenizer, emb_mean, emb_std, embed_size ):\n",
    "    hits = 0\n",
    "    misses = 0\n",
    "    word_index = tokenizer.word_index\n",
    "    num_words = len( word_index ) + 1\n",
    "    embedding_matrix = np.random.normal( emb_mean, emb_std, ( num_words, embed_size ) ) # for unk tokens\n",
    "    embedding_matrix[0] = np.zeros( ( embed_size ) ) # replace zero padding with zeros\n",
    "    for word, i in word_index.items(  ):\n",
    "        embedding_vector = EMBEDDINGS_INDEX.get( word )\n",
    "        if embedding_vector is not None:\n",
    "            embedding_matrix[ i ] = embedding_vector\n",
    "            hits += 1\n",
    "        else:\n",
    "            misses += 1\n",
    "    print( \"Pretrained Embeddings: %d hits (%d misses)\" % ( hits, misses ) )\n",
    "    gc.collect()\n",
    "    return embedding_matrix\n",
    "\n",
    "if PRE_TRAINED_FLAG == True:\n",
    "    EMBEDDINGS_INDEX = dict( get_coefs( *o.strip().split() ) for o in open( EMBEDDING_FILE, encoding='utf-8' )  if len(o)>19 )\n",
    "    print( 'Total Words in Pretrained Embeddings: ', len( EMBEDDINGS_INDEX.values() ) )\n",
    "    all_embs = np.stack( EMBEDDINGS_INDEX.values() )\n",
    "    emb_mean, emb_std = all_embs.mean(), all_embs.std()\n",
    "    print( 'Pretrained Embeddings mean:', emb_mean, ' std: ', emb_std )"
   ]
  },
  {
   "cell_type": "code",
   "execution_count": 8,
   "metadata": {},
   "outputs": [
    {
     "name": "stdout",
     "output_type": "stream",
     "text": [
      "StratifiedKFold(n_splits=5, random_state=0, shuffle=True)\n"
     ]
    }
   ],
   "source": [
    "skf = StratifiedKFold( n_splits=5, random_state=0, shuffle=True )\n",
    "print(skf)"
   ]
  },
  {
   "cell_type": "code",
   "execution_count": 9,
   "metadata": {},
   "outputs": [
    {
     "name": "stdout",
     "output_type": "stream",
     "text": [
      "Local System Time: 12:47 AM\n",
      "Pretrained Embeddings: 28830 hits (16914 misses)\n",
      "Epoch: 001 --LR: 1e-03 --MaxValF1: 0.7797417 --CurValF1: 0.7797417 --Patience: 01 --F1 improved: 0.7797417\n",
      "Epoch: 002 --LR: 1e-03 --MaxValF1: 0.8035952 --CurValF1: 0.8035952 --Patience: 01 --F1 improved: 0.8035952\n",
      "Epoch: 003 --LR: 1e-03 --MaxValF1: 0.8114511 --CurValF1: 0.8114511 --Patience: 01 --F1 improved: 0.8114511\n",
      "Epoch: 004 --LR: 1e-03 --MaxValF1: 0.8216180 --CurValF1: 0.8216180 --Patience: 01 --F1 improved: 0.8216180\n",
      "Epoch: 005 --LR: 1e-03 --MaxValF1: 0.8306011 --CurValF1: 0.8306011 --Patience: 01 --F1 improved: 0.8306011\n",
      "Epoch: 006 --LR: 1e-03 --MaxValF1: 0.8306011 --CurValF1: 0.8279922 --Patience: 01\n",
      "Epoch: 007 --LR: 3e-04 --MaxValF1: 0.8397098 --CurValF1: 0.8397098 --Patience: 02 --F1 improved: 0.8397098\n",
      "Epoch: 008 --LR: 3e-04 --MaxValF1: 0.8425865 --CurValF1: 0.8425865 --Patience: 01 --F1 improved: 0.8425865\n",
      "Epoch: 009 --LR: 3e-04 --MaxValF1: 0.8425865 --CurValF1: 0.8397201 --Patience: 01\n",
      "Epoch: 010 --LR: 9e-05 --MaxValF1: 0.8450050 --CurValF1: 0.8450050 --Patience: 02 --F1 improved: 0.8450050\n",
      "Epoch: 011 --LR: 9e-05 --MaxValF1: 0.8450050 --CurValF1: 0.8445040 --Patience: 01\n",
      "Epoch: 012 --LR: 3e-05 --MaxValF1: 0.8458973 --CurValF1: 0.8458973 --Patience: 02 --F1 improved: 0.8458973\n",
      "Epoch: 013 --LR: 3e-05 --MaxValF1: 0.8460781 --CurValF1: 0.8460781 --Patience: 01 --F1 improved: 0.8460781\n",
      "Epoch: 014 --LR: 3e-05 --MaxValF1: 0.8460781 --CurValF1: 0.8457711 --Patience: 01\n",
      "Epoch: 015 --LR: 8e-06 --MaxValF1: 0.8460781 --CurValF1: 0.8457255 --Patience: 02\n",
      "Epoch: 016 --LR: 2e-06 --MaxValF1: 0.8460781 --CurValF1: 0.8459254 --Patience: 03\n",
      "Epoch: 017 --LR: 7e-07 --MaxValF1: 0.8461035 --CurValF1: 0.8461035 --Patience: 04 --F1 improved: 0.8461035\n",
      "Epoch: 018 --LR: 7e-07 --MaxValF1: 0.8461035 --CurValF1: 0.8459254 --Patience: 01\n",
      "Epoch: 019 --LR: 2e-07 --MaxValF1: 0.8461035 --CurValF1: 0.8459254 --Patience: 02\n",
      "Epoch: 020 --LR: 7e-08 --MaxValF1: 0.8461035 --CurValF1: 0.8459513 --Patience: 03\n",
      "Epoch: 021 --LR: 2e-08 --MaxValF1: 0.8461035 --CurValF1: 0.8459513 --Patience: 04\n",
      "Epoch: 022 --LR: 6e-09 --MaxValF1: 0.8461035 --CurValF1: 0.8459513 --Patience: 05\n",
      "Training stopped due to the patience parameter. --Patience: 05\n",
      "Fold: 01 out of 05 completed.\n",
      "Local System Time: 12:54 AM\n",
      "Pretrained Embeddings: 28751 hits (16720 misses)\n",
      "Epoch: 001 --LR: 1e-03 --MaxValF1: 0.7729084 --CurValF1: 0.7729084 --Patience: 01 --F1 improved: 0.7729084\n",
      "Epoch: 002 --LR: 1e-03 --MaxValF1: 0.7983539 --CurValF1: 0.7983539 --Patience: 01 --F1 improved: 0.7983539\n",
      "Epoch: 003 --LR: 1e-03 --MaxValF1: 0.8160880 --CurValF1: 0.8160880 --Patience: 01 --F1 improved: 0.8160880\n",
      "Epoch: 004 --LR: 1e-03 --MaxValF1: 0.8217987 --CurValF1: 0.8217987 --Patience: 01 --F1 improved: 0.8217987\n",
      "Epoch: 005 --LR: 1e-03 --MaxValF1: 0.8317942 --CurValF1: 0.8317942 --Patience: 01 --F1 improved: 0.8317942\n",
      "Epoch: 006 --LR: 1e-03 --MaxValF1: 0.8317942 --CurValF1: 0.8305085 --Patience: 01\n",
      "Epoch: 007 --LR: 3e-04 --MaxValF1: 0.8367279 --CurValF1: 0.8367279 --Patience: 02 --F1 improved: 0.8367279\n",
      "Epoch: 008 --LR: 3e-04 --MaxValF1: 0.8400386 --CurValF1: 0.8400386 --Patience: 01 --F1 improved: 0.8400386\n",
      "Epoch: 009 --LR: 3e-04 --MaxValF1: 0.8409014 --CurValF1: 0.8409014 --Patience: 01 --F1 improved: 0.8409014\n",
      "Epoch: 010 --LR: 3e-04 --MaxValF1: 0.8409014 --CurValF1: 0.8379814 --Patience: 01\n",
      "Epoch: 011 --LR: 9e-05 --MaxValF1: 0.8409014 --CurValF1: 0.8404080 --Patience: 02\n",
      "Epoch: 012 --LR: 3e-05 --MaxValF1: 0.8409014 --CurValF1: 0.8394256 --Patience: 03\n",
      "Epoch: 013 --LR: 8e-06 --MaxValF1: 0.8409014 --CurValF1: 0.8391562 --Patience: 04\n",
      "Epoch: 014 --LR: 2e-06 --MaxValF1: 0.8409014 --CurValF1: 0.8394329 --Patience: 05\n",
      "Training stopped due to the patience parameter. --Patience: 05\n",
      "Fold: 02 out of 05 completed.\n",
      "Local System Time: 12:59 AM\n",
      "Pretrained Embeddings: 28866 hits (16643 misses)\n",
      "Epoch: 001 --LR: 1e-03 --MaxValF1: 0.7651877 --CurValF1: 0.7651877 --Patience: 01 --F1 improved: 0.7651877\n",
      "Epoch: 002 --LR: 1e-03 --MaxValF1: 0.7885420 --CurValF1: 0.7885420 --Patience: 01 --F1 improved: 0.7885420\n",
      "Epoch: 003 --LR: 1e-03 --MaxValF1: 0.8099229 --CurValF1: 0.8099229 --Patience: 01 --F1 improved: 0.8099229\n",
      "Epoch: 004 --LR: 1e-03 --MaxValF1: 0.8198960 --CurValF1: 0.8198960 --Patience: 01 --F1 improved: 0.8198960\n",
      "Epoch: 005 --LR: 1e-03 --MaxValF1: 0.8203413 --CurValF1: 0.8203413 --Patience: 01 --F1 improved: 0.8203413\n",
      "Epoch: 006 --LR: 1e-03 --MaxValF1: 0.8342669 --CurValF1: 0.8342669 --Patience: 01 --F1 improved: 0.8342669\n",
      "Epoch: 007 --LR: 1e-03 --MaxValF1: 0.8342669 --CurValF1: 0.8329331 --Patience: 01\n",
      "Epoch: 008 --LR: 3e-04 --MaxValF1: 0.8382402 --CurValF1: 0.8382402 --Patience: 02 --F1 improved: 0.8382402\n",
      "Epoch: 009 --LR: 3e-04 --MaxValF1: 0.8428895 --CurValF1: 0.8428895 --Patience: 01 --F1 improved: 0.8428895\n",
      "Epoch: 010 --LR: 3e-04 --MaxValF1: 0.8449336 --CurValF1: 0.8449336 --Patience: 01 --F1 improved: 0.8449336\n",
      "Epoch: 011 --LR: 3e-04 --MaxValF1: 0.8449336 --CurValF1: 0.8445205 --Patience: 01\n",
      "Epoch: 012 --LR: 9e-05 --MaxValF1: 0.8449336 --CurValF1: 0.8437299 --Patience: 02\n",
      "Epoch: 013 --LR: 3e-05 --MaxValF1: 0.8449336 --CurValF1: 0.8432320 --Patience: 03\n",
      "Epoch: 014 --LR: 8e-06 --MaxValF1: 0.8449336 --CurValF1: 0.8434696 --Patience: 04\n",
      "Epoch: 015 --LR: 2e-06 --MaxValF1: 0.8449336 --CurValF1: 0.8431943 --Patience: 05\n",
      "Training stopped due to the patience parameter. --Patience: 05\n",
      "Fold: 03 out of 05 completed.\n",
      "Local System Time: 01:04 AM\n",
      "Pretrained Embeddings: 28831 hits (16686 misses)\n",
      "Epoch: 001 --LR: 1e-03 --MaxValF1: 0.7770389 --CurValF1: 0.7770389 --Patience: 01 --F1 improved: 0.7770389\n",
      "Epoch: 002 --LR: 1e-03 --MaxValF1: 0.8099174 --CurValF1: 0.8099174 --Patience: 01 --F1 improved: 0.8099174\n",
      "Epoch: 003 --LR: 1e-03 --MaxValF1: 0.8262014 --CurValF1: 0.8262014 --Patience: 01 --F1 improved: 0.8262014\n",
      "Epoch: 004 --LR: 1e-03 --MaxValF1: 0.8323102 --CurValF1: 0.8323102 --Patience: 01 --F1 improved: 0.8323102\n",
      "Epoch: 005 --LR: 1e-03 --MaxValF1: 0.8341075 --CurValF1: 0.8341075 --Patience: 01 --F1 improved: 0.8341075\n",
      "Epoch: 006 --LR: 1e-03 --MaxValF1: 0.8441907 --CurValF1: 0.8441907 --Patience: 01 --F1 improved: 0.8441907\n",
      "Epoch: 007 --LR: 1e-03 --MaxValF1: 0.8510638 --CurValF1: 0.8510638 --Patience: 01 --F1 improved: 0.8510638\n",
      "Epoch: 008 --LR: 1e-03 --MaxValF1: 0.8514517 --CurValF1: 0.8514517 --Patience: 01 --F1 improved: 0.8514517\n",
      "Epoch: 009 --LR: 1e-03 --MaxValF1: 0.8574264 --CurValF1: 0.8574264 --Patience: 01 --F1 improved: 0.8574264\n",
      "Epoch: 010 --LR: 1e-03 --MaxValF1: 0.8574264 --CurValF1: 0.8547065 --Patience: 01\n",
      "Epoch: 011 --LR: 3e-04 --MaxValF1: 0.8604651 --CurValF1: 0.8604651 --Patience: 02 --F1 improved: 0.8604651\n",
      "Epoch: 012 --LR: 3e-04 --MaxValF1: 0.8635762 --CurValF1: 0.8635762 --Patience: 01 --F1 improved: 0.8635762\n",
      "Epoch: 013 --LR: 3e-04 --MaxValF1: 0.8635762 --CurValF1: 0.8615284 --Patience: 01\n",
      "Epoch: 014 --LR: 9e-05 --MaxValF1: 0.8635762 --CurValF1: 0.8619551 --Patience: 02\n",
      "Epoch: 015 --LR: 3e-05 --MaxValF1: 0.8635762 --CurValF1: 0.8632812 --Patience: 03\n",
      "Epoch: 016 --LR: 8e-06 --MaxValF1: 0.8635762 --CurValF1: 0.8622754 --Patience: 04\n",
      "Epoch: 017 --LR: 2e-06 --MaxValF1: 0.8635762 --CurValF1: 0.8621838 --Patience: 05\n",
      "Training stopped due to the patience parameter. --Patience: 05\n",
      "Fold: 04 out of 05 completed.\n",
      "Local System Time: 01:09 AM\n",
      "Pretrained Embeddings: 28812 hits (16602 misses)\n",
      "Epoch: 001 --LR: 1e-03 --MaxValF1: 0.7726823 --CurValF1: 0.7726823 --Patience: 01 --F1 improved: 0.7726823\n",
      "Epoch: 002 --LR: 1e-03 --MaxValF1: 0.7994679 --CurValF1: 0.7994679 --Patience: 01 --F1 improved: 0.7994679\n",
      "Epoch: 003 --LR: 1e-03 --MaxValF1: 0.8089888 --CurValF1: 0.8089888 --Patience: 01 --F1 improved: 0.8089888\n",
      "Epoch: 004 --LR: 1e-03 --MaxValF1: 0.8207897 --CurValF1: 0.8207897 --Patience: 01 --F1 improved: 0.8207897\n",
      "Epoch: 005 --LR: 1e-03 --MaxValF1: 0.8225256 --CurValF1: 0.8225256 --Patience: 01 --F1 improved: 0.8225256\n",
      "Epoch: 006 --LR: 1e-03 --MaxValF1: 0.8323777 --CurValF1: 0.8323777 --Patience: 01 --F1 improved: 0.8323777\n",
      "Epoch: 007 --LR: 1e-03 --MaxValF1: 0.8382303 --CurValF1: 0.8382303 --Patience: 01 --F1 improved: 0.8382303\n",
      "Epoch: 008 --LR: 1e-03 --MaxValF1: 0.8446830 --CurValF1: 0.8446830 --Patience: 01 --F1 improved: 0.8446830\n",
      "Epoch: 009 --LR: 1e-03 --MaxValF1: 0.8487395 --CurValF1: 0.8487395 --Patience: 01 --F1 improved: 0.8487395\n"
     ]
    },
    {
     "name": "stdout",
     "output_type": "stream",
     "text": [
      "Epoch: 010 --LR: 1e-03 --MaxValF1: 0.8504399 --CurValF1: 0.8504399 --Patience: 01 --F1 improved: 0.8504399\n",
      "Epoch: 011 --LR: 1e-03 --MaxValF1: 0.8518149 --CurValF1: 0.8518149 --Patience: 01 --F1 improved: 0.8518149\n",
      "Epoch: 012 --LR: 1e-03 --MaxValF1: 0.8559239 --CurValF1: 0.8559239 --Patience: 01 --F1 improved: 0.8559239\n",
      "Epoch: 013 --LR: 1e-03 --MaxValF1: 0.8559239 --CurValF1: 0.8542351 --Patience: 01\n",
      "Epoch: 014 --LR: 3e-04 --MaxValF1: 0.8559239 --CurValF1: 0.8539181 --Patience: 02\n",
      "Epoch: 015 --LR: 9e-05 --MaxValF1: 0.8559239 --CurValF1: 0.8525557 --Patience: 03\n",
      "Epoch: 016 --LR: 3e-05 --MaxValF1: 0.8559239 --CurValF1: 0.8535321 --Patience: 04\n",
      "Epoch: 017 --LR: 8e-06 --MaxValF1: 0.8559239 --CurValF1: 0.8531784 --Patience: 05\n",
      "Training stopped due to the patience parameter. --Patience: 05\n",
      "Fold: 05 out of 05 completed.\n",
      "Local System Time: 01:15 AM\n",
      "Total runtime: 0 hrs 28 mins 25.87 secs\n"
     ]
    }
   ],
   "source": [
    "warnings.filterwarnings( 'ignore' )\n",
    "start_time = time.time()\n",
    "print( 'Local System Time: {}'.format( time.strftime( \"%I:%M %p\", time.localtime() ) ) )\n",
    "\n",
    "valaccuracy, valprecision, valrecall, valf1, valcm = [], [], [], [], []\n",
    "testaccuracy, testprecision, testrecall, testf1, testcm = [], [], [], [], []\n",
    "com_text, com_label, com_predicted, com_prob = [], [], [], []\n",
    "com_indices = []\n",
    "hist = {}\n",
    "\n",
    "fold = 1\n",
    "for train_index, test_index in skf.split( df[ xcolumn ], df[ ycolumn ] ):\n",
    "    # seprating train and test sets\n",
    "    xtrain = df.loc[ train_index ][ xcolumn ].values\n",
    "    xtest = df.loc[ test_index ][ xcolumn ].values\n",
    "    \n",
    "    ytrain = df.loc[ train_index ][ ycolumn ].values\n",
    "    ytest = df.loc[ test_index ][ ycolumn ].values\n",
    "    \n",
    "    # splitting train and validation sets\n",
    "    xtrain, xval, ytrain, yval = train_test_split( xtrain, ytrain, test_size=0.15, random_state=0 )\n",
    "    \n",
    "    # tokenization with keras tokenizer\n",
    "    tokenizer = text.Tokenizer(  )\n",
    "    tokenizer.fit_on_texts( np.append( xtrain, xval ) )\n",
    "\n",
    "    xtrain = tokenizer.texts_to_sequences( xtrain )\n",
    "    xval = tokenizer.texts_to_sequences( xval )\n",
    "    xtest = tokenizer.texts_to_sequences( xtest )\n",
    "    \n",
    "    # pad the tokenized sequences\n",
    "    xtrain = sequence.pad_sequences( xtrain, maxlen=MAX_LEN )\n",
    "    xval = sequence.pad_sequences( xval, maxlen=MAX_LEN )\n",
    "    xtest = sequence.pad_sequences( xtest, maxlen=MAX_LEN )\n",
    "    \n",
    "    # check if pre-trained word embeddings flag is true\n",
    "    if PRE_TRAINED_FLAG == True:\n",
    "        EMBEDDING_MATRIX = get_vectors(\n",
    "            tokenizer=tokenizer, emb_mean=emb_mean, emb_std=emb_std, embed_size=EMBED_SIZE\n",
    "        )\n",
    "    \n",
    "    # define a model\n",
    "    EMBED_INP_SIZE = len( tokenizer.word_index ) + 1\n",
    "    model = All_UT_Models.BGRU(\n",
    "        max_len=MAX_LEN, embed_inp=EMBED_INP_SIZE, embed_size=EMBED_SIZE,\n",
    "        embedding_matrix=EMBEDDING_MATRIX, embed_trainable=EMBED_TRAINABLE,\n",
    "        spdrpt=SPDRPT, drpt=DRPT, emb_weights_init=EMB_WEIGHTS_INIT,\n",
    "        fc_weights_init=FC_WEIGHTS_INIT, fc_act=FC_ACT, optimizer=OPTIMIZER, gru_units=GRU_UNITS\n",
    "    )\n",
    "    \n",
    "    # save model summaries and model architecture diagrams in the first fold only\n",
    "    if fold == 1:\n",
    "        plot_model( model=model, to_file='{}/{}.png'.format( modelsummaries, modelname ), show_shapes=False )\n",
    "        \n",
    "        with open( '{}/{}.txt'.format( modelsummaries, modelname ), 'w' ) as s:\n",
    "            with redirect_stdout( s ):\n",
    "                model.summary()\n",
    "    \n",
    "    K.set_value( model.optimizer.lr, LR_RATE )\n",
    "    \n",
    "    # train the model with callbacks for early stopping\n",
    "    f1callback = UT_Utils.F1_score_callback(\n",
    "        val_data=( xval, yval ), filepath=modelpath + modelname + str( fold ),\n",
    "        patience=PATIENCE, decay=DECAY, decay_rate=DECAY_RATE, decay_after=DECAY_AFTER\n",
    "    )\n",
    "    histmodel = model.fit(\n",
    "        xtrain, ytrain, batch_size=BATCH, epochs=NEPOCHS, verbose=0, callbacks=[ f1callback ]\n",
    "    )\n",
    "    \n",
    "    # save history of all folds\n",
    "    hist[ 'fold' + str( fold ) ] = histmodel.history.copy()\n",
    "    \n",
    "    # delete trained model object\n",
    "    del model, histmodel, f1callback\n",
    "    EMBEDDING_MATRIX = []\n",
    "    K.clear_session()\n",
    "    gc.collect()\n",
    "    # delete pre trained embeddings from the memory\n",
    "    if ( PRE_TRAINED_FLAG == True ) and ( fold == skf.n_splits ):\n",
    "        del EMBEDDINGS_INDEX\n",
    "        gc.collect()\n",
    "    \n",
    "    # load saved model\n",
    "    loaded_model = load_model( modelpath + modelname + str( fold ) )\n",
    "    \n",
    "    # get predictions (probabilities) for validation and test sets respectively\n",
    "    valpredictions = loaded_model.predict( xval, verbose=0, batch_size=BATCH )\n",
    "    testpredictions = loaded_model.predict( xtest, verbose=0, batch_size=BATCH )\n",
    "    \n",
    "    # delete loaded model\n",
    "    del loaded_model\n",
    "    K.clear_session()\n",
    "    gc.collect()\n",
    "    \n",
    "    # optimizer threshold on validation set\n",
    "    threshold = UT_Utils.optimize_threshold( yval, valpredictions )\n",
    "    \n",
    "    # save accuracy, precision, recall, f1 and confusion matrices\n",
    "    vallabels = ( valpredictions >= threshold ).astype( 'int32' )\n",
    "    testlabels = ( testpredictions >= threshold ).astype( 'int32' )\n",
    "    \n",
    "    valaccuracy.append( accuracy_score( yval, vallabels ) )\n",
    "    valprecision.append( precision_score( yval, vallabels ) )\n",
    "    valrecall.append( recall_score( yval, vallabels ) )\n",
    "    valf1.append( f1_score( yval, vallabels ) )\n",
    "    valcm.append( confusion_matrix( yval, vallabels ) )    \n",
    "    \n",
    "    testaccuracy.append( accuracy_score( ytest, testlabels ) )\n",
    "    testprecision.append( precision_score( ytest, testlabels ) )\n",
    "    testrecall.append( recall_score( ytest, testlabels ) )\n",
    "    testf1.append( f1_score( ytest, testlabels ) )\n",
    "    testcm.append( confusion_matrix( ytest, testlabels ) )\n",
    "    \n",
    "    # save for future analysis and ensemble\n",
    "    com_indices.extend( test_index.tolist() )\n",
    "    com_text.extend( df.loc[ test_index ][ xcolumn ] )\n",
    "    com_label.extend( df.loc[ test_index ][ ycolumn ].tolist() )\n",
    "    com_predicted.extend( testlabels[:,0].tolist() )\n",
    "    com_prob.extend( testpredictions[:,0].tolist() )\n",
    "    \n",
    "    print( 'Fold: {:02d} out of {:02d} completed.'.format( fold, skf.get_n_splits() ) )\n",
    "    print( 'Local System Time: {}'.format( time.strftime( \"%I:%M %p\", time.localtime() ) ) )\n",
    "    \n",
    "    fold = fold + 1\n",
    "time_took = time.time() - start_time\n",
    "print( f\"Total runtime: { hms_string( time_took ) }\" )"
   ]
  },
  {
   "cell_type": "code",
   "execution_count": 10,
   "metadata": {},
   "outputs": [
    {
     "name": "stdout",
     "output_type": "stream",
     "text": [
      "Validation Accuracy\n",
      "['0.9462', '0.9458', '0.9452', '0.9528', '0.9497'] 0.9479445780373297 +- 0.0029100403414012185 \n",
      "\n",
      "Validation Precision\n",
      "['0.8506', '0.8717', '0.8419', '0.8805', '0.8647'] 0.8618780586244791 +- 0.013974173069251514 \n",
      "\n",
      "Validation Recall\n",
      "['0.8417', '0.8122', '0.8480', '0.8473', '0.8473'] 0.8392939279069914 +- 0.013727902282819338 \n",
      "\n",
      "Validation F1\n",
      "['0.8461', '0.8409', '0.8449', '0.8636', '0.8559'] 0.8502877142326964 +- 0.008277982523115405\n"
     ]
    }
   ],
   "source": [
    "print( 'Validation Accuracy' )\n",
    "print( [ '{:0.4f}'.format( x ) for x in valaccuracy ], np.mean( valaccuracy ), '+-', np.std( valaccuracy ), '\\n' )\n",
    "\n",
    "print( 'Validation Precision' )\n",
    "print( [ '{:0.4f}'.format( x ) for x in valprecision ], np.mean( valprecision ), '+-', np.std( valprecision ), '\\n' )\n",
    "\n",
    "print( 'Validation Recall' )\n",
    "print( [ '{:0.4f}'.format( x ) for x in valrecall ], np.mean( valrecall ), '+-', np.std( valrecall ), '\\n' )\n",
    "\n",
    "print( 'Validation F1' )\n",
    "print( [ '{:0.4f}'.format( x ) for x in valf1 ], np.mean( valf1 ), '+-', np.std( valf1 ) )"
   ]
  },
  {
   "cell_type": "code",
   "execution_count": 11,
   "metadata": {},
   "outputs": [
    {
     "name": "stdout",
     "output_type": "stream",
     "text": [
      "[[1292  243]\n",
      " [ 227 6971]] \n",
      "\n",
      "[[1250  289]\n",
      " [ 184 7010]] \n",
      "\n",
      "[[1305  234]\n",
      " [ 245 6949]] \n",
      "\n",
      "[[1304  235]\n",
      " [ 177 7017]] \n",
      "\n",
      "[[1304  235]\n",
      " [ 204 6990]] \n",
      "\n"
     ]
    }
   ],
   "source": [
    "for c in valcm:\n",
    "    print( np.rot90(np.rot90(c)), '\\n' )"
   ]
  },
  {
   "cell_type": "code",
   "execution_count": 12,
   "metadata": {},
   "outputs": [
    {
     "name": "stdout",
     "output_type": "stream",
     "text": [
      "Test Accuracy\n",
      "['0.9474', '0.9450', '0.9453', '0.9465', '0.9485'] 0.9465446277210112 +- 0.0013063393583437387 \n",
      "\n",
      "Test Precision\n",
      "['0.8757', '0.8794', '0.8494', '0.8771', '0.8835'] 0.8730042365956528 +- 0.01210968514645991 \n",
      "\n",
      "Test Recall\n",
      "['0.8252', '0.8046', '0.8461', '0.8175', '0.8221'] 0.8230905100425836 +- 0.013491059548445393 \n",
      "\n",
      "Test F1\n",
      "['0.8497', '0.8403', '0.8477', '0.8462', '0.8517'] 0.8471335960103861 +- 0.0038532795265414817\n"
     ]
    }
   ],
   "source": [
    "print( 'Test Accuracy' )\n",
    "print( [ '{:0.4f}'.format( x ) for x in testaccuracy ], np.mean( testaccuracy ), '+-', np.std( testaccuracy ), '\\n' )\n",
    "\n",
    "print( 'Test Precision' )\n",
    "print( [ '{:0.4f}'.format( x ) for x in testprecision ], np.mean( testprecision ), '+-', np.std( testprecision ), '\\n' )\n",
    "\n",
    "print( 'Test Recall' )\n",
    "print( [ '{:0.4f}'.format( x ) for x in testrecall ], np.mean( testrecall ), '+-', np.std( testrecall ), '\\n' )\n",
    "\n",
    "print( 'Test F1' )\n",
    "print( [ '{:0.4f}'.format( x ) for x in testf1 ], np.mean( testf1 ), '+-', np.std( testf1 ) )"
   ]
  },
  {
   "cell_type": "code",
   "execution_count": 13,
   "metadata": {},
   "outputs": [
    {
     "name": "stdout",
     "output_type": "stream",
     "text": [
      "[[ 2162   458]\n",
      " [  307 11628]] \n",
      "\n",
      "[[ 2108   512]\n",
      " [  289 11645]] \n",
      "\n",
      "[[ 2216   403]\n",
      " [  393 11542]] \n",
      "\n",
      "[[ 2141   478]\n",
      " [  300 11635]] \n",
      "\n",
      "[[ 2153   466]\n",
      " [  284 11651]] \n",
      "\n"
     ]
    }
   ],
   "source": [
    "for c in testcm:\n",
    "    print( np.rot90(np.rot90(c)), '\\n' )"
   ]
  },
  {
   "cell_type": "code",
   "execution_count": 14,
   "metadata": {},
   "outputs": [],
   "source": [
    "file = open( '{}/ResultsMain.csv'.format( modelresults ), mode='a' )\n",
    "file.write( modelname )\n",
    "file.write( ',' )\n",
    "file.write( str(np.mean( testaccuracy ))[:7] + '+-' + str(np.std( testaccuracy ))[:6] )\n",
    "file.write( ',' )\n",
    "file.write( str(np.mean( testprecision ))[:7] + '+-' + str(np.std( testprecision ))[:6] )\n",
    "file.write( ',' )\n",
    "file.write( str(np.mean( testrecall ))[:7] + '+-' + str(np.std( testrecall ))[:6] )\n",
    "file.write( ',' )\n",
    "file.write( str(np.mean( testf1 ))[:7] + '+-' + str(np.std( testf1 ))[:6] )\n",
    "file.write( '\\n' )\n",
    "file.close()"
   ]
  },
  {
   "cell_type": "code",
   "execution_count": 15,
   "metadata": {},
   "outputs": [
    {
     "data": {
      "text/plain": [
       "(72771, 4)"
      ]
     },
     "execution_count": 15,
     "metadata": {},
     "output_type": "execute_result"
    }
   ],
   "source": [
    "dfPredictions = pd.DataFrame(  )\n",
    "dfPredictions[ 'comment_indices' ] = com_indices\n",
    "#dfPredictions[ 'comment_text' ] = com_text #comment text\n",
    "dfPredictions[ 'comment_label' ] = com_label\n",
    "dfPredictions[ 'comment_predicted' ] = com_predicted\n",
    "dfPredictions[ 'comment_prob' ] = com_prob\n",
    "dfPredictions.to_csv( '{}/{}.csv'.format( modelresults, modelname ), index=False )\n",
    "dfPredictions.shape"
   ]
  }
 ],
 "metadata": {
  "kernelspec": {
   "display_name": "tf_2.8",
   "language": "python",
   "name": "tf_2.8"
  },
  "language_info": {
   "codemirror_mode": {
    "name": "ipython",
    "version": 3
   },
   "file_extension": ".py",
   "mimetype": "text/x-python",
   "name": "python",
   "nbconvert_exporter": "python",
   "pygments_lexer": "ipython3",
   "version": "3.7.13"
  },
  "varInspector": {
   "cols": {
    "lenName": 16,
    "lenType": 16,
    "lenVar": 40
   },
   "kernels_config": {
    "python": {
     "delete_cmd_postfix": "",
     "delete_cmd_prefix": "del ",
     "library": "var_list.py",
     "varRefreshCmd": "print(var_dic_list())"
    },
    "r": {
     "delete_cmd_postfix": ") ",
     "delete_cmd_prefix": "rm(",
     "library": "var_list.r",
     "varRefreshCmd": "cat(var_dic_list()) "
    }
   },
   "types_to_exclude": [
    "module",
    "function",
    "builtin_function_or_method",
    "instance",
    "_Feature"
   ],
   "window_display": false
  }
 },
 "nbformat": 4,
 "nbformat_minor": 2
}

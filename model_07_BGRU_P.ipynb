{
 "cells": [
  {
   "cell_type": "code",
   "execution_count": 1,
   "metadata": {},
   "outputs": [],
   "source": [
    "import warnings\n",
    "warnings.filterwarnings( 'ignore' )\n",
    "\n",
    "import gc\n",
    "import os\n",
    "import time\n",
    "import numpy as np\n",
    "import pandas as pd\n",
    "\n",
    "from sklearn.metrics import accuracy_score, precision_score, recall_score\n",
    "from sklearn.metrics import f1_score, confusion_matrix\n",
    "from sklearn.model_selection import StratifiedKFold, train_test_split\n",
    "\n",
    "import tensorflow as tf\n",
    "from tensorflow.keras import backend as K\n",
    "from tensorflow.keras.models import load_model\n",
    "from tensorflow.keras.preprocessing import text, sequence\n",
    "\n",
    "from contextlib import redirect_stdout\n",
    "from tensorflow.keras.utils import plot_model\n",
    "\n",
    "os.environ['TF_CPP_MIN_LOG_LEVEL'] = '2' # supress tensorflow warnings\n",
    "\n",
    "os.environ[\"CUDA_VISIBLE_DEVICES\"] = \"0\""
   ]
  },
  {
   "cell_type": "code",
   "execution_count": 2,
   "metadata": {},
   "outputs": [],
   "source": [
    "import All_UT_Models\n",
    "import UT_Utils"
   ]
  },
  {
   "cell_type": "code",
   "execution_count": 3,
   "metadata": {},
   "outputs": [],
   "source": [
    "# hyper parameters for this model\n",
    "\n",
    "MAX_LEN = 100\n",
    "EMBED_SIZE = 300\n",
    "PRE_TRAINED_FLAG = True\n",
    "EMBED_TRAINABLE = False\n",
    "\n",
    "EMB_WEIGHTS_INIT = 'he_normal'\n",
    "SPDRPT = 0.35\n",
    "DRPT = 0.2\n",
    "FC_WEIGHTS_INIT = 'he_uniform'\n",
    "FC_ACT = 'elu'\n",
    "LR_RATE = 1e-3\n",
    "OPTIMIZER = 'adam'\n",
    "FCL_LOSS_ALP = 0.25\n",
    "FCL_LOSS_GAM = 5\n",
    "\n",
    "BATCH = 32\n",
    "NEPOCHS = 30\n",
    "PATIENCE = 5\n",
    "DECAY = True\n",
    "DECAY_RATE = 0.3\n",
    "DECAY_AFTER = 1"
   ]
  },
  {
   "cell_type": "code",
   "execution_count": 4,
   "metadata": {},
   "outputs": [],
   "source": [
    "#EMBEDDING_FILE = './Embeddings/urduvec_140M_100K_300d.txt'\n",
    "EMBEDDING_FILE = './Embeddings/cc.ur.300.vec'\n",
    "\n",
    "EMBEDDING_MATRIX = []\n",
    "\n",
    "modelname = 'BGRU_P-ft'\n",
    "\n",
    "modelpath = './Saved Models/' + modelname + '/'\n",
    "modelresults = './Model Results'\n",
    "modelsummaries = './Model - Summaries-Figures'\n",
    "\n",
    "DIRECTORIES_TO_BE_CREATED = [ modelpath, modelresults, modelsummaries ]\n",
    "for directory in DIRECTORIES_TO_BE_CREATED:\n",
    "    if not os.path.exists( directory ):\n",
    "        os.makedirs( directory )"
   ]
  },
  {
   "cell_type": "code",
   "execution_count": 5,
   "metadata": {},
   "outputs": [],
   "source": [
    "def hms_string( sec_elapsed ):\n",
    "    h = int(sec_elapsed / (60 * 60))\n",
    "    m = int((sec_elapsed % (60 * 60)) / 60)\n",
    "    s = sec_elapsed % 60\n",
    "    return \"{} hrs {:>02} mins {:>05.2f} secs\".format( h, m, s )"
   ]
  },
  {
   "cell_type": "code",
   "execution_count": 6,
   "metadata": {},
   "outputs": [
    {
     "data": {
      "text/plain": [
       "(72771, 3)"
      ]
     },
     "execution_count": 6,
     "metadata": {},
     "output_type": "execute_result"
    }
   ],
   "source": [
    "sheets = [ pd.read_excel( 'RUT_UT_Comments.xlsx', 'Sheet1' ), pd.read_excel( 'RUT_UT_Comments.xlsx', 'Sheet2' ) ]\n",
    "df = pd.concat( sheets )\n",
    "df.reset_index( drop=True, inplace=True )\n",
    "\n",
    "df.Urdu = df.Urdu.astype( 'str' )\n",
    "df.Urdu = df.Urdu.apply( UT_Utils.urdu_preprocessing )\n",
    "\n",
    "df.dropna( inplace=True )\n",
    "df.reset_index( drop=True, inplace=True )\n",
    "\n",
    "del sheets\n",
    "gc.collect()\n",
    "\n",
    "xcolumn = 'Urdu'\n",
    "ycolumn = 'Toxic'\n",
    "\n",
    "df.shape"
   ]
  },
  {
   "cell_type": "code",
   "execution_count": 7,
   "metadata": {},
   "outputs": [
    {
     "name": "stdout",
     "output_type": "stream",
     "text": [
      "Total Words in Pretrained Embeddings:  1153999\n",
      "Pretrained Embeddings mean: -0.00027458658  std:  0.024344679\n"
     ]
    }
   ],
   "source": [
    "def get_coefs( word, *arr ):\n",
    "    return word, np.asarray( arr, dtype='float32' )\n",
    "\n",
    "def get_vectors( tokenizer, emb_mean, emb_std, embed_size ):\n",
    "    hits = 0\n",
    "    misses = 0\n",
    "    word_index = tokenizer.word_index\n",
    "    num_words = len( word_index ) + 1\n",
    "    embedding_matrix = np.random.normal( emb_mean, emb_std, ( num_words, embed_size ) ) # for unk tokens\n",
    "    embedding_matrix[0] = np.zeros( ( embed_size ) ) # replace zero padding with zeros\n",
    "    for word, i in word_index.items(  ):\n",
    "        embedding_vector = EMBEDDINGS_INDEX.get( word )\n",
    "        if embedding_vector is not None:\n",
    "            embedding_matrix[ i ] = embedding_vector\n",
    "            hits += 1\n",
    "        else:\n",
    "            misses += 1\n",
    "    print( \"Pretrained Embeddings: %d hits (%d misses)\" % ( hits, misses ) )\n",
    "    gc.collect()\n",
    "    return embedding_matrix\n",
    "\n",
    "if PRE_TRAINED_FLAG == True:\n",
    "    EMBEDDINGS_INDEX = dict( get_coefs( *o.strip().split() ) for o in open( EMBEDDING_FILE, encoding='utf-8' )  if len(o)>19 )\n",
    "    print( 'Total Words in Pretrained Embeddings: ', len( EMBEDDINGS_INDEX.values() ) )\n",
    "    all_embs = np.stack( EMBEDDINGS_INDEX.values() )\n",
    "    emb_mean, emb_std = all_embs.mean(), all_embs.std()\n",
    "    print( 'Pretrained Embeddings mean:', emb_mean, ' std: ', emb_std )"
   ]
  },
  {
   "cell_type": "code",
   "execution_count": 8,
   "metadata": {},
   "outputs": [
    {
     "name": "stdout",
     "output_type": "stream",
     "text": [
      "StratifiedKFold(n_splits=5, random_state=0, shuffle=True)\n"
     ]
    }
   ],
   "source": [
    "skf = StratifiedKFold( n_splits=5, random_state=0, shuffle=True )\n",
    "print(skf)"
   ]
  },
  {
   "cell_type": "code",
   "execution_count": 9,
   "metadata": {},
   "outputs": [
    {
     "name": "stdout",
     "output_type": "stream",
     "text": [
      "Local System Time: 11:39 PM\n",
      "Pretrained Embeddings: 28830 hits (16914 misses)\n",
      "Epoch: 001 --LR: 1e-03 --MaxValF1: 0.8124380 --CurValF1: 0.8124380 --Patience: 01 --F1 improved: 0.8124380\n",
      "Epoch: 002 --LR: 1e-03 --MaxValF1: 0.8313802 --CurValF1: 0.8313802 --Patience: 01 --F1 improved: 0.8313802\n",
      "Epoch: 003 --LR: 1e-03 --MaxValF1: 0.8428665 --CurValF1: 0.8428665 --Patience: 01 --F1 improved: 0.8428665\n",
      "Epoch: 004 --LR: 1e-03 --MaxValF1: 0.8428665 --CurValF1: 0.8346866 --Patience: 01\n",
      "Epoch: 005 --LR: 3e-04 --MaxValF1: 0.8514398 --CurValF1: 0.8514398 --Patience: 02 --F1 improved: 0.8514398\n",
      "Epoch: 006 --LR: 3e-04 --MaxValF1: 0.8514398 --CurValF1: 0.8514082 --Patience: 01\n",
      "Epoch: 007 --LR: 9e-05 --MaxValF1: 0.8529612 --CurValF1: 0.8529612 --Patience: 02 --F1 improved: 0.8529612\n",
      "Epoch: 008 --LR: 9e-05 --MaxValF1: 0.8545455 --CurValF1: 0.8545455 --Patience: 01 --F1 improved: 0.8545455\n",
      "Epoch: 009 --LR: 9e-05 --MaxValF1: 0.8549618 --CurValF1: 0.8549618 --Patience: 01 --F1 improved: 0.8549618\n",
      "Epoch: 010 --LR: 9e-05 --MaxValF1: 0.8562854 --CurValF1: 0.8562854 --Patience: 01 --F1 improved: 0.8562854\n",
      "Epoch: 011 --LR: 9e-05 --MaxValF1: 0.8571429 --CurValF1: 0.8571429 --Patience: 01 --F1 improved: 0.8571429\n",
      "Epoch: 012 --LR: 9e-05 --MaxValF1: 0.8571429 --CurValF1: 0.8550483 --Patience: 01\n",
      "Epoch: 013 --LR: 3e-05 --MaxValF1: 0.8571429 --CurValF1: 0.8539469 --Patience: 02\n",
      "Epoch: 014 --LR: 8e-06 --MaxValF1: 0.8571429 --CurValF1: 0.8552545 --Patience: 03\n",
      "Epoch: 015 --LR: 2e-06 --MaxValF1: 0.8571429 --CurValF1: 0.8553299 --Patience: 04\n",
      "Epoch: 016 --LR: 7e-07 --MaxValF1: 0.8571429 --CurValF1: 0.8554455 --Patience: 05\n",
      "Training stopped due to the patience parameter. --Patience: 05\n",
      "Fold: 01 out of 05 completed.\n",
      "Local System Time: 11:48 PM\n",
      "Pretrained Embeddings: 28751 hits (16720 misses)\n",
      "Epoch: 001 --LR: 1e-03 --MaxValF1: 0.6693699 --CurValF1: 0.6693699 --Patience: 01 --F1 improved: 0.6693699\n",
      "Epoch: 002 --LR: 1e-03 --MaxValF1: 0.8245161 --CurValF1: 0.8245161 --Patience: 01 --F1 improved: 0.8245161\n",
      "Epoch: 003 --LR: 1e-03 --MaxValF1: 0.8370274 --CurValF1: 0.8370274 --Patience: 01 --F1 improved: 0.8370274\n",
      "Epoch: 004 --LR: 1e-03 --MaxValF1: 0.8438906 --CurValF1: 0.8438906 --Patience: 01 --F1 improved: 0.8438906\n",
      "Epoch: 005 --LR: 1e-03 --MaxValF1: 0.8513889 --CurValF1: 0.8513889 --Patience: 01 --F1 improved: 0.8513889\n",
      "Epoch: 006 --LR: 1e-03 --MaxValF1: 0.8560184 --CurValF1: 0.8560184 --Patience: 01 --F1 improved: 0.8560184\n",
      "Epoch: 007 --LR: 1e-03 --MaxValF1: 0.8560184 --CurValF1: 0.8531055 --Patience: 01\n",
      "Epoch: 008 --LR: 3e-04 --MaxValF1: 0.8593697 --CurValF1: 0.8593697 --Patience: 02 --F1 improved: 0.8593697\n",
      "Epoch: 009 --LR: 3e-04 --MaxValF1: 0.8604574 --CurValF1: 0.8604574 --Patience: 01 --F1 improved: 0.8604574\n",
      "Epoch: 010 --LR: 3e-04 --MaxValF1: 0.8636512 --CurValF1: 0.8636512 --Patience: 01 --F1 improved: 0.8636512\n",
      "Epoch: 011 --LR: 3e-04 --MaxValF1: 0.8636512 --CurValF1: 0.8622432 --Patience: 01\n",
      "Epoch: 012 --LR: 9e-05 --MaxValF1: 0.8636816 --CurValF1: 0.8636816 --Patience: 02 --F1 improved: 0.8636816\n",
      "Epoch: 013 --LR: 9e-05 --MaxValF1: 0.8638973 --CurValF1: 0.8638973 --Patience: 01 --F1 improved: 0.8638973\n",
      "Epoch: 014 --LR: 9e-05 --MaxValF1: 0.8648827 --CurValF1: 0.8648827 --Patience: 01 --F1 improved: 0.8648827\n",
      "Epoch: 015 --LR: 9e-05 --MaxValF1: 0.8668460 --CurValF1: 0.8668460 --Patience: 01 --F1 improved: 0.8668460\n",
      "Epoch: 016 --LR: 9e-05 --MaxValF1: 0.8674778 --CurValF1: 0.8674778 --Patience: 01 --F1 improved: 0.8674778\n",
      "Epoch: 017 --LR: 9e-05 --MaxValF1: 0.8674778 --CurValF1: 0.8664236 --Patience: 01\n",
      "Epoch: 018 --LR: 3e-05 --MaxValF1: 0.8674778 --CurValF1: 0.8667104 --Patience: 02\n",
      "Epoch: 019 --LR: 8e-06 --MaxValF1: 0.8674778 --CurValF1: 0.8667758 --Patience: 03\n",
      "Epoch: 020 --LR: 2e-06 --MaxValF1: 0.8677145 --CurValF1: 0.8677145 --Patience: 04 --F1 improved: 0.8677145\n",
      "Epoch: 021 --LR: 2e-06 --MaxValF1: 0.8677145 --CurValF1: 0.8676278 --Patience: 01\n",
      "Epoch: 022 --LR: 7e-07 --MaxValF1: 0.8679987 --CurValF1: 0.8679987 --Patience: 02 --F1 improved: 0.8679987\n",
      "Epoch: 023 --LR: 7e-07 --MaxValF1: 0.8679987 --CurValF1: 0.8675410 --Patience: 01\n",
      "Epoch: 024 --LR: 2e-07 --MaxValF1: 0.8679987 --CurValF1: 0.8676278 --Patience: 02\n",
      "Epoch: 025 --LR: 7e-08 --MaxValF1: 0.8679987 --CurValF1: 0.8676278 --Patience: 03\n",
      "Epoch: 026 --LR: 2e-08 --MaxValF1: 0.8679987 --CurValF1: 0.8676278 --Patience: 04\n",
      "Epoch: 027 --LR: 6e-09 --MaxValF1: 0.8679987 --CurValF1: 0.8676278 --Patience: 05\n",
      "Training stopped due to the patience parameter. --Patience: 05\n",
      "Fold: 02 out of 05 completed.\n",
      "Local System Time: 12:04 AM\n",
      "Pretrained Embeddings: 28866 hits (16643 misses)\n",
      "Epoch: 001 --LR: 1e-03 --MaxValF1: 0.8151316 --CurValF1: 0.8151316 --Patience: 01 --F1 improved: 0.8151316\n",
      "Epoch: 002 --LR: 1e-03 --MaxValF1: 0.8325963 --CurValF1: 0.8325963 --Patience: 01 --F1 improved: 0.8325963\n",
      "Epoch: 003 --LR: 1e-03 --MaxValF1: 0.8475551 --CurValF1: 0.8475551 --Patience: 01 --F1 improved: 0.8475551\n",
      "Epoch: 004 --LR: 1e-03 --MaxValF1: 0.8557345 --CurValF1: 0.8557345 --Patience: 01 --F1 improved: 0.8557345\n",
      "Epoch: 005 --LR: 1e-03 --MaxValF1: 0.8653911 --CurValF1: 0.8653911 --Patience: 01 --F1 improved: 0.8653911\n",
      "Epoch: 006 --LR: 1e-03 --MaxValF1: 0.8653911 --CurValF1: 0.8589530 --Patience: 01\n",
      "Epoch: 007 --LR: 3e-04 --MaxValF1: 0.8661616 --CurValF1: 0.8661616 --Patience: 02 --F1 improved: 0.8661616\n",
      "Epoch: 008 --LR: 3e-04 --MaxValF1: 0.8738680 --CurValF1: 0.8738680 --Patience: 01 --F1 improved: 0.8738680\n",
      "Epoch: 009 --LR: 3e-04 --MaxValF1: 0.8756791 --CurValF1: 0.8756791 --Patience: 01 --F1 improved: 0.8756791\n",
      "Epoch: 010 --LR: 3e-04 --MaxValF1: 0.8756791 --CurValF1: 0.8753230 --Patience: 01\n",
      "Epoch: 011 --LR: 9e-05 --MaxValF1: 0.8763673 --CurValF1: 0.8763673 --Patience: 02 --F1 improved: 0.8763673\n",
      "Epoch: 012 --LR: 9e-05 --MaxValF1: 0.8774757 --CurValF1: 0.8774757 --Patience: 01 --F1 improved: 0.8774757\n",
      "Epoch: 013 --LR: 9e-05 --MaxValF1: 0.8789267 --CurValF1: 0.8789267 --Patience: 01 --F1 improved: 0.8789267\n",
      "Epoch: 014 --LR: 9e-05 --MaxValF1: 0.8789267 --CurValF1: 0.8776978 --Patience: 01\n",
      "Epoch: 015 --LR: 3e-05 --MaxValF1: 0.8789267 --CurValF1: 0.8782093 --Patience: 02\n",
      "Epoch: 016 --LR: 8e-06 --MaxValF1: 0.8789267 --CurValF1: 0.8776509 --Patience: 03\n",
      "Epoch: 017 --LR: 2e-06 --MaxValF1: 0.8789267 --CurValF1: 0.8774446 --Patience: 04\n",
      "Epoch: 018 --LR: 7e-07 --MaxValF1: 0.8789267 --CurValF1: 0.8776509 --Patience: 05\n",
      "Training stopped due to the patience parameter. --Patience: 05\n",
      "Fold: 03 out of 05 completed.\n",
      "Local System Time: 12:14 AM\n",
      "Pretrained Embeddings: 28831 hits (16686 misses)\n",
      "Epoch: 001 --LR: 1e-03 --MaxValF1: 0.7979764 --CurValF1: 0.7979764 --Patience: 01 --F1 improved: 0.7979764\n",
      "Epoch: 002 --LR: 1e-03 --MaxValF1: 0.8363517 --CurValF1: 0.8363517 --Patience: 01 --F1 improved: 0.8363517\n",
      "Epoch: 003 --LR: 1e-03 --MaxValF1: 0.8484848 --CurValF1: 0.8484848 --Patience: 01 --F1 improved: 0.8484848\n",
      "Epoch: 004 --LR: 1e-03 --MaxValF1: 0.8532079 --CurValF1: 0.8532079 --Patience: 01 --F1 improved: 0.8532079\n",
      "Epoch: 005 --LR: 1e-03 --MaxValF1: 0.8558077 --CurValF1: 0.8558077 --Patience: 01 --F1 improved: 0.8558077\n",
      "Epoch: 006 --LR: 1e-03 --MaxValF1: 0.8614576 --CurValF1: 0.8614576 --Patience: 01 --F1 improved: 0.8614576\n",
      "Epoch: 007 --LR: 1e-03 --MaxValF1: 0.8614576 --CurValF1: 0.8606503 --Patience: 01\n",
      "Epoch: 008 --LR: 3e-04 --MaxValF1: 0.8699160 --CurValF1: 0.8699160 --Patience: 02 --F1 improved: 0.8699160\n",
      "Epoch: 009 --LR: 3e-04 --MaxValF1: 0.8699160 --CurValF1: 0.8682171 --Patience: 01\n",
      "Epoch: 010 --LR: 9e-05 --MaxValF1: 0.8699160 --CurValF1: 0.8697951 --Patience: 02\n",
      "Epoch: 011 --LR: 3e-05 --MaxValF1: 0.8699160 --CurValF1: 0.8687932 --Patience: 03\n",
      "Epoch: 012 --LR: 8e-06 --MaxValF1: 0.8699160 --CurValF1: 0.8687335 --Patience: 04\n",
      "Epoch: 013 --LR: 2e-06 --MaxValF1: 0.8699160 --CurValF1: 0.8685367 --Patience: 05\n",
      "Training stopped due to the patience parameter. --Patience: 05\n",
      "Fold: 04 out of 05 completed.\n",
      "Local System Time: 12:22 AM\n",
      "Pretrained Embeddings: 28812 hits (16602 misses)\n",
      "Epoch: 001 --LR: 1e-03 --MaxValF1: 0.8151882 --CurValF1: 0.8151882 --Patience: 01 --F1 improved: 0.8151882\n",
      "Epoch: 002 --LR: 1e-03 --MaxValF1: 0.8310719 --CurValF1: 0.8310719 --Patience: 01 --F1 improved: 0.8310719\n",
      "Epoch: 003 --LR: 1e-03 --MaxValF1: 0.8466957 --CurValF1: 0.8466957 --Patience: 01 --F1 improved: 0.8466957\n"
     ]
    },
    {
     "name": "stdout",
     "output_type": "stream",
     "text": [
      "Epoch: 004 --LR: 1e-03 --MaxValF1: 0.8506876 --CurValF1: 0.8506876 --Patience: 01 --F1 improved: 0.8506876\n",
      "Epoch: 005 --LR: 1e-03 --MaxValF1: 0.8567568 --CurValF1: 0.8567568 --Patience: 01 --F1 improved: 0.8567568\n",
      "Epoch: 006 --LR: 1e-03 --MaxValF1: 0.8611576 --CurValF1: 0.8611576 --Patience: 01 --F1 improved: 0.8611576\n",
      "Epoch: 007 --LR: 1e-03 --MaxValF1: 0.8611576 --CurValF1: 0.8566541 --Patience: 01\n",
      "Epoch: 008 --LR: 3e-04 --MaxValF1: 0.8699403 --CurValF1: 0.8699403 --Patience: 02 --F1 improved: 0.8699403\n",
      "Epoch: 009 --LR: 3e-04 --MaxValF1: 0.8699403 --CurValF1: 0.8691899 --Patience: 01\n",
      "Epoch: 010 --LR: 9e-05 --MaxValF1: 0.8699403 --CurValF1: 0.8689516 --Patience: 02\n",
      "Epoch: 011 --LR: 3e-05 --MaxValF1: 0.8699403 --CurValF1: 0.8692510 --Patience: 03\n",
      "Epoch: 012 --LR: 8e-06 --MaxValF1: 0.8699403 --CurValF1: 0.8697368 --Patience: 04\n",
      "Epoch: 013 --LR: 2e-06 --MaxValF1: 0.8699403 --CurValF1: 0.8697659 --Patience: 05\n",
      "Training stopped due to the patience parameter. --Patience: 05\n",
      "Fold: 05 out of 05 completed.\n",
      "Local System Time: 12:29 AM\n",
      "Total runtime: 0 hrs 49 mins 56.83 secs\n"
     ]
    }
   ],
   "source": [
    "warnings.filterwarnings( 'ignore' )\n",
    "start_time = time.time()\n",
    "print( 'Local System Time: {}'.format( time.strftime( \"%I:%M %p\", time.localtime() ) ) )\n",
    "\n",
    "valaccuracy, valprecision, valrecall, valf1, valcm = [], [], [], [], []\n",
    "testaccuracy, testprecision, testrecall, testf1, testcm = [], [], [], [], []\n",
    "com_text, com_label, com_predicted, com_prob = [], [], [], []\n",
    "com_indices = []\n",
    "hist = {}\n",
    "\n",
    "fold = 1\n",
    "for train_index, test_index in skf.split( df[ xcolumn ], df[ ycolumn ] ):\n",
    "    # seprating train and test sets\n",
    "    xtrain = df.loc[ train_index ][ xcolumn ].values\n",
    "    xtest = df.loc[ test_index ][ xcolumn ].values\n",
    "    \n",
    "    ytrain = df.loc[ train_index ][ ycolumn ].values\n",
    "    ytest = df.loc[ test_index ][ ycolumn ].values\n",
    "    \n",
    "    # splitting train and validation sets\n",
    "    xtrain, xval, ytrain, yval = train_test_split( xtrain, ytrain, test_size=0.15, random_state=0 )\n",
    "    \n",
    "    # tokenization with keras tokenizer\n",
    "    tokenizer = text.Tokenizer(  )\n",
    "    tokenizer.fit_on_texts( np.append( xtrain, xval ) )\n",
    "\n",
    "    xtrain = tokenizer.texts_to_sequences( xtrain )\n",
    "    xval = tokenizer.texts_to_sequences( xval )\n",
    "    xtest = tokenizer.texts_to_sequences( xtest )\n",
    "    \n",
    "    # pad the tokenized sequences\n",
    "    xtrain = sequence.pad_sequences( xtrain, maxlen=MAX_LEN )\n",
    "    xval = sequence.pad_sequences( xval, maxlen=MAX_LEN )\n",
    "    xtest = sequence.pad_sequences( xtest, maxlen=MAX_LEN )\n",
    "    \n",
    "    # check if pre-trained word embeddings flag is true\n",
    "    if PRE_TRAINED_FLAG == True:\n",
    "        EMBEDDING_MATRIX = get_vectors(\n",
    "            tokenizer=tokenizer, emb_mean=emb_mean, emb_std=emb_std, embed_size=EMBED_SIZE\n",
    "        )\n",
    "    \n",
    "    # define a model\n",
    "    EMBED_INP_SIZE = len( tokenizer.word_index ) + 1\n",
    "    model = All_UT_Models.BGRU_P(\n",
    "        max_len=MAX_LEN, embed_inp=EMBED_INP_SIZE, embed_size=EMBED_SIZE,\n",
    "        embedding_matrix=EMBEDDING_MATRIX, embed_trainable=EMBED_TRAINABLE,\n",
    "        spdrpt=SPDRPT, drpt=DRPT, emb_weights_init=EMB_WEIGHTS_INIT, fc_weights_init=FC_WEIGHTS_INIT,\n",
    "        fc_act=FC_ACT, optimizer=OPTIMIZER, fcl_loss_alp=FCL_LOSS_ALP, fcl_loss_gam=FCL_LOSS_GAM\n",
    "    )\n",
    "    \n",
    "    # save model summaries and model architecture diagrams in the first fold only\n",
    "    if fold == 1:\n",
    "        plot_model( model=model, to_file='{}/{}.png'.format( modelsummaries, modelname ), show_shapes=False )\n",
    "        \n",
    "        with open( '{}/{}.txt'.format( modelsummaries, modelname ), 'w' ) as s:\n",
    "            with redirect_stdout( s ):\n",
    "                model.summary()\n",
    "    \n",
    "    K.set_value( model.optimizer.lr, LR_RATE )\n",
    "    \n",
    "    # train the model with callbacks for early stopping\n",
    "    f1callback = UT_Utils.F1_score_callback(\n",
    "        val_data=( xval, yval ), filepath=modelpath + modelname + str( fold ),\n",
    "        patience=PATIENCE, decay=DECAY, decay_rate=DECAY_RATE, decay_after=DECAY_AFTER\n",
    "    )\n",
    "    histmodel = model.fit(\n",
    "        xtrain, ytrain, batch_size=BATCH, epochs=NEPOCHS, verbose=0, callbacks=[ f1callback ]\n",
    "    )\n",
    "    \n",
    "    # save history of all folds\n",
    "    hist[ 'fold' + str( fold ) ] = histmodel.history.copy()\n",
    "    \n",
    "    # delete trained model object\n",
    "    del model, histmodel, f1callback\n",
    "    EMBEDDING_MATRIX = []\n",
    "    K.clear_session()\n",
    "    gc.collect()\n",
    "    # delete pre trained embeddings from the memory\n",
    "    if ( PRE_TRAINED_FLAG == True ) and ( fold == skf.n_splits ):\n",
    "        del EMBEDDINGS_INDEX\n",
    "        gc.collect()\n",
    "    \n",
    "    # load saved model\n",
    "    custt_obss = { 'focal_loss_fixed' : All_UT_Models.focal_loss( alpha=FCL_LOSS_ALP, gamma=FCL_LOSS_GAM ) }\n",
    "    loaded_model = load_model( modelpath + modelname + str( fold ), custom_objects=custt_obss )\n",
    "    \n",
    "    # get predictions (probabilities) for validation and test sets respectively\n",
    "    valpredictions = loaded_model.predict( xval, verbose=0, batch_size=BATCH )\n",
    "    testpredictions = loaded_model.predict( xtest, verbose=0, batch_size=BATCH )\n",
    "    \n",
    "    # delete loaded model\n",
    "    del loaded_model, custt_obss\n",
    "    K.clear_session()\n",
    "    gc.collect()\n",
    "    \n",
    "    # optimizer threshold on validation set\n",
    "    threshold = UT_Utils.optimize_threshold( yval, valpredictions )\n",
    "    \n",
    "    # save accuracy, precision, recall, f1 and confusion matrices\n",
    "    vallabels = ( valpredictions >= threshold ).astype( 'int32' )\n",
    "    testlabels = ( testpredictions >= threshold ).astype( 'int32' )\n",
    "    \n",
    "    valaccuracy.append( accuracy_score( yval, vallabels ) )\n",
    "    valprecision.append( precision_score( yval, vallabels ) )\n",
    "    valrecall.append( recall_score( yval, vallabels ) )\n",
    "    valf1.append( f1_score( yval, vallabels ) )\n",
    "    valcm.append( confusion_matrix( yval, vallabels ) )    \n",
    "    \n",
    "    testaccuracy.append( accuracy_score( ytest, testlabels ) )\n",
    "    testprecision.append( precision_score( ytest, testlabels ) )\n",
    "    testrecall.append( recall_score( ytest, testlabels ) )\n",
    "    testf1.append( f1_score( ytest, testlabels ) )\n",
    "    testcm.append( confusion_matrix( ytest, testlabels ) )\n",
    "    \n",
    "    # save for future analysis and ensemble\n",
    "    com_indices.extend( test_index.tolist() )\n",
    "    com_text.extend( df.loc[ test_index ][ xcolumn ] )\n",
    "    com_label.extend( df.loc[ test_index ][ ycolumn ].tolist() )\n",
    "    com_predicted.extend( testlabels[:,0].tolist() )\n",
    "    com_prob.extend( testpredictions[:,0].tolist() )\n",
    "    \n",
    "    print( 'Fold: {:02d} out of {:02d} completed.'.format( fold, skf.get_n_splits() ) )\n",
    "    print( 'Local System Time: {}'.format( time.strftime( \"%I:%M %p\", time.localtime() ) ) )\n",
    "    \n",
    "    fold = fold + 1\n",
    "time_took = time.time() - start_time\n",
    "print( f\"Total runtime: { hms_string( time_took ) }\" )"
   ]
  },
  {
   "cell_type": "code",
   "execution_count": 10,
   "metadata": {},
   "outputs": [
    {
     "name": "stdout",
     "output_type": "stream",
     "text": [
      "Validation Accuracy\n",
      "['0.9513', '0.9539', '0.9576', '0.9557', '0.9551'] 0.954723462727585 +- 0.0020871924681212864 \n",
      "\n",
      "Validation Precision\n",
      "['0.8854', '0.8752', '0.8853', '0.9011', '0.8888'] 0.8871618983385264 +- 0.008340625633577363 \n",
      "\n",
      "Validation Recall\n",
      "['0.8306', '0.8609', '0.8726', '0.8408', '0.8519'] 0.8513739409447736 +- 0.014743154450505554 \n",
      "\n",
      "Validation F1\n",
      "['0.8571', '0.8680', '0.8789', '0.8699', '0.8699'] 0.8687848987225587 +- 0.006951627702259455\n"
     ]
    }
   ],
   "source": [
    "print( 'Validation Accuracy' )\n",
    "print( [ '{:0.4f}'.format( x ) for x in valaccuracy ], np.mean( valaccuracy ), '+-', np.std( valaccuracy ), '\\n' )\n",
    "\n",
    "print( 'Validation Precision' )\n",
    "print( [ '{:0.4f}'.format( x ) for x in valprecision ], np.mean( valprecision ), '+-', np.std( valprecision ), '\\n' )\n",
    "\n",
    "print( 'Validation Recall' )\n",
    "print( [ '{:0.4f}'.format( x ) for x in valrecall ], np.mean( valrecall ), '+-', np.std( valrecall ), '\\n' )\n",
    "\n",
    "print( 'Validation F1' )\n",
    "print( [ '{:0.4f}'.format( x ) for x in valf1 ], np.mean( valf1 ), '+-', np.std( valf1 ) )"
   ]
  },
  {
   "cell_type": "code",
   "execution_count": 11,
   "metadata": {},
   "outputs": [
    {
     "name": "stdout",
     "output_type": "stream",
     "text": [
      "[[1275  260]\n",
      " [ 165 7033]] \n",
      "\n",
      "[[1325  214]\n",
      " [ 189 7005]] \n",
      "\n",
      "[[1343  196]\n",
      " [ 174 7020]] \n",
      "\n",
      "[[1294  245]\n",
      " [ 142 7052]] \n",
      "\n",
      "[[1311  228]\n",
      " [ 164 7030]] \n",
      "\n"
     ]
    }
   ],
   "source": [
    "for c in valcm:\n",
    "    print( np.rot90(np.rot90(c)), '\\n' )"
   ]
  },
  {
   "cell_type": "code",
   "execution_count": 12,
   "metadata": {},
   "outputs": [
    {
     "name": "stdout",
     "output_type": "stream",
     "text": [
      "Test Accuracy\n",
      "['0.9524', '0.9539', '0.9566', '0.9508', '0.9544'] 0.9536216519514126 +- 0.001946384618562622 \n",
      "\n",
      "Test Precision\n",
      "['0.9102', '0.8832', '0.8992', '0.9033', '0.8995'] 0.8990796638164597 +- 0.008870145978624717 \n",
      "\n",
      "Test Recall\n",
      "['0.8160', '0.8573', '0.8545', '0.8137', '0.8408'] 0.8364510666328562 +- 0.018515205663735403 \n",
      "\n",
      "Test F1\n",
      "['0.8605', '0.8700', '0.8763', '0.8562', '0.8692'] 0.8664330227123906 +- 0.007174598274267822\n"
     ]
    }
   ],
   "source": [
    "print( 'Test Accuracy' )\n",
    "print( [ '{:0.4f}'.format( x ) for x in testaccuracy ], np.mean( testaccuracy ), '+-', np.std( testaccuracy ), '\\n' )\n",
    "\n",
    "print( 'Test Precision' )\n",
    "print( [ '{:0.4f}'.format( x ) for x in testprecision ], np.mean( testprecision ), '+-', np.std( testprecision ), '\\n' )\n",
    "\n",
    "print( 'Test Recall' )\n",
    "print( [ '{:0.4f}'.format( x ) for x in testrecall ], np.mean( testrecall ), '+-', np.std( testrecall ), '\\n' )\n",
    "\n",
    "print( 'Test F1' )\n",
    "print( [ '{:0.4f}'.format( x ) for x in testf1 ], np.mean( testf1 ), '+-', np.std( testf1 ) )"
   ]
  },
  {
   "cell_type": "code",
   "execution_count": 13,
   "metadata": {},
   "outputs": [
    {
     "name": "stdout",
     "output_type": "stream",
     "text": [
      "[[ 2138   482]\n",
      " [  211 11724]] \n",
      "\n",
      "[[ 2246   374]\n",
      " [  297 11637]] \n",
      "\n",
      "[[ 2238   381]\n",
      " [  251 11684]] \n",
      "\n",
      "[[ 2131   488]\n",
      " [  228 11707]] \n",
      "\n",
      "[[ 2202   417]\n",
      " [  246 11689]] \n",
      "\n"
     ]
    }
   ],
   "source": [
    "for c in testcm:\n",
    "    print( np.rot90(np.rot90(c)), '\\n' )"
   ]
  },
  {
   "cell_type": "code",
   "execution_count": 14,
   "metadata": {},
   "outputs": [],
   "source": [
    "file = open( '{}/ResultsMain.csv'.format( modelresults ), mode='a' )\n",
    "file.write( modelname )\n",
    "file.write( ',' )\n",
    "file.write( str(np.mean( testaccuracy ))[:7] + '+-' + str(np.std( testaccuracy ))[:6] )\n",
    "file.write( ',' )\n",
    "file.write( str(np.mean( testprecision ))[:7] + '+-' + str(np.std( testprecision ))[:6] )\n",
    "file.write( ',' )\n",
    "file.write( str(np.mean( testrecall ))[:7] + '+-' + str(np.std( testrecall ))[:6] )\n",
    "file.write( ',' )\n",
    "file.write( str(np.mean( testf1 ))[:7] + '+-' + str(np.std( testf1 ))[:6] )\n",
    "file.write( '\\n' )\n",
    "file.close()"
   ]
  },
  {
   "cell_type": "code",
   "execution_count": 15,
   "metadata": {},
   "outputs": [
    {
     "data": {
      "text/plain": [
       "(72771, 4)"
      ]
     },
     "execution_count": 15,
     "metadata": {},
     "output_type": "execute_result"
    }
   ],
   "source": [
    "dfPredictions = pd.DataFrame(  )\n",
    "dfPredictions[ 'comment_indices' ] = com_indices\n",
    "#dfPredictions[ 'comment_text' ] = com_text #comment text\n",
    "dfPredictions[ 'comment_label' ] = com_label\n",
    "dfPredictions[ 'comment_predicted' ] = com_predicted\n",
    "dfPredictions[ 'comment_prob' ] = com_prob\n",
    "dfPredictions.to_csv( '{}/{}.csv'.format( modelresults, modelname ), index=False )\n",
    "dfPredictions.shape"
   ]
  }
 ],
 "metadata": {
  "kernelspec": {
   "display_name": "tf_2.8",
   "language": "python",
   "name": "tf_2.8"
  },
  "language_info": {
   "codemirror_mode": {
    "name": "ipython",
    "version": 3
   },
   "file_extension": ".py",
   "mimetype": "text/x-python",
   "name": "python",
   "nbconvert_exporter": "python",
   "pygments_lexer": "ipython3",
   "version": "3.7.13"
  },
  "varInspector": {
   "cols": {
    "lenName": 16,
    "lenType": 16,
    "lenVar": 40
   },
   "kernels_config": {
    "python": {
     "delete_cmd_postfix": "",
     "delete_cmd_prefix": "del ",
     "library": "var_list.py",
     "varRefreshCmd": "print(var_dic_list())"
    },
    "r": {
     "delete_cmd_postfix": ") ",
     "delete_cmd_prefix": "rm(",
     "library": "var_list.r",
     "varRefreshCmd": "cat(var_dic_list()) "
    }
   },
   "types_to_exclude": [
    "module",
    "function",
    "builtin_function_or_method",
    "instance",
    "_Feature"
   ],
   "window_display": false
  }
 },
 "nbformat": 4,
 "nbformat_minor": 2
}

{
 "cells": [
  {
   "cell_type": "code",
   "execution_count": 1,
   "metadata": {},
   "outputs": [],
   "source": [
    "import warnings\n",
    "warnings.filterwarnings( 'ignore' )\n",
    "\n",
    "import gc\n",
    "import os\n",
    "import time\n",
    "import numpy as np\n",
    "import pandas as pd\n",
    "\n",
    "from sklearn.metrics import accuracy_score, precision_score, recall_score\n",
    "from sklearn.metrics import f1_score, confusion_matrix\n",
    "from sklearn.model_selection import StratifiedKFold, train_test_split\n",
    "\n",
    "import tensorflow as tf\n",
    "from tensorflow.keras import backend as K\n",
    "from tensorflow.keras.models import load_model\n",
    "from tensorflow.keras.preprocessing import text, sequence\n",
    "\n",
    "from contextlib import redirect_stdout\n",
    "from tensorflow.keras.utils import plot_model\n",
    "\n",
    "os.environ['TF_CPP_MIN_LOG_LEVEL'] = '2' # supress tensorflow warnings\n",
    "\n",
    "os.environ[\"CUDA_VISIBLE_DEVICES\"] = \"1\""
   ]
  },
  {
   "cell_type": "code",
   "execution_count": 2,
   "metadata": {},
   "outputs": [],
   "source": [
    "import All_UT_Models\n",
    "import UT_Utils"
   ]
  },
  {
   "cell_type": "code",
   "execution_count": 3,
   "metadata": {},
   "outputs": [],
   "source": [
    "# hyper parameters for this model\n",
    "\n",
    "MAX_LEN = 100\n",
    "EMBED_SIZE = 300\n",
    "PRE_TRAINED_FLAG = True\n",
    "EMBED_TRAINABLE = False\n",
    "\n",
    "EMB_WEIGHTS_INIT = 'he_normal'\n",
    "DRPT = 0.4\n",
    "CONV_WEIGHTS_INIT = 'he_uniform'\n",
    "CONV_ACT = 'elu'\n",
    "FC_WEIGHTS_INIT = 'he_uniform'\n",
    "FC_ACT = 'elu'\n",
    "LR_RATE = 1e-3\n",
    "OPTIMIZER = 'adam'\n",
    "\n",
    "BATCH = 32\n",
    "NEPOCHS = 30\n",
    "PATIENCE = 5\n",
    "DECAY = True\n",
    "DECAY_RATE = 0.3\n",
    "DECAY_AFTER = 1"
   ]
  },
  {
   "cell_type": "code",
   "execution_count": 4,
   "metadata": {},
   "outputs": [],
   "source": [
    "#EMBEDDING_FILE = './Embeddings/urduvec_140M_100K_300d.txt'\n",
    "EMBEDDING_FILE = './Embeddings/cc.ur.300.vec'\n",
    "\n",
    "EMBEDDING_MATRIX = []\n",
    "\n",
    "modelname = 'MCBiGRU-ft'\n",
    "\n",
    "modelpath = './Saved Models/' + modelname + '/'\n",
    "modelresults = './Model Results'\n",
    "modelsummaries = './Model - Summaries-Figures'\n",
    "\n",
    "DIRECTORIES_TO_BE_CREATED = [ modelpath, modelresults, modelsummaries ]\n",
    "for directory in DIRECTORIES_TO_BE_CREATED:\n",
    "    if not os.path.exists( directory ):\n",
    "        os.makedirs( directory )"
   ]
  },
  {
   "cell_type": "code",
   "execution_count": 5,
   "metadata": {},
   "outputs": [],
   "source": [
    "def hms_string( sec_elapsed ):\n",
    "    h = int(sec_elapsed / (60 * 60))\n",
    "    m = int((sec_elapsed % (60 * 60)) / 60)\n",
    "    s = sec_elapsed % 60\n",
    "    return \"{} hrs {:>02} mins {:>05.2f} secs\".format( h, m, s )"
   ]
  },
  {
   "cell_type": "code",
   "execution_count": 6,
   "metadata": {},
   "outputs": [
    {
     "data": {
      "text/plain": [
       "(72771, 3)"
      ]
     },
     "execution_count": 6,
     "metadata": {},
     "output_type": "execute_result"
    }
   ],
   "source": [
    "sheets = [ pd.read_excel( 'RUT_UT_Comments.xlsx', 'Sheet1' ), pd.read_excel( 'RUT_UT_Comments.xlsx', 'Sheet2' ) ]\n",
    "df = pd.concat( sheets )\n",
    "df.reset_index( drop=True, inplace=True )\n",
    "\n",
    "df.Urdu = df.Urdu.astype( 'str' )\n",
    "df.Urdu = df.Urdu.apply( UT_Utils.urdu_preprocessing )\n",
    "\n",
    "df.dropna( inplace=True )\n",
    "df.reset_index( drop=True, inplace=True )\n",
    "\n",
    "del sheets\n",
    "gc.collect()\n",
    "\n",
    "xcolumn = 'Urdu'\n",
    "ycolumn = 'Toxic'\n",
    "\n",
    "df.shape"
   ]
  },
  {
   "cell_type": "code",
   "execution_count": 7,
   "metadata": {},
   "outputs": [
    {
     "name": "stdout",
     "output_type": "stream",
     "text": [
      "Total Words in Pretrained Embeddings:  1153999\n",
      "Pretrained Embeddings mean: -0.00027458658  std:  0.024344679\n"
     ]
    }
   ],
   "source": [
    "def get_coefs( word, *arr ):\n",
    "    return word, np.asarray( arr, dtype='float32' )\n",
    "\n",
    "def get_vectors( tokenizer, emb_mean, emb_std, embed_size ):\n",
    "    hits = 0\n",
    "    misses = 0\n",
    "    word_index = tokenizer.word_index\n",
    "    num_words = len( word_index ) + 1\n",
    "    embedding_matrix = np.random.normal( emb_mean, emb_std, ( num_words, embed_size ) ) # for unk tokens\n",
    "    embedding_matrix[0] = np.zeros( ( embed_size ) ) # replace zero padding with zeros\n",
    "    for word, i in word_index.items(  ):\n",
    "        embedding_vector = EMBEDDINGS_INDEX.get( word )\n",
    "        if embedding_vector is not None:\n",
    "            embedding_matrix[ i ] = embedding_vector\n",
    "            hits += 1\n",
    "        else:\n",
    "            misses += 1\n",
    "    print( \"Pretrained Embeddings: %d hits (%d misses)\" % ( hits, misses ) )\n",
    "    gc.collect()\n",
    "    return embedding_matrix\n",
    "\n",
    "if PRE_TRAINED_FLAG == True:\n",
    "    EMBEDDINGS_INDEX = dict( get_coefs( *o.strip().split() ) for o in open( EMBEDDING_FILE, encoding='utf-8' )  if len(o)>19 )\n",
    "    print( 'Total Words in Pretrained Embeddings: ', len( EMBEDDINGS_INDEX.values() ) )\n",
    "    all_embs = np.stack( EMBEDDINGS_INDEX.values() )\n",
    "    emb_mean, emb_std = all_embs.mean(), all_embs.std()\n",
    "    print( 'Pretrained Embeddings mean:', emb_mean, ' std: ', emb_std )"
   ]
  },
  {
   "cell_type": "code",
   "execution_count": 8,
   "metadata": {},
   "outputs": [
    {
     "name": "stdout",
     "output_type": "stream",
     "text": [
      "StratifiedKFold(n_splits=5, random_state=0, shuffle=True)\n"
     ]
    }
   ],
   "source": [
    "skf = StratifiedKFold( n_splits=5, random_state=0, shuffle=True )\n",
    "print(skf)"
   ]
  },
  {
   "cell_type": "code",
   "execution_count": 9,
   "metadata": {},
   "outputs": [
    {
     "name": "stdout",
     "output_type": "stream",
     "text": [
      "Local System Time: 12:46 AM\n",
      "Pretrained Embeddings: 28830 hits (16914 misses)\n",
      "Epoch: 001 --LR: 1e-03 --MaxValF1: 0.7483281 --CurValF1: 0.7483281 --Patience: 01 --F1 improved: 0.7483281\n",
      "Epoch: 002 --LR: 1e-03 --MaxValF1: 0.8154214 --CurValF1: 0.8154214 --Patience: 01 --F1 improved: 0.8154214\n",
      "Epoch: 003 --LR: 1e-03 --MaxValF1: 0.8299830 --CurValF1: 0.8299830 --Patience: 01 --F1 improved: 0.8299830\n",
      "Epoch: 004 --LR: 1e-03 --MaxValF1: 0.8333333 --CurValF1: 0.8333333 --Patience: 01 --F1 improved: 0.8333333\n",
      "Epoch: 005 --LR: 1e-03 --MaxValF1: 0.8394329 --CurValF1: 0.8394329 --Patience: 01 --F1 improved: 0.8394329\n",
      "Epoch: 006 --LR: 1e-03 --MaxValF1: 0.8394329 --CurValF1: 0.8382993 --Patience: 01\n",
      "Epoch: 007 --LR: 3e-04 --MaxValF1: 0.8394329 --CurValF1: 0.8318821 --Patience: 02\n",
      "Epoch: 008 --LR: 9e-05 --MaxValF1: 0.8394329 --CurValF1: 0.8355401 --Patience: 03\n",
      "Epoch: 009 --LR: 3e-05 --MaxValF1: 0.8394329 --CurValF1: 0.8366782 --Patience: 04\n",
      "Epoch: 010 --LR: 8e-06 --MaxValF1: 0.8394329 --CurValF1: 0.8360656 --Patience: 05\n",
      "Training stopped due to the patience parameter. --Patience: 05\n",
      "Fold: 01 out of 05 completed.\n",
      "Local System Time: 12:55 AM\n",
      "Pretrained Embeddings: 28751 hits (16720 misses)\n",
      "Epoch: 001 --LR: 1e-03 --MaxValF1: 0.7951888 --CurValF1: 0.7951888 --Patience: 01 --F1 improved: 0.7951888\n",
      "Epoch: 002 --LR: 1e-03 --MaxValF1: 0.8211570 --CurValF1: 0.8211570 --Patience: 01 --F1 improved: 0.8211570\n",
      "Epoch: 003 --LR: 1e-03 --MaxValF1: 0.8347358 --CurValF1: 0.8347358 --Patience: 01 --F1 improved: 0.8347358\n",
      "Epoch: 004 --LR: 1e-03 --MaxValF1: 0.8386675 --CurValF1: 0.8386675 --Patience: 01 --F1 improved: 0.8386675\n",
      "Epoch: 005 --LR: 1e-03 --MaxValF1: 0.8386675 --CurValF1: 0.8309399 --Patience: 01\n",
      "Epoch: 006 --LR: 3e-04 --MaxValF1: 0.8428713 --CurValF1: 0.8428713 --Patience: 02 --F1 improved: 0.8428713\n",
      "Epoch: 007 --LR: 3e-04 --MaxValF1: 0.8456645 --CurValF1: 0.8456645 --Patience: 01 --F1 improved: 0.8456645\n",
      "Epoch: 008 --LR: 3e-04 --MaxValF1: 0.8456645 --CurValF1: 0.8405145 --Patience: 01\n",
      "Epoch: 009 --LR: 9e-05 --MaxValF1: 0.8456645 --CurValF1: 0.8340262 --Patience: 02\n",
      "Epoch: 010 --LR: 3e-05 --MaxValF1: 0.8456645 --CurValF1: 0.8307593 --Patience: 03\n",
      "Epoch: 011 --LR: 8e-06 --MaxValF1: 0.8456645 --CurValF1: 0.8376013 --Patience: 04\n",
      "Epoch: 012 --LR: 2e-06 --MaxValF1: 0.8456645 --CurValF1: 0.8380144 --Patience: 05\n",
      "Training stopped due to the patience parameter. --Patience: 05\n",
      "Fold: 02 out of 05 completed.\n",
      "Local System Time: 01:05 AM\n",
      "Pretrained Embeddings: 28866 hits (16643 misses)\n",
      "Epoch: 001 --LR: 1e-03 --MaxValF1: 0.7632751 --CurValF1: 0.7632751 --Patience: 01 --F1 improved: 0.7632751\n",
      "Epoch: 002 --LR: 1e-03 --MaxValF1: 0.8041912 --CurValF1: 0.8041912 --Patience: 01 --F1 improved: 0.8041912\n",
      "Epoch: 003 --LR: 1e-03 --MaxValF1: 0.8257656 --CurValF1: 0.8257656 --Patience: 01 --F1 improved: 0.8257656\n",
      "Epoch: 004 --LR: 1e-03 --MaxValF1: 0.8352668 --CurValF1: 0.8352668 --Patience: 01 --F1 improved: 0.8352668\n",
      "Epoch: 005 --LR: 1e-03 --MaxValF1: 0.8399323 --CurValF1: 0.8399323 --Patience: 01 --F1 improved: 0.8399323\n",
      "Epoch: 006 --LR: 1e-03 --MaxValF1: 0.8399323 --CurValF1: 0.8368560 --Patience: 01\n",
      "Epoch: 007 --LR: 3e-04 --MaxValF1: 0.8399323 --CurValF1: 0.8380427 --Patience: 02\n",
      "Epoch: 008 --LR: 9e-05 --MaxValF1: 0.8399323 --CurValF1: 0.8392917 --Patience: 03\n",
      "Epoch: 009 --LR: 3e-05 --MaxValF1: 0.8399866 --CurValF1: 0.8399866 --Patience: 04 --F1 improved: 0.8399866\n",
      "Epoch: 010 --LR: 3e-05 --MaxValF1: 0.8399866 --CurValF1: 0.8370014 --Patience: 01\n",
      "Epoch: 011 --LR: 8e-06 --MaxValF1: 0.8399866 --CurValF1: 0.8373455 --Patience: 02\n",
      "Epoch: 012 --LR: 2e-06 --MaxValF1: 0.8399866 --CurValF1: 0.8374063 --Patience: 03\n",
      "Epoch: 013 --LR: 7e-07 --MaxValF1: 0.8399866 --CurValF1: 0.8370130 --Patience: 04\n",
      "Epoch: 014 --LR: 2e-07 --MaxValF1: 0.8399866 --CurValF1: 0.8370130 --Patience: 05\n",
      "Training stopped due to the patience parameter. --Patience: 05\n",
      "Fold: 03 out of 05 completed.\n",
      "Local System Time: 01:17 AM\n",
      "Pretrained Embeddings: 28831 hits (16686 misses)\n",
      "Epoch: 001 --LR: 1e-03 --MaxValF1: 0.8166886 --CurValF1: 0.8166886 --Patience: 01 --F1 improved: 0.8166886\n",
      "Epoch: 002 --LR: 1e-03 --MaxValF1: 0.8316899 --CurValF1: 0.8316899 --Patience: 01 --F1 improved: 0.8316899\n",
      "Epoch: 003 --LR: 1e-03 --MaxValF1: 0.8433164 --CurValF1: 0.8433164 --Patience: 01 --F1 improved: 0.8433164\n",
      "Epoch: 004 --LR: 1e-03 --MaxValF1: 0.8475487 --CurValF1: 0.8475487 --Patience: 01 --F1 improved: 0.8475487\n",
      "Epoch: 005 --LR: 1e-03 --MaxValF1: 0.8547909 --CurValF1: 0.8547909 --Patience: 01 --F1 improved: 0.8547909\n",
      "Epoch: 006 --LR: 1e-03 --MaxValF1: 0.8547909 --CurValF1: 0.8545769 --Patience: 01\n",
      "Epoch: 007 --LR: 3e-04 --MaxValF1: 0.8569492 --CurValF1: 0.8569492 --Patience: 02 --F1 improved: 0.8569492\n",
      "Epoch: 008 --LR: 3e-04 --MaxValF1: 0.8569492 --CurValF1: 0.8528327 --Patience: 01\n",
      "Epoch: 009 --LR: 9e-05 --MaxValF1: 0.8569492 --CurValF1: 0.8558201 --Patience: 02\n",
      "Epoch: 010 --LR: 3e-05 --MaxValF1: 0.8569492 --CurValF1: 0.8566565 --Patience: 03\n",
      "Epoch: 011 --LR: 8e-06 --MaxValF1: 0.8577277 --CurValF1: 0.8577277 --Patience: 04 --F1 improved: 0.8577277\n",
      "Epoch: 012 --LR: 8e-06 --MaxValF1: 0.8577277 --CurValF1: 0.8575315 --Patience: 01\n",
      "Epoch: 013 --LR: 2e-06 --MaxValF1: 0.8577277 --CurValF1: 0.8572400 --Patience: 02\n",
      "Epoch: 014 --LR: 7e-07 --MaxValF1: 0.8577277 --CurValF1: 0.8576283 --Patience: 03\n",
      "Epoch: 015 --LR: 2e-07 --MaxValF1: 0.8577277 --CurValF1: 0.8575315 --Patience: 04\n",
      "Epoch: 016 --LR: 7e-08 --MaxValF1: 0.8577277 --CurValF1: 0.8576283 --Patience: 05\n",
      "Training stopped due to the patience parameter. --Patience: 05\n",
      "Fold: 04 out of 05 completed.\n",
      "Local System Time: 01:31 AM\n",
      "Pretrained Embeddings: 28812 hits (16602 misses)\n",
      "Epoch: 001 --LR: 1e-03 --MaxValF1: 0.8000000 --CurValF1: 0.8000000 --Patience: 01 --F1 improved: 0.8000000\n",
      "Epoch: 002 --LR: 1e-03 --MaxValF1: 0.8196286 --CurValF1: 0.8196286 --Patience: 01 --F1 improved: 0.8196286\n",
      "Epoch: 003 --LR: 1e-03 --MaxValF1: 0.8272727 --CurValF1: 0.8272727 --Patience: 01 --F1 improved: 0.8272727\n",
      "Epoch: 004 --LR: 1e-03 --MaxValF1: 0.8453891 --CurValF1: 0.8453891 --Patience: 01 --F1 improved: 0.8453891\n",
      "Epoch: 005 --LR: 1e-03 --MaxValF1: 0.8481262 --CurValF1: 0.8481262 --Patience: 01 --F1 improved: 0.8481262\n",
      "Epoch: 006 --LR: 1e-03 --MaxValF1: 0.8491879 --CurValF1: 0.8491879 --Patience: 01 --F1 improved: 0.8491879\n",
      "Epoch: 007 --LR: 1e-03 --MaxValF1: 0.8491879 --CurValF1: 0.8483488 --Patience: 01\n",
      "Epoch: 008 --LR: 3e-04 --MaxValF1: 0.8515443 --CurValF1: 0.8515443 --Patience: 02 --F1 improved: 0.8515443\n",
      "Epoch: 009 --LR: 3e-04 --MaxValF1: 0.8515443 --CurValF1: 0.8476346 --Patience: 01\n",
      "Epoch: 010 --LR: 9e-05 --MaxValF1: 0.8515443 --CurValF1: 0.8480053 --Patience: 02\n",
      "Epoch: 011 --LR: 3e-05 --MaxValF1: 0.8515443 --CurValF1: 0.8465179 --Patience: 03\n",
      "Epoch: 012 --LR: 8e-06 --MaxValF1: 0.8515443 --CurValF1: 0.8473684 --Patience: 04\n",
      "Epoch: 013 --LR: 2e-06 --MaxValF1: 0.8515443 --CurValF1: 0.8481848 --Patience: 05\n",
      "Training stopped due to the patience parameter. --Patience: 05\n",
      "Fold: 05 out of 05 completed.\n",
      "Local System Time: 01:42 AM\n",
      "Total runtime: 0 hrs 55 mins 34.42 secs\n"
     ]
    }
   ],
   "source": [
    "warnings.filterwarnings( 'ignore' )\n",
    "start_time = time.time()\n",
    "print( 'Local System Time: {}'.format( time.strftime( \"%I:%M %p\", time.localtime() ) ) )\n",
    "\n",
    "valaccuracy, valprecision, valrecall, valf1, valcm = [], [], [], [], []\n",
    "testaccuracy, testprecision, testrecall, testf1, testcm = [], [], [], [], []\n",
    "com_text, com_label, com_predicted, com_prob = [], [], [], []\n",
    "com_indices = []\n",
    "hist = {}\n",
    "\n",
    "fold = 1\n",
    "for train_index, test_index in skf.split( df[ xcolumn ], df[ ycolumn ] ):\n",
    "    # seprating train and test sets\n",
    "    xtrain = df.loc[ train_index ][ xcolumn ].values\n",
    "    xtest = df.loc[ test_index ][ xcolumn ].values\n",
    "    \n",
    "    ytrain = df.loc[ train_index ][ ycolumn ].values\n",
    "    ytest = df.loc[ test_index ][ ycolumn ].values\n",
    "    \n",
    "    # splitting train and validation sets\n",
    "    xtrain, xval, ytrain, yval = train_test_split( xtrain, ytrain, test_size=0.15, random_state=0 )\n",
    "    \n",
    "    # tokenization with keras tokenizer\n",
    "    tokenizer = text.Tokenizer(  )\n",
    "    tokenizer.fit_on_texts( np.append( xtrain, xval ) )\n",
    "\n",
    "    xtrain = tokenizer.texts_to_sequences( xtrain )\n",
    "    xval = tokenizer.texts_to_sequences( xval )\n",
    "    xtest = tokenizer.texts_to_sequences( xtest )\n",
    "    \n",
    "    # pad the tokenized sequences\n",
    "    xtrain = sequence.pad_sequences( xtrain, maxlen=MAX_LEN )\n",
    "    xval = sequence.pad_sequences( xval, maxlen=MAX_LEN )\n",
    "    xtest = sequence.pad_sequences( xtest, maxlen=MAX_LEN )\n",
    "    \n",
    "    # check if pre-trained word embeddings flag is true\n",
    "    if PRE_TRAINED_FLAG == True:\n",
    "        EMBEDDING_MATRIX = get_vectors(\n",
    "            tokenizer=tokenizer, emb_mean=emb_mean, emb_std=emb_std, embed_size=EMBED_SIZE\n",
    "        )\n",
    "    \n",
    "    # define a model\n",
    "    EMBED_INP_SIZE = len( tokenizer.word_index ) + 1\n",
    "    model = All_UT_Models.MCBiGRU(\n",
    "        max_len=MAX_LEN, embed_inp=EMBED_INP_SIZE, embed_size=EMBED_SIZE,\n",
    "        embedding_matrix=EMBEDDING_MATRIX, embed_trainable=EMBED_TRAINABLE,\n",
    "        drpt=DRPT, emb_weights_init=EMB_WEIGHTS_INIT,\n",
    "        conv_weights_init=CONV_WEIGHTS_INIT, conv_act=CONV_ACT,\n",
    "        fc_weights_init=FC_WEIGHTS_INIT, fc_act=FC_ACT, optimizer=OPTIMIZER\n",
    "    )\n",
    "    \n",
    "    # save model summaries and model architecture diagrams in the first fold only\n",
    "    if fold == 1:\n",
    "        plot_model( model=model, to_file='{}/{}.png'.format( modelsummaries, modelname ), show_shapes=False )\n",
    "        \n",
    "        with open( '{}/{}.txt'.format( modelsummaries, modelname ), 'w' ) as s:\n",
    "            with redirect_stdout( s ):\n",
    "                model.summary()\n",
    "    \n",
    "    K.set_value( model.optimizer.lr, LR_RATE )\n",
    "    \n",
    "    # train the model with callbacks for early stopping\n",
    "    f1callback = UT_Utils.F1_score_callback(\n",
    "        val_data=( xval, yval ), filepath=modelpath + modelname + str( fold ),\n",
    "        patience=PATIENCE, decay=DECAY, decay_rate=DECAY_RATE, decay_after=DECAY_AFTER\n",
    "    )\n",
    "    histmodel = model.fit(\n",
    "        xtrain, ytrain, batch_size=BATCH, epochs=NEPOCHS, verbose=0, callbacks=[ f1callback ]\n",
    "    )\n",
    "    \n",
    "    # save history of all folds\n",
    "    hist[ 'fold' + str( fold ) ] = histmodel.history.copy()\n",
    "    \n",
    "    # delete trained model object\n",
    "    del model, histmodel, f1callback\n",
    "    EMBEDDING_MATRIX = []\n",
    "    K.clear_session()\n",
    "    gc.collect()\n",
    "    # delete pre trained embeddings from the memory\n",
    "    if ( PRE_TRAINED_FLAG == True ) and ( fold == skf.n_splits ):\n",
    "        del EMBEDDINGS_INDEX\n",
    "        gc.collect()\n",
    "    \n",
    "    # load saved model\n",
    "    loaded_model = load_model( modelpath + modelname + str( fold ) )\n",
    "    \n",
    "    # get predictions (probabilities) for validation and test sets respectively\n",
    "    valpredictions = loaded_model.predict( xval, verbose=0, batch_size=BATCH )\n",
    "    testpredictions = loaded_model.predict( xtest, verbose=0, batch_size=BATCH )\n",
    "    \n",
    "    # delete loaded model\n",
    "    del loaded_model\n",
    "    K.clear_session()\n",
    "    gc.collect()\n",
    "    \n",
    "    # optimizer threshold on validation set\n",
    "    threshold = UT_Utils.optimize_threshold( yval, valpredictions )\n",
    "    \n",
    "    # save accuracy, precision, recall, f1 and confusion matrices\n",
    "    vallabels = ( valpredictions >= threshold ).astype( 'int32' )\n",
    "    testlabels = ( testpredictions >= threshold ).astype( 'int32' )\n",
    "    \n",
    "    valaccuracy.append( accuracy_score( yval, vallabels ) )\n",
    "    valprecision.append( precision_score( yval, vallabels ) )\n",
    "    valrecall.append( recall_score( yval, vallabels ) )\n",
    "    valf1.append( f1_score( yval, vallabels ) )\n",
    "    valcm.append( confusion_matrix( yval, vallabels ) )    \n",
    "    \n",
    "    testaccuracy.append( accuracy_score( ytest, testlabels ) )\n",
    "    testprecision.append( precision_score( ytest, testlabels ) )\n",
    "    testrecall.append( recall_score( ytest, testlabels ) )\n",
    "    testf1.append( f1_score( ytest, testlabels ) )\n",
    "    testcm.append( confusion_matrix( ytest, testlabels ) )\n",
    "    \n",
    "    # save for future analysis and ensemble\n",
    "    com_indices.extend( test_index.tolist() )\n",
    "    com_text.extend( df.loc[ test_index ][ xcolumn ] )\n",
    "    com_label.extend( df.loc[ test_index ][ ycolumn ].tolist() )\n",
    "    com_predicted.extend( testlabels[:,0].tolist() )\n",
    "    com_prob.extend( testpredictions[:,0].tolist() )\n",
    "    \n",
    "    print( 'Fold: {:02d} out of {:02d} completed.'.format( fold, skf.get_n_splits() ) )\n",
    "    print( 'Local System Time: {}'.format( time.strftime( \"%I:%M %p\", time.localtime() ) ) )\n",
    "    \n",
    "    fold = fold + 1\n",
    "time_took = time.time() - start_time\n",
    "print( f\"Total runtime: { hms_string( time_took ) }\" )"
   ]
  },
  {
   "cell_type": "code",
   "execution_count": 10,
   "metadata": {},
   "outputs": [
    {
     "name": "stdout",
     "output_type": "stream",
     "text": [
      "Validation Accuracy\n",
      "['0.9442', '0.9472', '0.9454', '0.9523', '0.9488'] 0.9475781518378564 +- 0.002810843649159033 \n",
      "\n",
      "Validation Precision\n",
      "['0.8498', '0.8722', '0.8682', '0.9030', '0.8709'] 0.8728434028039622 +- 0.017127330957547298 \n",
      "\n",
      "Validation Recall\n",
      "['0.8293', '0.8207', '0.8135', '0.8168', '0.8330'] 0.8226533156392006 +- 0.007399570663576532 \n",
      "\n",
      "Validation F1\n",
      "['0.8394', '0.8457', '0.8400', '0.8577', '0.8515'] 0.8468712216338418 +- 0.006984051106556505\n"
     ]
    }
   ],
   "source": [
    "print( 'Validation Accuracy' )\n",
    "print( [ '{:0.4f}'.format( x ) for x in valaccuracy ], np.mean( valaccuracy ), '+-', np.std( valaccuracy ), '\\n' )\n",
    "\n",
    "print( 'Validation Precision' )\n",
    "print( [ '{:0.4f}'.format( x ) for x in valprecision ], np.mean( valprecision ), '+-', np.std( valprecision ), '\\n' )\n",
    "\n",
    "print( 'Validation Recall' )\n",
    "print( [ '{:0.4f}'.format( x ) for x in valrecall ], np.mean( valrecall ), '+-', np.std( valrecall ), '\\n' )\n",
    "\n",
    "print( 'Validation F1' )\n",
    "print( [ '{:0.4f}'.format( x ) for x in valf1 ], np.mean( valf1 ), '+-', np.std( valf1 ) )"
   ]
  },
  {
   "cell_type": "code",
   "execution_count": 11,
   "metadata": {},
   "outputs": [
    {
     "name": "stdout",
     "output_type": "stream",
     "text": [
      "[[1273  262]\n",
      " [ 225 6973]] \n",
      "\n",
      "[[1263  276]\n",
      " [ 185 7009]] \n",
      "\n",
      "[[1252  287]\n",
      " [ 190 7004]] \n",
      "\n",
      "[[1257  282]\n",
      " [ 135 7059]] \n",
      "\n",
      "[[1282  257]\n",
      " [ 190 7004]] \n",
      "\n"
     ]
    }
   ],
   "source": [
    "for c in valcm:\n",
    "    print( np.rot90(np.rot90(c)), '\\n' )"
   ]
  },
  {
   "cell_type": "code",
   "execution_count": 12,
   "metadata": {},
   "outputs": [
    {
     "name": "stdout",
     "output_type": "stream",
     "text": [
      "Test Accuracy\n",
      "['0.9465', '0.9470', '0.9498', '0.9464', '0.9481'] 0.9475615435086816 +- 0.0012836427085805156 \n",
      "\n",
      "Test Precision\n",
      "['0.8799', '0.8876', '0.8937', '0.9049', '0.8922'] 0.8916671856363767 +- 0.008172736198326334 \n",
      "\n",
      "Test Recall\n",
      "['0.8137', '0.8080', '0.8186', '0.7847', '0.8091'] 0.8068253718422916 +- 0.011708902840810208 \n",
      "\n",
      "Test F1\n",
      "['0.8455', '0.8460', '0.8545', '0.8405', '0.8486'] 0.8470230710844732 +- 0.004579341253596524\n"
     ]
    }
   ],
   "source": [
    "print( 'Test Accuracy' )\n",
    "print( [ '{:0.4f}'.format( x ) for x in testaccuracy ], np.mean( testaccuracy ), '+-', np.std( testaccuracy ), '\\n' )\n",
    "\n",
    "print( 'Test Precision' )\n",
    "print( [ '{:0.4f}'.format( x ) for x in testprecision ], np.mean( testprecision ), '+-', np.std( testprecision ), '\\n' )\n",
    "\n",
    "print( 'Test Recall' )\n",
    "print( [ '{:0.4f}'.format( x ) for x in testrecall ], np.mean( testrecall ), '+-', np.std( testrecall ), '\\n' )\n",
    "\n",
    "print( 'Test F1' )\n",
    "print( [ '{:0.4f}'.format( x ) for x in testf1 ], np.mean( testf1 ), '+-', np.std( testf1 ) )"
   ]
  },
  {
   "cell_type": "code",
   "execution_count": 13,
   "metadata": {},
   "outputs": [
    {
     "name": "stdout",
     "output_type": "stream",
     "text": [
      "[[ 2132   488]\n",
      " [  291 11644]] \n",
      "\n",
      "[[ 2117   503]\n",
      " [  268 11666]] \n",
      "\n",
      "[[ 2144   475]\n",
      " [  255 11680]] \n",
      "\n",
      "[[ 2055   564]\n",
      " [  216 11719]] \n",
      "\n",
      "[[ 2119   500]\n",
      " [  256 11679]] \n",
      "\n"
     ]
    }
   ],
   "source": [
    "for c in testcm:\n",
    "    print( np.rot90(np.rot90(c)), '\\n' )"
   ]
  },
  {
   "cell_type": "code",
   "execution_count": 14,
   "metadata": {},
   "outputs": [],
   "source": [
    "file = open( '{}/ResultsMain.csv'.format( modelresults ), mode='a' )\n",
    "file.write( modelname )\n",
    "file.write( ',' )\n",
    "file.write( str(np.mean( testaccuracy ))[:7] + '+-' + str(np.std( testaccuracy ))[:6] )\n",
    "file.write( ',' )\n",
    "file.write( str(np.mean( testprecision ))[:7] + '+-' + str(np.std( testprecision ))[:6] )\n",
    "file.write( ',' )\n",
    "file.write( str(np.mean( testrecall ))[:7] + '+-' + str(np.std( testrecall ))[:6] )\n",
    "file.write( ',' )\n",
    "file.write( str(np.mean( testf1 ))[:7] + '+-' + str(np.std( testf1 ))[:6] )\n",
    "file.write( '\\n' )\n",
    "file.close()"
   ]
  },
  {
   "cell_type": "code",
   "execution_count": 15,
   "metadata": {},
   "outputs": [
    {
     "data": {
      "text/plain": [
       "(72771, 4)"
      ]
     },
     "execution_count": 15,
     "metadata": {},
     "output_type": "execute_result"
    }
   ],
   "source": [
    "dfPredictions = pd.DataFrame(  )\n",
    "dfPredictions[ 'comment_indices' ] = com_indices\n",
    "#dfPredictions[ 'comment_text' ] = com_text #comment text\n",
    "dfPredictions[ 'comment_label' ] = com_label\n",
    "dfPredictions[ 'comment_predicted' ] = com_predicted\n",
    "dfPredictions[ 'comment_prob' ] = com_prob\n",
    "dfPredictions.to_csv( '{}/{}.csv'.format( modelresults, modelname ), index=False )\n",
    "dfPredictions.shape"
   ]
  }
 ],
 "metadata": {
  "kernelspec": {
   "display_name": "tf_2.8",
   "language": "python",
   "name": "tf_2.8"
  },
  "language_info": {
   "codemirror_mode": {
    "name": "ipython",
    "version": 3
   },
   "file_extension": ".py",
   "mimetype": "text/x-python",
   "name": "python",
   "nbconvert_exporter": "python",
   "pygments_lexer": "ipython3",
   "version": "3.7.13"
  },
  "varInspector": {
   "cols": {
    "lenName": 16,
    "lenType": 16,
    "lenVar": 40
   },
   "kernels_config": {
    "python": {
     "delete_cmd_postfix": "",
     "delete_cmd_prefix": "del ",
     "library": "var_list.py",
     "varRefreshCmd": "print(var_dic_list())"
    },
    "r": {
     "delete_cmd_postfix": ") ",
     "delete_cmd_prefix": "rm(",
     "library": "var_list.r",
     "varRefreshCmd": "cat(var_dic_list()) "
    }
   },
   "types_to_exclude": [
    "module",
    "function",
    "builtin_function_or_method",
    "instance",
    "_Feature"
   ],
   "window_display": false
  }
 },
 "nbformat": 4,
 "nbformat_minor": 2
}

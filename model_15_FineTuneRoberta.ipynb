{
 "cells": [
  {
   "cell_type": "code",
   "execution_count": 1,
   "metadata": {},
   "outputs": [],
   "source": [
    "import warnings\n",
    "warnings.filterwarnings( 'ignore' )\n",
    "\n",
    "import gc\n",
    "import os\n",
    "import time\n",
    "import numpy as np\n",
    "import pandas as pd\n",
    "\n",
    "from sklearn.metrics import accuracy_score, precision_score, recall_score\n",
    "from sklearn.metrics import f1_score, confusion_matrix\n",
    "from sklearn.model_selection import StratifiedKFold, train_test_split\n",
    "\n",
    "import tensorflow as tf\n",
    "from tensorflow.keras import backend as K\n",
    "from tensorflow.keras.models import load_model\n",
    "from tensorflow.keras.preprocessing import text, sequence\n",
    "\n",
    "from contextlib import redirect_stdout\n",
    "from tensorflow.keras.utils import plot_model\n",
    "\n",
    "os.environ['TF_CPP_MIN_LOG_LEVEL'] = '2' # supress tensorflow warnings\n",
    "\n",
    "os.environ[\"CUDA_VISIBLE_DEVICES\"] = \"0\""
   ]
  },
  {
   "cell_type": "code",
   "execution_count": 2,
   "metadata": {},
   "outputs": [],
   "source": [
    "import All_UT_Models\n",
    "import UT_Utils"
   ]
  },
  {
   "cell_type": "code",
   "execution_count": 3,
   "metadata": {},
   "outputs": [],
   "source": [
    "# hyper parameters for this model\n",
    "\n",
    "MAX_LEN = 100\n",
    "EMBED_SIZE = 768\n",
    "BERT_TRAINABLE = True\n",
    "\n",
    "DRPT = 0.4\n",
    "FC_WEIGHTS_INIT = 'he_uniform'\n",
    "FC_ACT = 'elu'\n",
    "LR_RATE = 9e-6\n",
    "OPTIMIZER = 'adam'\n",
    "\n",
    "BATCH = 32\n",
    "NEPOCHS = 20\n",
    "PATIENCE = 4\n",
    "DECAY = True\n",
    "DECAY_RATE = 0.3\n",
    "DECAY_AFTER = 1"
   ]
  },
  {
   "cell_type": "code",
   "execution_count": 4,
   "metadata": {},
   "outputs": [],
   "source": [
    "modelname = 'hfFineTuneRoberta'\n",
    "\n",
    "modelpath = './Saved Models/' + modelname + '/'\n",
    "modelresults = './Model Results'\n",
    "modelsummaries = './Model - Summaries-Figures'\n",
    "\n",
    "DIRECTORIES_TO_BE_CREATED = [ modelpath, modelresults, modelsummaries ]\n",
    "for directory in DIRECTORIES_TO_BE_CREATED:\n",
    "    if not os.path.exists( directory ):\n",
    "        os.makedirs( directory )"
   ]
  },
  {
   "cell_type": "code",
   "execution_count": 5,
   "metadata": {},
   "outputs": [
    {
     "data": {
      "text/plain": [
       "'./Embeddings/huggingface/xlm-roberta-base/'"
      ]
     },
     "execution_count": 5,
     "metadata": {},
     "output_type": "execute_result"
    }
   ],
   "source": [
    "bertmodelname = 'xlm-roberta-base'\n",
    "\n",
    "hfcachedir = './Embeddings/huggingface/{}/'.format( bertmodelname )\n",
    "hfcachedir"
   ]
  },
  {
   "cell_type": "code",
   "execution_count": 6,
   "metadata": {},
   "outputs": [],
   "source": [
    "def hms_string( sec_elapsed ):\n",
    "    h = int(sec_elapsed / (60 * 60))\n",
    "    m = int((sec_elapsed % (60 * 60)) / 60)\n",
    "    s = sec_elapsed % 60\n",
    "    return \"{} hrs {:>02} mins {:>05.2f} secs\".format( h, m, s )"
   ]
  },
  {
   "cell_type": "code",
   "execution_count": 7,
   "metadata": {},
   "outputs": [
    {
     "data": {
      "text/plain": [
       "(72771, 3)"
      ]
     },
     "execution_count": 7,
     "metadata": {},
     "output_type": "execute_result"
    }
   ],
   "source": [
    "sheets = [ pd.read_excel( 'RUT_UT_Comments.xlsx', 'Sheet1' ), pd.read_excel( 'RUT_UT_Comments.xlsx', 'Sheet2' ) ]\n",
    "df = pd.concat( sheets )\n",
    "df.reset_index( drop=True, inplace=True )\n",
    "\n",
    "df.Urdu = df.Urdu.astype( 'str' )\n",
    "df.Urdu = df.Urdu.apply( UT_Utils.urdu_preprocessing )\n",
    "\n",
    "df.dropna( inplace=True )\n",
    "df.reset_index( drop=True, inplace=True )\n",
    "\n",
    "del sheets\n",
    "gc.collect()\n",
    "\n",
    "xcolumn = 'Urdu'\n",
    "ycolumn = 'Toxic'\n",
    "\n",
    "df.shape"
   ]
  },
  {
   "cell_type": "code",
   "execution_count": 8,
   "metadata": {},
   "outputs": [],
   "source": [
    "from tensorflow.keras.layers import Dropout, Dense\n",
    "from tensorflow.keras.models import Model\n",
    "\n",
    "def FineTuneBertWithDenseLayer(\n",
    "    bert_model, max_len=128, drpt=0.1, fc_weights_init='', fc_act='', optimizer='' ):\n",
    "    \n",
    "    input_ids_in = tf.keras.layers.Input( shape=( max_len, ), dtype='int32' )\n",
    "    input_masks_in = tf.keras.layers.Input( shape=( max_len, ), dtype='int32' )\n",
    "    \n",
    "    embedding_layer = bert_model( input_ids_in, attention_mask=input_masks_in )[ 1 ]\n",
    "    \n",
    "    d = Dropout( drpt )( embedding_layer )\n",
    "    d = Dense( 768, activation=fc_act, kernel_initializer=fc_weights_init )( d )\n",
    "    outp = Dense( 1, activation='sigmoid' )( d )\n",
    "    \n",
    "    model = Model( inputs=[ input_ids_in, input_masks_in ], outputs=outp )\n",
    "    \n",
    "    model.compile(\n",
    "        loss='binary_crossentropy',\n",
    "        optimizer=optimizer,\n",
    "        metrics=['accuracy']\n",
    "    )\n",
    "    return model"
   ]
  },
  {
   "cell_type": "code",
   "execution_count": 9,
   "metadata": {},
   "outputs": [],
   "source": [
    "from transformers import XLMRobertaTokenizer, XLMRobertaConfig, TFXLMRobertaModel\n",
    "from transformers import utils\n",
    "utils.logging.set_verbosity( 40 ) # supress huggingface warnings\n",
    "os.environ[ \"TOKENIZERS_PARALLELISM\" ] = \"false\" # disabling tokenizers parallelism to avoid deadlocks"
   ]
  },
  {
   "cell_type": "code",
   "execution_count": 10,
   "metadata": {},
   "outputs": [],
   "source": [
    "# initialize bert tokenizer\n",
    "BERT_TOKENIZER = XLMRobertaTokenizer.from_pretrained( bertmodelname )\n",
    "\n",
    "# define function to tokenize input Urdu comments using bert tokenizer\n",
    "def get_tokens_and_masks( bert_tokenizer, sentences, max_length=128, padding='max_length' ):\n",
    "    encoded_input = bert_tokenizer(\n",
    "        sentences,\n",
    "        add_special_tokens=True,\n",
    "        max_length=max_length,\n",
    "        padding=padding,\n",
    "        truncation=True,\n",
    "        return_attention_mask = True\n",
    "    )\n",
    "    return np.array( encoded_input[ 'input_ids' ] ), np.array( encoded_input[ 'attention_mask' ] )"
   ]
  },
  {
   "cell_type": "code",
   "execution_count": 11,
   "metadata": {},
   "outputs": [
    {
     "data": {
      "text/plain": [
       "XLMRobertaConfig {\n",
       "  \"architectures\": [\n",
       "    \"XLMRobertaForMaskedLM\"\n",
       "  ],\n",
       "  \"attention_probs_dropout_prob\": 0.1,\n",
       "  \"bos_token_id\": 0,\n",
       "  \"classifier_dropout\": null,\n",
       "  \"eos_token_id\": 2,\n",
       "  \"hidden_act\": \"gelu\",\n",
       "  \"hidden_dropout_prob\": 0.1,\n",
       "  \"hidden_size\": 768,\n",
       "  \"initializer_range\": 0.02,\n",
       "  \"intermediate_size\": 3072,\n",
       "  \"layer_norm_eps\": 1e-05,\n",
       "  \"max_position_embeddings\": 514,\n",
       "  \"model_type\": \"xlm-roberta\",\n",
       "  \"num_attention_heads\": 12,\n",
       "  \"num_hidden_layers\": 12,\n",
       "  \"output_past\": true,\n",
       "  \"pad_token_id\": 1,\n",
       "  \"position_embedding_type\": \"absolute\",\n",
       "  \"transformers_version\": \"4.20.1\",\n",
       "  \"type_vocab_size\": 1,\n",
       "  \"use_cache\": true,\n",
       "  \"vocab_size\": 250002\n",
       "}"
      ]
     },
     "execution_count": 11,
     "metadata": {},
     "output_type": "execute_result"
    }
   ],
   "source": [
    "BERT_CONFIG = XLMRobertaConfig.from_pretrained( bertmodelname )\n",
    "BERT_CONFIG"
   ]
  },
  {
   "cell_type": "code",
   "execution_count": 12,
   "metadata": {},
   "outputs": [
    {
     "name": "stdout",
     "output_type": "stream",
     "text": [
      "StratifiedKFold(n_splits=5, random_state=0, shuffle=True)\n"
     ]
    }
   ],
   "source": [
    "skf = StratifiedKFold( n_splits=5, random_state=0, shuffle=True )\n",
    "print(skf)"
   ]
  },
  {
   "cell_type": "code",
   "execution_count": 13,
   "metadata": {},
   "outputs": [
    {
     "name": "stdout",
     "output_type": "stream",
     "text": [
      "Local System Time: 04:18 PM\n",
      "Epoch: 001 --LR: 9e-06 --MaxValF1: 0.8583023 --CurValF1: 0.8583023 --Patience: 01 --F1 improved: 0.8583023\n",
      "Epoch: 002 --LR: 9e-06 --MaxValF1: 0.8716377 --CurValF1: 0.8716377 --Patience: 01 --F1 improved: 0.8716377\n",
      "Epoch: 003 --LR: 9e-06 --MaxValF1: 0.8861010 --CurValF1: 0.8861010 --Patience: 01 --F1 improved: 0.8861010\n",
      "Epoch: 004 --LR: 9e-06 --MaxValF1: 0.8874576 --CurValF1: 0.8874576 --Patience: 01 --F1 improved: 0.8874576\n",
      "Epoch: 005 --LR: 9e-06 --MaxValF1: 0.8918558 --CurValF1: 0.8918558 --Patience: 01 --F1 improved: 0.8918558\n",
      "Epoch: 006 --LR: 9e-06 --MaxValF1: 0.8929050 --CurValF1: 0.8929050 --Patience: 01 --F1 improved: 0.8929050\n",
      "Epoch: 007 --LR: 9e-06 --MaxValF1: 0.8953069 --CurValF1: 0.8953069 --Patience: 01 --F1 improved: 0.8953069\n",
      "Epoch: 008 --LR: 9e-06 --MaxValF1: 0.8957784 --CurValF1: 0.8957784 --Patience: 01 --F1 improved: 0.8957784\n",
      "Epoch: 009 --LR: 9e-06 --MaxValF1: 0.8957784 --CurValF1: 0.8930900 --Patience: 01\n",
      "Epoch: 010 --LR: 3e-06 --MaxValF1: 0.8987426 --CurValF1: 0.8987426 --Patience: 02 --F1 improved: 0.8987426\n",
      "Epoch: 011 --LR: 3e-06 --MaxValF1: 0.9003984 --CurValF1: 0.9003984 --Patience: 01 --F1 improved: 0.9003984\n",
      "Epoch: 012 --LR: 3e-06 --MaxValF1: 0.9003984 --CurValF1: 0.8989501 --Patience: 01\n",
      "Epoch: 013 --LR: 8e-07 --MaxValF1: 0.9003984 --CurValF1: 0.8993731 --Patience: 02\n",
      "Epoch: 014 --LR: 2e-07 --MaxValF1: 0.9003984 --CurValF1: 0.8995373 --Patience: 03\n",
      "Epoch: 015 --LR: 7e-08 --MaxValF1: 0.9003984 --CurValF1: 0.9002642 --Patience: 04\n",
      "Training stopped due to the patience parameter. --Patience: 04\n",
      "Fold: 01 out of 05 completed.\n",
      "Local System Time: 06:28 PM\n",
      "Epoch: 001 --LR: 9e-06 --MaxValF1: 0.8580020 --CurValF1: 0.8580020 --Patience: 01 --F1 improved: 0.8580020\n",
      "Epoch: 002 --LR: 9e-06 --MaxValF1: 0.8831169 --CurValF1: 0.8831169 --Patience: 01 --F1 improved: 0.8831169\n",
      "Epoch: 003 --LR: 9e-06 --MaxValF1: 0.8885870 --CurValF1: 0.8885870 --Patience: 01 --F1 improved: 0.8885870\n",
      "Epoch: 004 --LR: 9e-06 --MaxValF1: 0.8972830 --CurValF1: 0.8972830 --Patience: 01 --F1 improved: 0.8972830\n",
      "Epoch: 005 --LR: 9e-06 --MaxValF1: 0.8977956 --CurValF1: 0.8977956 --Patience: 01 --F1 improved: 0.8977956\n",
      "Epoch: 006 --LR: 9e-06 --MaxValF1: 0.8977956 --CurValF1: 0.8938776 --Patience: 01\n",
      "Epoch: 007 --LR: 3e-06 --MaxValF1: 0.8977956 --CurValF1: 0.8970835 --Patience: 02\n",
      "Epoch: 008 --LR: 8e-07 --MaxValF1: 0.8977956 --CurValF1: 0.8976431 --Patience: 03\n",
      "Epoch: 009 --LR: 2e-07 --MaxValF1: 0.8978078 --CurValF1: 0.8978078 --Patience: 04 --F1 improved: 0.8978078\n",
      "Epoch: 010 --LR: 2e-07 --MaxValF1: 0.8979181 --CurValF1: 0.8979181 --Patience: 01 --F1 improved: 0.8979181\n",
      "Epoch: 011 --LR: 2e-07 --MaxValF1: 0.8979181 --CurValF1: 0.8978224 --Patience: 01\n",
      "Epoch: 012 --LR: 7e-08 --MaxValF1: 0.8979592 --CurValF1: 0.8979592 --Patience: 02 --F1 improved: 0.8979592\n",
      "Epoch: 013 --LR: 7e-08 --MaxValF1: 0.8979592 --CurValF1: 0.8976853 --Patience: 01\n",
      "Epoch: 014 --LR: 2e-08 --MaxValF1: 0.8979592 --CurValF1: 0.8978909 --Patience: 02\n",
      "Epoch: 015 --LR: 7e-09 --MaxValF1: 0.8979592 --CurValF1: 0.8978909 --Patience: 03\n",
      "Epoch: 016 --LR: 2e-09 --MaxValF1: 0.8979592 --CurValF1: 0.8978909 --Patience: 04\n",
      "Training stopped due to the patience parameter. --Patience: 04\n",
      "Fold: 02 out of 05 completed.\n",
      "Local System Time: 08:46 PM\n",
      "Epoch: 001 --LR: 9e-06 --MaxValF1: 0.8087395 --CurValF1: 0.8087395 --Patience: 01 --F1 improved: 0.8087395\n",
      "Epoch: 002 --LR: 9e-06 --MaxValF1: 0.8791135 --CurValF1: 0.8791135 --Patience: 01 --F1 improved: 0.8791135\n",
      "Epoch: 003 --LR: 9e-06 --MaxValF1: 0.8841608 --CurValF1: 0.8841608 --Patience: 01 --F1 improved: 0.8841608\n",
      "Epoch: 004 --LR: 9e-06 --MaxValF1: 0.8916061 --CurValF1: 0.8916061 --Patience: 01 --F1 improved: 0.8916061\n",
      "Epoch: 005 --LR: 9e-06 --MaxValF1: 0.8965517 --CurValF1: 0.8965517 --Patience: 01 --F1 improved: 0.8965517\n",
      "Epoch: 006 --LR: 9e-06 --MaxValF1: 0.9007021 --CurValF1: 0.9007021 --Patience: 01 --F1 improved: 0.9007021\n",
      "Epoch: 007 --LR: 9e-06 --MaxValF1: 0.9007021 --CurValF1: 0.8983672 --Patience: 01\n",
      "Epoch: 008 --LR: 3e-06 --MaxValF1: 0.9007021 --CurValF1: 0.9002660 --Patience: 02\n",
      "Epoch: 009 --LR: 8e-07 --MaxValF1: 0.9007021 --CurValF1: 0.9006273 --Patience: 03\n",
      "Epoch: 010 --LR: 2e-07 --MaxValF1: 0.9021811 --CurValF1: 0.9021811 --Patience: 04 --F1 improved: 0.9021811\n",
      "Epoch: 011 --LR: 2e-07 --MaxValF1: 0.9021811 --CurValF1: 0.9016231 --Patience: 01\n",
      "Epoch: 012 --LR: 7e-08 --MaxValF1: 0.9026017 --CurValF1: 0.9026017 --Patience: 02 --F1 improved: 0.9026017\n",
      "Epoch: 013 --LR: 7e-08 --MaxValF1: 0.9026430 --CurValF1: 0.9026430 --Patience: 01 --F1 improved: 0.9026430\n",
      "Epoch: 014 --LR: 7e-08 --MaxValF1: 0.9026430 --CurValF1: 0.9020653 --Patience: 01\n",
      "Epoch: 015 --LR: 2e-08 --MaxValF1: 0.9026430 --CurValF1: 0.9023659 --Patience: 02\n",
      "Epoch: 016 --LR: 7e-09 --MaxValF1: 0.9026430 --CurValF1: 0.9023659 --Patience: 03\n",
      "Epoch: 017 --LR: 2e-09 --MaxValF1: 0.9026430 --CurValF1: 0.9023659 --Patience: 04\n",
      "Training stopped due to the patience parameter. --Patience: 04\n",
      "Fold: 03 out of 05 completed.\n",
      "Local System Time: 11:12 PM\n",
      "Epoch: 001 --LR: 9e-06 --MaxValF1: 0.8540291 --CurValF1: 0.8540291 --Patience: 01 --F1 improved: 0.8540291\n",
      "Epoch: 002 --LR: 9e-06 --MaxValF1: 0.8868114 --CurValF1: 0.8868114 --Patience: 01 --F1 improved: 0.8868114\n",
      "Epoch: 003 --LR: 9e-06 --MaxValF1: 0.8951096 --CurValF1: 0.8951096 --Patience: 01 --F1 improved: 0.8951096\n",
      "Epoch: 004 --LR: 9e-06 --MaxValF1: 0.8951096 --CurValF1: 0.8929558 --Patience: 01\n",
      "Epoch: 005 --LR: 3e-06 --MaxValF1: 0.8987638 --CurValF1: 0.8987638 --Patience: 02 --F1 improved: 0.8987638\n",
      "Epoch: 006 --LR: 3e-06 --MaxValF1: 0.8995929 --CurValF1: 0.8995929 --Patience: 01 --F1 improved: 0.8995929\n",
      "Epoch: 007 --LR: 3e-06 --MaxValF1: 0.9004093 --CurValF1: 0.9004093 --Patience: 01 --F1 improved: 0.9004093\n",
      "Epoch: 008 --LR: 3e-06 --MaxValF1: 0.9028150 --CurValF1: 0.9028150 --Patience: 01 --F1 improved: 0.9028150\n",
      "Epoch: 009 --LR: 3e-06 --MaxValF1: 0.9028150 --CurValF1: 0.9007328 --Patience: 01\n",
      "Epoch: 010 --LR: 8e-07 --MaxValF1: 0.9028150 --CurValF1: 0.8995691 --Patience: 02\n",
      "Epoch: 011 --LR: 2e-07 --MaxValF1: 0.9028150 --CurValF1: 0.9005964 --Patience: 03\n",
      "Epoch: 012 --LR: 7e-08 --MaxValF1: 0.9028150 --CurValF1: 0.9018831 --Patience: 04\n",
      "Training stopped due to the patience parameter. --Patience: 04\n",
      "Fold: 04 out of 05 completed.\n",
      "Local System Time: 12:56 AM\n",
      "Epoch: 001 --LR: 9e-06 --MaxValF1: 0.8670558 --CurValF1: 0.8670558 --Patience: 01 --F1 improved: 0.8670558\n",
      "Epoch: 002 --LR: 9e-06 --MaxValF1: 0.8919189 --CurValF1: 0.8919189 --Patience: 01 --F1 improved: 0.8919189\n",
      "Epoch: 003 --LR: 9e-06 --MaxValF1: 0.8970784 --CurValF1: 0.8970784 --Patience: 01 --F1 improved: 0.8970784\n",
      "Epoch: 004 --LR: 9e-06 --MaxValF1: 0.8993067 --CurValF1: 0.8993067 --Patience: 01 --F1 improved: 0.8993067\n",
      "Epoch: 005 --LR: 9e-06 --MaxValF1: 0.9006667 --CurValF1: 0.9006667 --Patience: 01 --F1 improved: 0.9006667\n",
      "Epoch: 006 --LR: 9e-06 --MaxValF1: 0.9006667 --CurValF1: 0.8972332 --Patience: 01\n",
      "Epoch: 007 --LR: 3e-06 --MaxValF1: 0.9047932 --CurValF1: 0.9047932 --Patience: 02 --F1 improved: 0.9047932\n",
      "Epoch: 008 --LR: 3e-06 --MaxValF1: 0.9047932 --CurValF1: 0.9002320 --Patience: 01\n",
      "Epoch: 009 --LR: 8e-07 --MaxValF1: 0.9047932 --CurValF1: 0.9013991 --Patience: 02\n",
      "Epoch: 010 --LR: 2e-07 --MaxValF1: 0.9047932 --CurValF1: 0.9016339 --Patience: 03\n",
      "Epoch: 011 --LR: 7e-08 --MaxValF1: 0.9047932 --CurValF1: 0.9018303 --Patience: 04\n",
      "Training stopped due to the patience parameter. --Patience: 04\n",
      "Fold: 05 out of 05 completed.\n",
      "Local System Time: 02:32 AM\n",
      "Total runtime: 10 hrs 14 mins 36.52 secs\n"
     ]
    }
   ],
   "source": [
    "warnings.filterwarnings( 'ignore' )\n",
    "start_time = time.time()\n",
    "print( 'Local System Time: {}'.format( time.strftime( \"%I:%M %p\", time.localtime() ) ) )\n",
    "\n",
    "valaccuracy, valprecision, valrecall, valf1, valcm = [], [], [], [], []\n",
    "testaccuracy, testprecision, testrecall, testf1, testcm = [], [], [], [], []\n",
    "com_text, com_label, com_predicted, com_prob = [], [], [], []\n",
    "com_indices = []\n",
    "hist = {}\n",
    "\n",
    "fold = 1\n",
    "for train_index, test_index in skf.split( df[ xcolumn ], df[ ycolumn ] ):\n",
    "    # seprating train and test sets\n",
    "    xtrain = df.loc[ train_index ][ xcolumn ].values\n",
    "    xtest = df.loc[ test_index ][ xcolumn ].values\n",
    "    \n",
    "    ytrain = df.loc[ train_index ][ ycolumn ].values\n",
    "    ytest = df.loc[ test_index ][ ycolumn ].values\n",
    "    \n",
    "    # splitting train and validation sets\n",
    "    xtrain, xval, ytrain, yval = train_test_split( xtrain, ytrain, test_size=0.15, random_state=0 )\n",
    "    \n",
    "    xtrain_input_ids, xtrain_attention_masks = get_tokens_and_masks(\n",
    "        BERT_TOKENIZER, xtrain.tolist(), max_length=MAX_LEN, padding='max_length'\n",
    "    )\n",
    "    \n",
    "    xval_input_ids, xval_attention_masks = get_tokens_and_masks(\n",
    "        BERT_TOKENIZER, xval.tolist(), max_length=MAX_LEN, padding='max_length'\n",
    "    )\n",
    "    \n",
    "    xtest_input_ids, xtest_attention_masks = get_tokens_and_masks(\n",
    "        BERT_TOKENIZER, xtest.tolist(), max_length=MAX_LEN, padding='max_length'\n",
    "    )\n",
    "    \n",
    "    # instantiate bert model\n",
    "    BERT_MODEL = TFXLMRobertaModel.from_pretrained( bertmodelname, config=BERT_CONFIG, cache_dir=hfcachedir )\n",
    "    BERT_MODEL.trainable = BERT_TRAINABLE\n",
    "    \n",
    "    # define a model\n",
    "    model = FineTuneBertWithDenseLayer(\n",
    "        bert_model=BERT_MODEL,\n",
    "        max_len=MAX_LEN, drpt=DRPT, fc_weights_init=FC_WEIGHTS_INIT, fc_act=FC_ACT, optimizer=OPTIMIZER\n",
    "    )\n",
    "    \n",
    "    # save model summaries and model architecture diagrams in the first fold only\n",
    "    if fold == 1:\n",
    "        plot_model( model=model, to_file='{}/{}.png'.format( modelsummaries, modelname ), show_shapes=False )\n",
    "        \n",
    "        with open( '{}/{}.txt'.format( modelsummaries, modelname ), 'w' ) as s:\n",
    "            with redirect_stdout( s ):\n",
    "                model.summary()\n",
    "    \n",
    "    K.set_value( model.optimizer.lr, LR_RATE )\n",
    "    \n",
    "    # train the model with callbacks for early stopping\n",
    "    f1callback = UT_Utils.F1_score_callback_HF(\n",
    "        val_data=( xval_input_ids, xval_attention_masks, yval ),\n",
    "        filepath=modelpath + modelname + str( fold ), patience=PATIENCE,\n",
    "        decay=DECAY, decay_rate=DECAY_RATE, decay_after=DECAY_AFTER\n",
    "    )\n",
    "    histmodel = model.fit(\n",
    "        [ xtrain_input_ids, xtrain_attention_masks ], ytrain,\n",
    "        batch_size=BATCH, epochs=NEPOCHS, verbose=0, callbacks=[ f1callback ]\n",
    "    )\n",
    "    \n",
    "    # save history of all folds\n",
    "    hist[ 'fold' + str( fold ) ] = histmodel.history.copy()\n",
    "    \n",
    "    hffinetuned = './Embeddings/hf_finetuned/{}-fold{}/'.format( bertmodelname, fold )\n",
    "    BERT_MODEL.save_pretrained( hffinetuned )\n",
    "    \n",
    "    # delete trained model object\n",
    "    del model, histmodel, f1callback, BERT_MODEL\n",
    "    K.clear_session()\n",
    "    gc.collect()\n",
    "    \n",
    "    # load saved model\n",
    "    FINETUNED_BERT_MODEL = TFXLMRobertaModel.from_pretrained( hffinetuned, config=BERT_CONFIG, cache_dir=hfcachedir )\n",
    "    FINETUNED_BERT_MODEL.trainable = False\n",
    "    loaded_model = load_model(\n",
    "        modelpath + modelname + str( fold ),\n",
    "        custom_objects={ 'TFXLMRobertaModel': FINETUNED_BERT_MODEL }\n",
    "    )\n",
    "    \n",
    "    # get predictions (probabilities) for validation and test sets respectively\n",
    "    valpredictions = loaded_model.predict(\n",
    "        [ xval_input_ids, xval_attention_masks ], verbose=0, batch_size=BATCH\n",
    "    )\n",
    "    testpredictions = loaded_model.predict(\n",
    "        [ xtest_input_ids, xtest_attention_masks ], verbose=0, batch_size=BATCH\n",
    "    )\n",
    "    \n",
    "    # delete loaded model\n",
    "    del loaded_model, FINETUNED_BERT_MODEL\n",
    "    K.clear_session()\n",
    "    gc.collect()\n",
    "    \n",
    "    # optimizer threshold on validation set\n",
    "    threshold = UT_Utils.optimize_threshold( yval, valpredictions )\n",
    "    \n",
    "    # save accuracy, precision, recall, f1 and confusion matrices\n",
    "    vallabels = ( valpredictions >= threshold ).astype( 'int32' )\n",
    "    testlabels = ( testpredictions >= threshold ).astype( 'int32' )\n",
    "    \n",
    "    valaccuracy.append( accuracy_score( yval, vallabels ) )\n",
    "    valprecision.append( precision_score( yval, vallabels ) )\n",
    "    valrecall.append( recall_score( yval, vallabels ) )\n",
    "    valf1.append( f1_score( yval, vallabels ) )\n",
    "    valcm.append( confusion_matrix( yval, vallabels ) )    \n",
    "    \n",
    "    testaccuracy.append( accuracy_score( ytest, testlabels ) )\n",
    "    testprecision.append( precision_score( ytest, testlabels ) )\n",
    "    testrecall.append( recall_score( ytest, testlabels ) )\n",
    "    testf1.append( f1_score( ytest, testlabels ) )\n",
    "    testcm.append( confusion_matrix( ytest, testlabels ) )\n",
    "    \n",
    "    # save for future analysis and ensemble\n",
    "    com_indices.extend( test_index.tolist() )\n",
    "    com_text.extend( df.loc[ test_index ][ xcolumn ] )\n",
    "    com_label.extend( df.loc[ test_index ][ ycolumn ].tolist() )\n",
    "    com_predicted.extend( testlabels[:,0].tolist() )\n",
    "    com_prob.extend( testpredictions[:,0].tolist() )\n",
    "    \n",
    "    print( 'Fold: {:02d} out of {:02d} completed.'.format( fold, skf.get_n_splits() ) )\n",
    "    print( 'Local System Time: {}'.format( time.strftime( \"%I:%M %p\", time.localtime() ) ) )\n",
    "    \n",
    "    fold = fold + 1\n",
    "time_took = time.time() - start_time\n",
    "print( f\"Total runtime: { hms_string( time_took ) }\" )"
   ]
  },
  {
   "cell_type": "code",
   "execution_count": 14,
   "metadata": {},
   "outputs": [
    {
     "name": "stdout",
     "output_type": "stream",
     "text": [
      "Validation Accuracy\n",
      "['0.9656', '0.9651', '0.9667', '0.9668', '0.9668'] 0.9661971830985916 +- 0.0007073603669520582 \n",
      "\n",
      "Validation Precision\n",
      "['0.9181', '0.9255', '0.9303', '0.9322', '0.9144'] 0.9241037304770774 +- 0.006879916780218212 \n",
      "\n",
      "Validation Recall\n",
      "['0.8834', '0.8720', '0.8765', '0.8752', '0.8954'] 0.8805111826495905 +- 0.008313515236939222 \n",
      "\n",
      "Validation F1\n",
      "['0.9004', '0.8980', '0.9026', '0.9028', '0.9048'] 0.9017217598495945 +- 0.0023403309335631997\n"
     ]
    }
   ],
   "source": [
    "print( 'Validation Accuracy' )\n",
    "print( [ '{:0.4f}'.format( x ) for x in valaccuracy ], np.mean( valaccuracy ), '+-', np.std( valaccuracy ), '\\n' )\n",
    "\n",
    "print( 'Validation Precision' )\n",
    "print( [ '{:0.4f}'.format( x ) for x in valprecision ], np.mean( valprecision ), '+-', np.std( valprecision ), '\\n' )\n",
    "\n",
    "print( 'Validation Recall' )\n",
    "print( [ '{:0.4f}'.format( x ) for x in valrecall ], np.mean( valrecall ), '+-', np.std( valrecall ), '\\n' )\n",
    "\n",
    "print( 'Validation F1' )\n",
    "print( [ '{:0.4f}'.format( x ) for x in valf1 ], np.mean( valf1 ), '+-', np.std( valf1 ) )"
   ]
  },
  {
   "cell_type": "code",
   "execution_count": 15,
   "metadata": {},
   "outputs": [
    {
     "name": "stdout",
     "output_type": "stream",
     "text": [
      "[[1356  179]\n",
      " [ 121 7077]] \n",
      "\n",
      "[[1342  197]\n",
      " [ 108 7086]] \n",
      "\n",
      "[[1349  190]\n",
      " [ 101 7093]] \n",
      "\n",
      "[[1347  192]\n",
      " [  98 7096]] \n",
      "\n",
      "[[1378  161]\n",
      " [ 129 7065]] \n",
      "\n"
     ]
    }
   ],
   "source": [
    "for c in valcm:\n",
    "    print( np.rot90(np.rot90(c)), '\\n' )"
   ]
  },
  {
   "cell_type": "code",
   "execution_count": 16,
   "metadata": {},
   "outputs": [
    {
     "name": "stdout",
     "output_type": "stream",
     "text": [
      "Test Accuracy\n",
      "['0.9660', '0.9630', '0.9677', '0.9650', '0.9645'] 0.9652333930044199 +- 0.0015778547888308494 \n",
      "\n",
      "Test Precision\n",
      "['0.9374', '0.9225', '0.9303', '0.9342', '0.9102'] 0.9269148491165817 +- 0.00972467547687157 \n",
      "\n",
      "Test Recall\n",
      "['0.8691', '0.8672', '0.8870', '0.8667', '0.8904'] 0.8760797052659806 +- 0.0103898355536369 \n",
      "\n",
      "Test F1\n",
      "['0.9020', '0.8940', '0.9081', '0.8992', '0.9002'] 0.9006905337717319 +- 0.004577386560853544\n"
     ]
    }
   ],
   "source": [
    "print( 'Test Accuracy' )\n",
    "print( [ '{:0.4f}'.format( x ) for x in testaccuracy ], np.mean( testaccuracy ), '+-', np.std( testaccuracy ), '\\n' )\n",
    "\n",
    "print( 'Test Precision' )\n",
    "print( [ '{:0.4f}'.format( x ) for x in testprecision ], np.mean( testprecision ), '+-', np.std( testprecision ), '\\n' )\n",
    "\n",
    "print( 'Test Recall' )\n",
    "print( [ '{:0.4f}'.format( x ) for x in testrecall ], np.mean( testrecall ), '+-', np.std( testrecall ), '\\n' )\n",
    "\n",
    "print( 'Test F1' )\n",
    "print( [ '{:0.4f}'.format( x ) for x in testf1 ], np.mean( testf1 ), '+-', np.std( testf1 ) )"
   ]
  },
  {
   "cell_type": "code",
   "execution_count": 17,
   "metadata": {},
   "outputs": [
    {
     "name": "stdout",
     "output_type": "stream",
     "text": [
      "[[ 2277   343]\n",
      " [  152 11783]] \n",
      "\n",
      "[[ 2272   348]\n",
      " [  191 11743]] \n",
      "\n",
      "[[ 2323   296]\n",
      " [  174 11761]] \n",
      "\n",
      "[[ 2270   349]\n",
      " [  160 11775]] \n",
      "\n",
      "[[ 2332   287]\n",
      " [  230 11705]] \n",
      "\n"
     ]
    }
   ],
   "source": [
    "for c in testcm:\n",
    "    print( np.rot90(np.rot90(c)), '\\n' )"
   ]
  },
  {
   "cell_type": "code",
   "execution_count": 18,
   "metadata": {},
   "outputs": [],
   "source": [
    "file = open( '{}/ResultsMain.csv'.format( modelresults ), mode='a' )\n",
    "file.write( modelname )\n",
    "file.write( ',' )\n",
    "file.write( str(np.mean( testaccuracy ))[:7] + '+-' + str(np.std( testaccuracy ))[:6] )\n",
    "file.write( ',' )\n",
    "file.write( str(np.mean( testprecision ))[:7] + '+-' + str(np.std( testprecision ))[:6] )\n",
    "file.write( ',' )\n",
    "file.write( str(np.mean( testrecall ))[:7] + '+-' + str(np.std( testrecall ))[:6] )\n",
    "file.write( ',' )\n",
    "file.write( str(np.mean( testf1 ))[:7] + '+-' + str(np.std( testf1 ))[:6] )\n",
    "file.write( '\\n' )\n",
    "file.close()"
   ]
  },
  {
   "cell_type": "code",
   "execution_count": 19,
   "metadata": {},
   "outputs": [
    {
     "data": {
      "text/plain": [
       "(72771, 4)"
      ]
     },
     "execution_count": 19,
     "metadata": {},
     "output_type": "execute_result"
    }
   ],
   "source": [
    "dfPredictions = pd.DataFrame(  )\n",
    "dfPredictions[ 'comment_indices' ] = com_indices\n",
    "#dfPredictions[ 'comment_text' ] = com_text #comment text\n",
    "dfPredictions[ 'comment_label' ] = com_label\n",
    "dfPredictions[ 'comment_predicted' ] = com_predicted\n",
    "dfPredictions[ 'comment_prob' ] = com_prob\n",
    "dfPredictions.to_csv( '{}/{}.csv'.format( modelresults, modelname ), index=False )\n",
    "dfPredictions.shape"
   ]
  }
 ],
 "metadata": {
  "kernelspec": {
   "display_name": "tf_2.8",
   "language": "python",
   "name": "tf_2.8"
  },
  "language_info": {
   "codemirror_mode": {
    "name": "ipython",
    "version": 3
   },
   "file_extension": ".py",
   "mimetype": "text/x-python",
   "name": "python",
   "nbconvert_exporter": "python",
   "pygments_lexer": "ipython3",
   "version": "3.7.13"
  },
  "varInspector": {
   "cols": {
    "lenName": 16,
    "lenType": 16,
    "lenVar": 40
   },
   "kernels_config": {
    "python": {
     "delete_cmd_postfix": "",
     "delete_cmd_prefix": "del ",
     "library": "var_list.py",
     "varRefreshCmd": "print(var_dic_list())"
    },
    "r": {
     "delete_cmd_postfix": ") ",
     "delete_cmd_prefix": "rm(",
     "library": "var_list.r",
     "varRefreshCmd": "cat(var_dic_list()) "
    }
   },
   "types_to_exclude": [
    "module",
    "function",
    "builtin_function_or_method",
    "instance",
    "_Feature"
   ],
   "window_display": false
  }
 },
 "nbformat": 4,
 "nbformat_minor": 2
}

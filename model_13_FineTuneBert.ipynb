{
 "cells": [
  {
   "cell_type": "code",
   "execution_count": 1,
   "metadata": {},
   "outputs": [],
   "source": [
    "import warnings\n",
    "warnings.filterwarnings( 'ignore' )\n",
    "\n",
    "import gc\n",
    "import os\n",
    "import time\n",
    "import numpy as np\n",
    "import pandas as pd\n",
    "\n",
    "from sklearn.metrics import accuracy_score, precision_score, recall_score\n",
    "from sklearn.metrics import f1_score, confusion_matrix\n",
    "from sklearn.model_selection import StratifiedKFold, train_test_split\n",
    "\n",
    "import tensorflow as tf\n",
    "from tensorflow.keras import backend as K\n",
    "from tensorflow.keras.models import load_model\n",
    "from tensorflow.keras.preprocessing import text, sequence\n",
    "\n",
    "from contextlib import redirect_stdout\n",
    "from tensorflow.keras.utils import plot_model\n",
    "\n",
    "os.environ['TF_CPP_MIN_LOG_LEVEL'] = '2' # supress tensorflow warnings\n",
    "\n",
    "os.environ[\"CUDA_VISIBLE_DEVICES\"] = \"0\""
   ]
  },
  {
   "cell_type": "code",
   "execution_count": 2,
   "metadata": {},
   "outputs": [],
   "source": [
    "import All_UT_Models\n",
    "import UT_Utils"
   ]
  },
  {
   "cell_type": "code",
   "execution_count": 3,
   "metadata": {},
   "outputs": [],
   "source": [
    "# hyper parameters for this model\n",
    "\n",
    "MAX_LEN = 130\n",
    "EMBED_SIZE = 768\n",
    "BERT_TRAINABLE = True\n",
    "\n",
    "DRPT = 0.4\n",
    "FC_WEIGHTS_INIT = 'he_uniform'\n",
    "FC_ACT = 'elu'\n",
    "LR_RATE = 1e-5\n",
    "OPTIMIZER = 'adam'\n",
    "\n",
    "BATCH = 32\n",
    "NEPOCHS = 20\n",
    "PATIENCE = 4\n",
    "DECAY = True\n",
    "DECAY_RATE = 0.3\n",
    "DECAY_AFTER = 1"
   ]
  },
  {
   "cell_type": "code",
   "execution_count": 4,
   "metadata": {},
   "outputs": [],
   "source": [
    "modelname = 'hfFineTuneBert'\n",
    "\n",
    "modelpath = './Saved Models/' + modelname + '/'\n",
    "modelresults = './Model Results'\n",
    "modelsummaries = './Model - Summaries-Figures'\n",
    "\n",
    "DIRECTORIES_TO_BE_CREATED = [ modelpath, modelresults, modelsummaries ]\n",
    "for directory in DIRECTORIES_TO_BE_CREATED:\n",
    "    if not os.path.exists( directory ):\n",
    "        os.makedirs( directory )"
   ]
  },
  {
   "cell_type": "code",
   "execution_count": 5,
   "metadata": {},
   "outputs": [
    {
     "data": {
      "text/plain": [
       "'./Embeddings/huggingface/bert-base-multilingual-cased/'"
      ]
     },
     "execution_count": 5,
     "metadata": {},
     "output_type": "execute_result"
    }
   ],
   "source": [
    "bertmodelname = 'bert-base-multilingual-cased'\n",
    "\n",
    "hfcachedir = './Embeddings/huggingface/{}/'.format( bertmodelname )\n",
    "hfcachedir"
   ]
  },
  {
   "cell_type": "code",
   "execution_count": 6,
   "metadata": {},
   "outputs": [],
   "source": [
    "def hms_string( sec_elapsed ):\n",
    "    h = int(sec_elapsed / (60 * 60))\n",
    "    m = int((sec_elapsed % (60 * 60)) / 60)\n",
    "    s = sec_elapsed % 60\n",
    "    return \"{} hrs {:>02} mins {:>05.2f} secs\".format( h, m, s )"
   ]
  },
  {
   "cell_type": "code",
   "execution_count": 7,
   "metadata": {},
   "outputs": [
    {
     "data": {
      "text/plain": [
       "(72771, 3)"
      ]
     },
     "execution_count": 7,
     "metadata": {},
     "output_type": "execute_result"
    }
   ],
   "source": [
    "sheets = [ pd.read_excel( 'RUT_UT_Comments.xlsx', 'Sheet1' ), pd.read_excel( 'RUT_UT_Comments.xlsx', 'Sheet2' ) ]\n",
    "df = pd.concat( sheets )\n",
    "df.reset_index( drop=True, inplace=True )\n",
    "\n",
    "df.Urdu = df.Urdu.astype( 'str' )\n",
    "df.Urdu = df.Urdu.apply( UT_Utils.urdu_preprocessing )\n",
    "\n",
    "df.dropna( inplace=True )\n",
    "df.reset_index( drop=True, inplace=True )\n",
    "\n",
    "del sheets\n",
    "gc.collect()\n",
    "\n",
    "xcolumn = 'Urdu'\n",
    "ycolumn = 'Toxic'\n",
    "\n",
    "df.shape"
   ]
  },
  {
   "cell_type": "code",
   "execution_count": 8,
   "metadata": {},
   "outputs": [],
   "source": [
    "from tensorflow.keras.layers import Dropout, Dense\n",
    "from tensorflow.keras.models import Model\n",
    "\n",
    "def FineTuneBertWithDenseLayer(\n",
    "    bert_model, max_len=128, drpt=0.1, fc_weights_init='', fc_act='', optimizer='' ):\n",
    "    \n",
    "    input_ids_in = tf.keras.layers.Input( shape=( max_len, ), dtype='int32' )\n",
    "    input_masks_in = tf.keras.layers.Input( shape=( max_len, ), dtype='int32' )\n",
    "    \n",
    "    embedding_layer = bert_model( input_ids_in, attention_mask=input_masks_in )[ 1 ]\n",
    "    \n",
    "    d = Dropout( drpt )( embedding_layer )\n",
    "    d = Dense( 768, activation=fc_act, kernel_initializer=fc_weights_init )( d )\n",
    "    outp = Dense( 1, activation='sigmoid' )( d )\n",
    "    \n",
    "    model = Model( inputs=[ input_ids_in, input_masks_in ], outputs=outp )\n",
    "    \n",
    "    model.compile(\n",
    "        loss='binary_crossentropy',\n",
    "        optimizer=optimizer,\n",
    "        metrics=['accuracy']\n",
    "    )\n",
    "    return model"
   ]
  },
  {
   "cell_type": "code",
   "execution_count": 9,
   "metadata": {},
   "outputs": [],
   "source": [
    "from transformers import BertTokenizer, BertConfig, TFBertModel\n",
    "from transformers import utils\n",
    "utils.logging.set_verbosity( 40 ) # supress huggingface warnings\n",
    "os.environ[ \"TOKENIZERS_PARALLELISM\" ] = \"false\" # disabling tokenizers parallelism to avoid deadlocks"
   ]
  },
  {
   "cell_type": "code",
   "execution_count": 10,
   "metadata": {},
   "outputs": [],
   "source": [
    "# initialize bert tokenizer\n",
    "BERT_TOKENIZER = BertTokenizer.from_pretrained( bertmodelname )\n",
    "\n",
    "# define function to tokenize input Urdu comments using bert tokenizer\n",
    "def get_tokens_and_masks( bert_tokenizer, sentences, max_length=128, padding='max_length' ):\n",
    "    encoded_input = bert_tokenizer(\n",
    "        sentences,\n",
    "        add_special_tokens=True,\n",
    "        max_length=max_length,\n",
    "        padding=padding,\n",
    "        truncation=True,\n",
    "        return_attention_mask = True\n",
    "    )\n",
    "    return np.array( encoded_input[ 'input_ids' ] ), np.array( encoded_input[ 'attention_mask' ] )"
   ]
  },
  {
   "cell_type": "code",
   "execution_count": 11,
   "metadata": {},
   "outputs": [
    {
     "data": {
      "text/plain": [
       "BertConfig {\n",
       "  \"architectures\": [\n",
       "    \"BertForMaskedLM\"\n",
       "  ],\n",
       "  \"attention_probs_dropout_prob\": 0.1,\n",
       "  \"classifier_dropout\": null,\n",
       "  \"directionality\": \"bidi\",\n",
       "  \"hidden_act\": \"gelu\",\n",
       "  \"hidden_dropout_prob\": 0.1,\n",
       "  \"hidden_size\": 768,\n",
       "  \"initializer_range\": 0.02,\n",
       "  \"intermediate_size\": 3072,\n",
       "  \"layer_norm_eps\": 1e-12,\n",
       "  \"max_position_embeddings\": 512,\n",
       "  \"model_type\": \"bert\",\n",
       "  \"num_attention_heads\": 12,\n",
       "  \"num_hidden_layers\": 12,\n",
       "  \"pad_token_id\": 0,\n",
       "  \"pooler_fc_size\": 768,\n",
       "  \"pooler_num_attention_heads\": 12,\n",
       "  \"pooler_num_fc_layers\": 3,\n",
       "  \"pooler_size_per_head\": 128,\n",
       "  \"pooler_type\": \"first_token_transform\",\n",
       "  \"position_embedding_type\": \"absolute\",\n",
       "  \"transformers_version\": \"4.20.1\",\n",
       "  \"type_vocab_size\": 2,\n",
       "  \"use_cache\": true,\n",
       "  \"vocab_size\": 119547\n",
       "}"
      ]
     },
     "execution_count": 11,
     "metadata": {},
     "output_type": "execute_result"
    }
   ],
   "source": [
    "BERT_CONFIG = BertConfig.from_pretrained( bertmodelname )\n",
    "BERT_CONFIG"
   ]
  },
  {
   "cell_type": "code",
   "execution_count": 12,
   "metadata": {},
   "outputs": [
    {
     "name": "stdout",
     "output_type": "stream",
     "text": [
      "StratifiedKFold(n_splits=5, random_state=0, shuffle=True)\n"
     ]
    }
   ],
   "source": [
    "skf = StratifiedKFold( n_splits=5, random_state=0, shuffle=True )\n",
    "print(skf)"
   ]
  },
  {
   "cell_type": "code",
   "execution_count": 13,
   "metadata": {},
   "outputs": [
    {
     "name": "stdout",
     "output_type": "stream",
     "text": [
      "Local System Time: 02:22 AM\n",
      "Epoch: 001 --LR: 1e-05 --MaxValF1: 0.8651685 --CurValF1: 0.8651685 --Patience: 01 --F1 improved: 0.8651685\n",
      "Epoch: 002 --LR: 1e-05 --MaxValF1: 0.8898445 --CurValF1: 0.8898445 --Patience: 01 --F1 improved: 0.8898445\n",
      "Epoch: 003 --LR: 1e-05 --MaxValF1: 0.8898474 --CurValF1: 0.8898474 --Patience: 01 --F1 improved: 0.8898474\n",
      "Epoch: 004 --LR: 1e-05 --MaxValF1: 0.8924303 --CurValF1: 0.8924303 --Patience: 01 --F1 improved: 0.8924303\n",
      "Epoch: 005 --LR: 1e-05 --MaxValF1: 0.8980263 --CurValF1: 0.8980263 --Patience: 01 --F1 improved: 0.8980263\n",
      "Epoch: 006 --LR: 1e-05 --MaxValF1: 0.8980263 --CurValF1: 0.8933909 --Patience: 01\n",
      "Epoch: 007 --LR: 3e-06 --MaxValF1: 0.9007021 --CurValF1: 0.9007021 --Patience: 02 --F1 improved: 0.9007021\n",
      "Epoch: 008 --LR: 3e-06 --MaxValF1: 0.9007021 --CurValF1: 0.8957346 --Patience: 01\n",
      "Epoch: 009 --LR: 9e-07 --MaxValF1: 0.9007021 --CurValF1: 0.8959306 --Patience: 02\n",
      "Epoch: 010 --LR: 3e-07 --MaxValF1: 0.9007021 --CurValF1: 0.8955422 --Patience: 03\n",
      "Epoch: 011 --LR: 8e-08 --MaxValF1: 0.9007021 --CurValF1: 0.8955622 --Patience: 04\n",
      "Training stopped due to the patience parameter. --Patience: 04\n",
      "Fold: 01 out of 05 completed.\n",
      "Local System Time: 04:15 AM\n",
      "Epoch: 001 --LR: 1e-05 --MaxValF1: 0.8733244 --CurValF1: 0.8733244 --Patience: 01 --F1 improved: 0.8733244\n",
      "Epoch: 002 --LR: 1e-05 --MaxValF1: 0.8912831 --CurValF1: 0.8912831 --Patience: 01 --F1 improved: 0.8912831\n",
      "Epoch: 003 --LR: 1e-05 --MaxValF1: 0.8943638 --CurValF1: 0.8943638 --Patience: 01 --F1 improved: 0.8943638\n",
      "Epoch: 004 --LR: 1e-05 --MaxValF1: 0.8988016 --CurValF1: 0.8988016 --Patience: 01 --F1 improved: 0.8988016\n",
      "Epoch: 005 --LR: 1e-05 --MaxValF1: 0.9008292 --CurValF1: 0.9008292 --Patience: 01 --F1 improved: 0.9008292\n",
      "Epoch: 006 --LR: 1e-05 --MaxValF1: 0.9008292 --CurValF1: 0.8907451 --Patience: 01\n",
      "Epoch: 007 --LR: 3e-06 --MaxValF1: 0.9008292 --CurValF1: 0.8962766 --Patience: 02\n",
      "Epoch: 008 --LR: 9e-07 --MaxValF1: 0.9008292 --CurValF1: 0.8961603 --Patience: 03\n",
      "Epoch: 009 --LR: 3e-07 --MaxValF1: 0.9008292 --CurValF1: 0.8969858 --Patience: 04\n",
      "Training stopped due to the patience parameter. --Patience: 04\n",
      "Fold: 02 out of 05 completed.\n",
      "Local System Time: 05:48 AM\n",
      "Epoch: 001 --LR: 1e-05 --MaxValF1: 0.8714627 --CurValF1: 0.8714627 --Patience: 01 --F1 improved: 0.8714627\n",
      "Epoch: 002 --LR: 1e-05 --MaxValF1: 0.8922570 --CurValF1: 0.8922570 --Patience: 01 --F1 improved: 0.8922570\n",
      "Epoch: 003 --LR: 1e-05 --MaxValF1: 0.8922570 --CurValF1: 0.8906752 --Patience: 01\n",
      "Epoch: 004 --LR: 3e-06 --MaxValF1: 0.8967591 --CurValF1: 0.8967591 --Patience: 02 --F1 improved: 0.8967591\n",
      "Epoch: 005 --LR: 3e-06 --MaxValF1: 0.9024716 --CurValF1: 0.9024716 --Patience: 01 --F1 improved: 0.9024716\n",
      "Epoch: 006 --LR: 3e-06 --MaxValF1: 0.9024716 --CurValF1: 0.8980132 --Patience: 01\n",
      "Epoch: 007 --LR: 9e-07 --MaxValF1: 0.9024716 --CurValF1: 0.8959095 --Patience: 02\n",
      "Epoch: 008 --LR: 3e-07 --MaxValF1: 0.9024716 --CurValF1: 0.8963696 --Patience: 03\n",
      "Epoch: 009 --LR: 8e-08 --MaxValF1: 0.9024716 --CurValF1: 0.8969378 --Patience: 04\n",
      "Training stopped due to the patience parameter. --Patience: 04\n",
      "Fold: 03 out of 05 completed.\n",
      "Local System Time: 07:21 AM\n",
      "Epoch: 001 --LR: 1e-05 --MaxValF1: 0.8759931 --CurValF1: 0.8759931 --Patience: 01 --F1 improved: 0.8759931\n",
      "Epoch: 002 --LR: 1e-05 --MaxValF1: 0.8939142 --CurValF1: 0.8939142 --Patience: 01 --F1 improved: 0.8939142\n",
      "Epoch: 003 --LR: 1e-05 --MaxValF1: 0.9004358 --CurValF1: 0.9004358 --Patience: 01 --F1 improved: 0.9004358\n",
      "Epoch: 004 --LR: 1e-05 --MaxValF1: 0.9046358 --CurValF1: 0.9046358 --Patience: 01 --F1 improved: 0.9046358\n",
      "Epoch: 005 --LR: 1e-05 --MaxValF1: 0.9046358 --CurValF1: 0.9039216 --Patience: 01\n",
      "Epoch: 006 --LR: 3e-06 --MaxValF1: 0.9074135 --CurValF1: 0.9074135 --Patience: 02 --F1 improved: 0.9074135\n",
      "Epoch: 007 --LR: 3e-06 --MaxValF1: 0.9074135 --CurValF1: 0.9074013 --Patience: 01\n",
      "Epoch: 008 --LR: 9e-07 --MaxValF1: 0.9098223 --CurValF1: 0.9098223 --Patience: 02 --F1 improved: 0.9098223\n",
      "Epoch: 009 --LR: 9e-07 --MaxValF1: 0.9098223 --CurValF1: 0.9089701 --Patience: 01\n",
      "Epoch: 010 --LR: 3e-07 --MaxValF1: 0.9098223 --CurValF1: 0.9086075 --Patience: 02\n",
      "Epoch: 011 --LR: 8e-08 --MaxValF1: 0.9098223 --CurValF1: 0.9092715 --Patience: 03\n",
      "Epoch: 012 --LR: 2e-08 --MaxValF1: 0.9098223 --CurValF1: 0.9095727 --Patience: 04\n",
      "Training stopped due to the patience parameter. --Patience: 04\n",
      "Fold: 04 out of 05 completed.\n",
      "Local System Time: 09:23 AM\n",
      "Epoch: 001 --LR: 1e-05 --MaxValF1: 0.8765929 --CurValF1: 0.8765929 --Patience: 01 --F1 improved: 0.8765929\n",
      "Epoch: 002 --LR: 1e-05 --MaxValF1: 0.8978224 --CurValF1: 0.8978224 --Patience: 01 --F1 improved: 0.8978224\n",
      "Epoch: 003 --LR: 1e-05 --MaxValF1: 0.8978224 --CurValF1: 0.8921438 --Patience: 01\n",
      "Epoch: 004 --LR: 3e-06 --MaxValF1: 0.8978224 --CurValF1: 0.8967105 --Patience: 02\n",
      "Epoch: 005 --LR: 9e-07 --MaxValF1: 0.8989799 --CurValF1: 0.8989799 --Patience: 03 --F1 improved: 0.8989799\n",
      "Epoch: 006 --LR: 9e-07 --MaxValF1: 0.9001314 --CurValF1: 0.9001314 --Patience: 01 --F1 improved: 0.9001314\n",
      "Epoch: 007 --LR: 9e-07 --MaxValF1: 0.9001314 --CurValF1: 0.8996307 --Patience: 01\n",
      "Epoch: 008 --LR: 3e-07 --MaxValF1: 0.9001314 --CurValF1: 0.8997669 --Patience: 02\n",
      "Epoch: 009 --LR: 8e-08 --MaxValF1: 0.9001314 --CurValF1: 0.8998336 --Patience: 03\n",
      "Epoch: 010 --LR: 2e-08 --MaxValF1: 0.9001314 --CurValF1: 0.8999002 --Patience: 04\n",
      "Training stopped due to the patience parameter. --Patience: 04\n",
      "Fold: 05 out of 05 completed.\n",
      "Local System Time: 11:05 AM\n",
      "Total runtime: 8 hrs 43 mins 43.34 secs\n"
     ]
    }
   ],
   "source": [
    "warnings.filterwarnings( 'ignore' )\n",
    "start_time = time.time()\n",
    "print( 'Local System Time: {}'.format( time.strftime( \"%I:%M %p\", time.localtime() ) ) )\n",
    "\n",
    "valaccuracy, valprecision, valrecall, valf1, valcm = [], [], [], [], []\n",
    "testaccuracy, testprecision, testrecall, testf1, testcm = [], [], [], [], []\n",
    "com_text, com_label, com_predicted, com_prob = [], [], [], []\n",
    "com_indices = []\n",
    "hist = {}\n",
    "\n",
    "fold = 1\n",
    "for train_index, test_index in skf.split( df[ xcolumn ], df[ ycolumn ] ):\n",
    "    # seprating train and test sets\n",
    "    xtrain = df.loc[ train_index ][ xcolumn ].values\n",
    "    xtest = df.loc[ test_index ][ xcolumn ].values\n",
    "    \n",
    "    ytrain = df.loc[ train_index ][ ycolumn ].values\n",
    "    ytest = df.loc[ test_index ][ ycolumn ].values\n",
    "    \n",
    "    # splitting train and validation sets\n",
    "    xtrain, xval, ytrain, yval = train_test_split( xtrain, ytrain, test_size=0.15, random_state=0 )\n",
    "    \n",
    "    xtrain_input_ids, xtrain_attention_masks = get_tokens_and_masks(\n",
    "        BERT_TOKENIZER, xtrain.tolist(), max_length=MAX_LEN, padding='max_length'\n",
    "    )\n",
    "    \n",
    "    xval_input_ids, xval_attention_masks = get_tokens_and_masks(\n",
    "        BERT_TOKENIZER, xval.tolist(), max_length=MAX_LEN, padding='max_length'\n",
    "    )\n",
    "    \n",
    "    xtest_input_ids, xtest_attention_masks = get_tokens_and_masks(\n",
    "        BERT_TOKENIZER, xtest.tolist(), max_length=MAX_LEN, padding='max_length'\n",
    "    )\n",
    "    \n",
    "    # instantiate bert model\n",
    "    BERT_MODEL = TFBertModel.from_pretrained( bertmodelname, config=BERT_CONFIG, cache_dir=hfcachedir )\n",
    "    BERT_MODEL.trainable = BERT_TRAINABLE\n",
    "    \n",
    "    # define a model\n",
    "    model = FineTuneBertWithDenseLayer(\n",
    "        bert_model=BERT_MODEL,\n",
    "        max_len=MAX_LEN, drpt=DRPT, fc_weights_init=FC_WEIGHTS_INIT, fc_act=FC_ACT, optimizer=OPTIMIZER\n",
    "    )\n",
    "    \n",
    "    # save model summaries and model architecture diagrams in the first fold only\n",
    "    if fold == 1:\n",
    "        plot_model( model=model, to_file='{}/{}.png'.format( modelsummaries, modelname ), show_shapes=False )\n",
    "        \n",
    "        with open( '{}/{}.txt'.format( modelsummaries, modelname ), 'w' ) as s:\n",
    "            with redirect_stdout( s ):\n",
    "                model.summary()\n",
    "    \n",
    "    K.set_value( model.optimizer.lr, LR_RATE )\n",
    "    \n",
    "    # train the model with callbacks for early stopping\n",
    "    f1callback = UT_Utils.F1_score_callback_HF(\n",
    "        val_data=( xval_input_ids, xval_attention_masks, yval ),\n",
    "        filepath=modelpath + modelname + str( fold ), patience=PATIENCE,\n",
    "        decay=DECAY, decay_rate=DECAY_RATE, decay_after=DECAY_AFTER\n",
    "    )\n",
    "    histmodel = model.fit(\n",
    "        [ xtrain_input_ids, xtrain_attention_masks ], ytrain,\n",
    "        batch_size=BATCH, epochs=NEPOCHS, verbose=0, callbacks=[ f1callback ]\n",
    "    )\n",
    "    \n",
    "    # save history of all folds\n",
    "    hist[ 'fold' + str( fold ) ] = histmodel.history.copy()\n",
    "    \n",
    "    hffinetuned = './Embeddings/hf_finetuned/{}-fold{}/'.format( bertmodelname, fold )\n",
    "    BERT_MODEL.save_pretrained( hffinetuned )\n",
    "    \n",
    "    # delete trained model object\n",
    "    del model, histmodel, f1callback, BERT_MODEL\n",
    "    K.clear_session()\n",
    "    gc.collect()\n",
    "    \n",
    "    # load saved model\n",
    "    FINETUNED_BERT_MODEL = TFBertModel.from_pretrained( hffinetuned, config=BERT_CONFIG, cache_dir=hfcachedir )\n",
    "    FINETUNED_BERT_MODEL.trainable = False\n",
    "    loaded_model = load_model(\n",
    "        modelpath + modelname + str( fold ),\n",
    "        custom_objects={ 'TFBertModel': FINETUNED_BERT_MODEL }\n",
    "    )\n",
    "    \n",
    "    # get predictions (probabilities) for validation and test sets respectively\n",
    "    valpredictions = loaded_model.predict(\n",
    "        [ xval_input_ids, xval_attention_masks ], verbose=0, batch_size=BATCH\n",
    "    )\n",
    "    testpredictions = loaded_model.predict(\n",
    "        [ xtest_input_ids, xtest_attention_masks ], verbose=0, batch_size=BATCH\n",
    "    )\n",
    "    \n",
    "    # delete loaded model\n",
    "    del loaded_model, FINETUNED_BERT_MODEL\n",
    "    K.clear_session()\n",
    "    gc.collect()\n",
    "    \n",
    "    # optimizer threshold on validation set\n",
    "    threshold = UT_Utils.optimize_threshold( yval, valpredictions )\n",
    "    \n",
    "    # save accuracy, precision, recall, f1 and confusion matrices\n",
    "    vallabels = ( valpredictions >= threshold ).astype( 'int32' )\n",
    "    testlabels = ( testpredictions >= threshold ).astype( 'int32' )\n",
    "    \n",
    "    valaccuracy.append( accuracy_score( yval, vallabels ) )\n",
    "    valprecision.append( precision_score( yval, vallabels ) )\n",
    "    valrecall.append( recall_score( yval, vallabels ) )\n",
    "    valf1.append( f1_score( yval, vallabels ) )\n",
    "    valcm.append( confusion_matrix( yval, vallabels ) )    \n",
    "    \n",
    "    testaccuracy.append( accuracy_score( ytest, testlabels ) )\n",
    "    testprecision.append( precision_score( ytest, testlabels ) )\n",
    "    testrecall.append( recall_score( ytest, testlabels ) )\n",
    "    testf1.append( f1_score( ytest, testlabels ) )\n",
    "    testcm.append( confusion_matrix( ytest, testlabels ) )\n",
    "    \n",
    "    # save for future analysis and ensemble\n",
    "    com_indices.extend( test_index.tolist() )\n",
    "    com_text.extend( df.loc[ test_index ][ xcolumn ] )\n",
    "    com_label.extend( df.loc[ test_index ][ ycolumn ].tolist() )\n",
    "    com_predicted.extend( testlabels[:,0].tolist() )\n",
    "    com_prob.extend( testpredictions[:,0].tolist() )\n",
    "    \n",
    "    print( 'Fold: {:02d} out of {:02d} completed.'.format( fold, skf.get_n_splits() ) )\n",
    "    print( 'Local System Time: {}'.format( time.strftime( \"%I:%M %p\", time.localtime() ) ) )\n",
    "    \n",
    "    fold = fold + 1\n",
    "time_took = time.time() - start_time\n",
    "print( f\"Total runtime: { hms_string( time_took ) }\" )"
   ]
  },
  {
   "cell_type": "code",
   "execution_count": 14,
   "metadata": {},
   "outputs": [
    {
     "name": "stdout",
     "output_type": "stream",
     "text": [
      "Validation Accuracy\n",
      "['0.9660', '0.9658', '0.9666', '0.9692', '0.9652'] 0.9665407076605976 +- 0.0013994380961825006 \n",
      "\n",
      "Validation Precision\n",
      "['0.9251', '0.9201', '0.9285', '0.9398', '0.9103'] 0.9247527191584325 +- 0.00969827975654265 \n",
      "\n",
      "Validation Recall\n",
      "['0.8775', '0.8824', '0.8778', '0.8817', '0.8902'] 0.881937634531497 +- 0.004573058170255745 \n",
      "\n",
      "Validation F1\n",
      "['0.9007', '0.9008', '0.9025', '0.9098', '0.9001'] 0.9027913272326711 +- 0.00360075513209736\n"
     ]
    }
   ],
   "source": [
    "print( 'Validation Accuracy' )\n",
    "print( [ '{:0.4f}'.format( x ) for x in valaccuracy ], np.mean( valaccuracy ), '+-', np.std( valaccuracy ), '\\n' )\n",
    "\n",
    "print( 'Validation Precision' )\n",
    "print( [ '{:0.4f}'.format( x ) for x in valprecision ], np.mean( valprecision ), '+-', np.std( valprecision ), '\\n' )\n",
    "\n",
    "print( 'Validation Recall' )\n",
    "print( [ '{:0.4f}'.format( x ) for x in valrecall ], np.mean( valrecall ), '+-', np.std( valrecall ), '\\n' )\n",
    "\n",
    "print( 'Validation F1' )\n",
    "print( [ '{:0.4f}'.format( x ) for x in valf1 ], np.mean( valf1 ), '+-', np.std( valf1 ) )"
   ]
  },
  {
   "cell_type": "code",
   "execution_count": 15,
   "metadata": {},
   "outputs": [
    {
     "name": "stdout",
     "output_type": "stream",
     "text": [
      "[[1347  188]\n",
      " [ 109 7089]] \n",
      "\n",
      "[[1358  181]\n",
      " [ 118 7076]] \n",
      "\n",
      "[[1351  188]\n",
      " [ 104 7090]] \n",
      "\n",
      "[[1357  182]\n",
      " [  87 7107]] \n",
      "\n",
      "[[1370  169]\n",
      " [ 135 7059]] \n",
      "\n"
     ]
    }
   ],
   "source": [
    "for c in valcm:\n",
    "    print( np.rot90(np.rot90(c)), '\\n' )"
   ]
  },
  {
   "cell_type": "code",
   "execution_count": 16,
   "metadata": {},
   "outputs": [
    {
     "name": "stdout",
     "output_type": "stream",
     "text": [
      "Test Accuracy\n",
      "['0.9648', '0.9632', '0.9652', '0.9658', '0.9627'] 0.9643401838245864 +- 0.0011997628524600974 \n",
      "\n",
      "Test Precision\n",
      "['0.9410', '0.9165', '0.9171', '0.9323', '0.9074'] 0.9228542926066915 +- 0.012104933094552782 \n",
      "\n",
      "Test Recall\n",
      "['0.8584', '0.8752', '0.8870', '0.8732', '0.8828'] 0.8753162590464865 +- 0.009821960179478917 \n",
      "\n",
      "Test F1\n",
      "['0.8978', '0.8954', '0.9018', '0.9018', '0.8949'] 0.8983334738044839 +- 0.002997072821619214\n"
     ]
    }
   ],
   "source": [
    "print( 'Test Accuracy' )\n",
    "print( [ '{:0.4f}'.format( x ) for x in testaccuracy ], np.mean( testaccuracy ), '+-', np.std( testaccuracy ), '\\n' )\n",
    "\n",
    "print( 'Test Precision' )\n",
    "print( [ '{:0.4f}'.format( x ) for x in testprecision ], np.mean( testprecision ), '+-', np.std( testprecision ), '\\n' )\n",
    "\n",
    "print( 'Test Recall' )\n",
    "print( [ '{:0.4f}'.format( x ) for x in testrecall ], np.mean( testrecall ), '+-', np.std( testrecall ), '\\n' )\n",
    "\n",
    "print( 'Test F1' )\n",
    "print( [ '{:0.4f}'.format( x ) for x in testf1 ], np.mean( testf1 ), '+-', np.std( testf1 ) )"
   ]
  },
  {
   "cell_type": "code",
   "execution_count": 17,
   "metadata": {},
   "outputs": [
    {
     "name": "stdout",
     "output_type": "stream",
     "text": [
      "[[ 2249   371]\n",
      " [  141 11794]] \n",
      "\n",
      "[[ 2293   327]\n",
      " [  209 11725]] \n",
      "\n",
      "[[ 2323   296]\n",
      " [  210 11725]] \n",
      "\n",
      "[[ 2287   332]\n",
      " [  166 11769]] \n",
      "\n",
      "[[ 2312   307]\n",
      " [  236 11699]] \n",
      "\n"
     ]
    }
   ],
   "source": [
    "for c in testcm:\n",
    "    print( np.rot90(np.rot90(c)), '\\n' )"
   ]
  },
  {
   "cell_type": "code",
   "execution_count": 18,
   "metadata": {},
   "outputs": [],
   "source": [
    "file = open( '{}/ResultsMain.csv'.format( modelresults ), mode='a' )\n",
    "file.write( modelname )\n",
    "file.write( ',' )\n",
    "file.write( str(np.mean( testaccuracy ))[:7] + '+-' + str(np.std( testaccuracy ))[:6] )\n",
    "file.write( ',' )\n",
    "file.write( str(np.mean( testprecision ))[:7] + '+-' + str(np.std( testprecision ))[:6] )\n",
    "file.write( ',' )\n",
    "file.write( str(np.mean( testrecall ))[:7] + '+-' + str(np.std( testrecall ))[:6] )\n",
    "file.write( ',' )\n",
    "file.write( str(np.mean( testf1 ))[:7] + '+-' + str(np.std( testf1 ))[:6] )\n",
    "file.write( '\\n' )\n",
    "file.close()"
   ]
  },
  {
   "cell_type": "code",
   "execution_count": 19,
   "metadata": {},
   "outputs": [
    {
     "data": {
      "text/plain": [
       "(72771, 4)"
      ]
     },
     "execution_count": 19,
     "metadata": {},
     "output_type": "execute_result"
    }
   ],
   "source": [
    "dfPredictions = pd.DataFrame(  )\n",
    "dfPredictions[ 'comment_indices' ] = com_indices\n",
    "#dfPredictions[ 'comment_text' ] = com_text #comment text\n",
    "dfPredictions[ 'comment_label' ] = com_label\n",
    "dfPredictions[ 'comment_predicted' ] = com_predicted\n",
    "dfPredictions[ 'comment_prob' ] = com_prob\n",
    "dfPredictions.to_csv( '{}/{}.csv'.format( modelresults, modelname ), index=False )\n",
    "dfPredictions.shape"
   ]
  }
 ],
 "metadata": {
  "kernelspec": {
   "display_name": "tf_2.8",
   "language": "python",
   "name": "tf_2.8"
  },
  "language_info": {
   "codemirror_mode": {
    "name": "ipython",
    "version": 3
   },
   "file_extension": ".py",
   "mimetype": "text/x-python",
   "name": "python",
   "nbconvert_exporter": "python",
   "pygments_lexer": "ipython3",
   "version": "3.7.13"
  },
  "varInspector": {
   "cols": {
    "lenName": 16,
    "lenType": 16,
    "lenVar": 40
   },
   "kernels_config": {
    "python": {
     "delete_cmd_postfix": "",
     "delete_cmd_prefix": "del ",
     "library": "var_list.py",
     "varRefreshCmd": "print(var_dic_list())"
    },
    "r": {
     "delete_cmd_postfix": ") ",
     "delete_cmd_prefix": "rm(",
     "library": "var_list.r",
     "varRefreshCmd": "cat(var_dic_list()) "
    }
   },
   "types_to_exclude": [
    "module",
    "function",
    "builtin_function_or_method",
    "instance",
    "_Feature"
   ],
   "window_display": false
  }
 },
 "nbformat": 4,
 "nbformat_minor": 2
}

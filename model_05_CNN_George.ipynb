{
 "cells": [
  {
   "cell_type": "code",
   "execution_count": 1,
   "metadata": {},
   "outputs": [],
   "source": [
    "import warnings\n",
    "warnings.filterwarnings( 'ignore' )\n",
    "\n",
    "import gc\n",
    "import os\n",
    "import time\n",
    "import numpy as np\n",
    "import pandas as pd\n",
    "\n",
    "from sklearn.metrics import accuracy_score, precision_score, recall_score\n",
    "from sklearn.metrics import f1_score, confusion_matrix\n",
    "from sklearn.model_selection import StratifiedKFold, train_test_split\n",
    "\n",
    "import tensorflow as tf\n",
    "from tensorflow.keras import backend as K\n",
    "from tensorflow.keras.models import load_model\n",
    "from tensorflow.keras.preprocessing import text, sequence\n",
    "\n",
    "from contextlib import redirect_stdout\n",
    "from tensorflow.keras.utils import plot_model\n",
    "\n",
    "os.environ['TF_CPP_MIN_LOG_LEVEL'] = '2' # supress tensorflow warnings\n",
    "\n",
    "os.environ[\"CUDA_VISIBLE_DEVICES\"] = \"1\""
   ]
  },
  {
   "cell_type": "code",
   "execution_count": 2,
   "metadata": {},
   "outputs": [],
   "source": [
    "import All_UT_Models\n",
    "import UT_Utils"
   ]
  },
  {
   "cell_type": "code",
   "execution_count": 3,
   "metadata": {},
   "outputs": [],
   "source": [
    "# hyper parameters for this model\n",
    "\n",
    "MAX_LEN = 100\n",
    "EMBED_SIZE = 300\n",
    "PRE_TRAINED_FLAG = True\n",
    "EMBED_TRAINABLE = False\n",
    "\n",
    "EMB_WEIGHTS_INIT = 'he_normal'\n",
    "LR_RATE = 1e-3\n",
    "OPTIMIZER = 'adam'\n",
    "\n",
    "BATCH = 32\n",
    "NEPOCHS = 30\n",
    "PATIENCE = 5\n",
    "DECAY = True\n",
    "DECAY_RATE = 0.3\n",
    "DECAY_AFTER = 1"
   ]
  },
  {
   "cell_type": "code",
   "execution_count": 4,
   "metadata": {},
   "outputs": [],
   "source": [
    "#EMBEDDING_FILE = './Embeddings/urduvec_140M_100K_300d.txt'\n",
    "EMBEDDING_FILE = './Embeddings/cc.ur.300.vec'\n",
    "\n",
    "EMBEDDING_MATRIX = []\n",
    "\n",
    "modelname = 'CNN_George-ft'\n",
    "\n",
    "modelpath = './Saved Models/' + modelname + '/'\n",
    "modelresults = './Model Results'\n",
    "modelsummaries = './Model - Summaries-Figures'\n",
    "\n",
    "DIRECTORIES_TO_BE_CREATED = [ modelpath, modelresults, modelsummaries ]\n",
    "for directory in DIRECTORIES_TO_BE_CREATED:\n",
    "    if not os.path.exists( directory ):\n",
    "        os.makedirs( directory )"
   ]
  },
  {
   "cell_type": "code",
   "execution_count": 5,
   "metadata": {},
   "outputs": [],
   "source": [
    "def hms_string( sec_elapsed ):\n",
    "    h = int(sec_elapsed / (60 * 60))\n",
    "    m = int((sec_elapsed % (60 * 60)) / 60)\n",
    "    s = sec_elapsed % 60\n",
    "    return \"{} hrs {:>02} mins {:>05.2f} secs\".format( h, m, s )"
   ]
  },
  {
   "cell_type": "code",
   "execution_count": 6,
   "metadata": {},
   "outputs": [
    {
     "data": {
      "text/plain": [
       "(72771, 3)"
      ]
     },
     "execution_count": 6,
     "metadata": {},
     "output_type": "execute_result"
    }
   ],
   "source": [
    "sheets = [ pd.read_excel( 'RUT_UT_Comments.xlsx', 'Sheet1' ), pd.read_excel( 'RUT_UT_Comments.xlsx', 'Sheet2' ) ]\n",
    "df = pd.concat( sheets )\n",
    "df.reset_index( drop=True, inplace=True )\n",
    "\n",
    "df.Urdu = df.Urdu.astype( 'str' )\n",
    "df.Urdu = df.Urdu.apply( UT_Utils.urdu_preprocessing )\n",
    "\n",
    "df.dropna( inplace=True )\n",
    "df.reset_index( drop=True, inplace=True )\n",
    "\n",
    "del sheets\n",
    "gc.collect()\n",
    "\n",
    "xcolumn = 'Urdu'\n",
    "ycolumn = 'Toxic'\n",
    "\n",
    "df.shape"
   ]
  },
  {
   "cell_type": "code",
   "execution_count": 7,
   "metadata": {},
   "outputs": [
    {
     "name": "stdout",
     "output_type": "stream",
     "text": [
      "Total Words in Pretrained Embeddings:  1153999\n",
      "Pretrained Embeddings mean: -0.00027458658  std:  0.024344679\n"
     ]
    }
   ],
   "source": [
    "def get_coefs( word, *arr ):\n",
    "    return word, np.asarray( arr, dtype='float32' )\n",
    "\n",
    "def get_vectors( tokenizer, emb_mean, emb_std, embed_size ):\n",
    "    hits = 0\n",
    "    misses = 0\n",
    "    word_index = tokenizer.word_index\n",
    "    num_words = len( word_index ) + 1\n",
    "    embedding_matrix = np.random.normal( emb_mean, emb_std, ( num_words, embed_size ) ) # for unk tokens\n",
    "    embedding_matrix[0] = np.zeros( ( embed_size ) ) # replace zero padding with zeros\n",
    "    for word, i in word_index.items(  ):\n",
    "        embedding_vector = EMBEDDINGS_INDEX.get( word )\n",
    "        if embedding_vector is not None:\n",
    "            embedding_matrix[ i ] = embedding_vector\n",
    "            hits += 1\n",
    "        else:\n",
    "            misses += 1\n",
    "    print( \"Pretrained Embeddings: %d hits (%d misses)\" % ( hits, misses ) )\n",
    "    gc.collect()\n",
    "    return embedding_matrix\n",
    "\n",
    "if PRE_TRAINED_FLAG == True:\n",
    "    EMBEDDINGS_INDEX = dict( get_coefs( *o.strip().split() ) for o in open( EMBEDDING_FILE, encoding='utf-8' )  if len(o)>19 )\n",
    "    print( 'Total Words in Pretrained Embeddings: ', len( EMBEDDINGS_INDEX.values() ) )\n",
    "    all_embs = np.stack( EMBEDDINGS_INDEX.values() )\n",
    "    emb_mean, emb_std = all_embs.mean(), all_embs.std()\n",
    "    print( 'Pretrained Embeddings mean:', emb_mean, ' std: ', emb_std )"
   ]
  },
  {
   "cell_type": "code",
   "execution_count": 8,
   "metadata": {},
   "outputs": [
    {
     "name": "stdout",
     "output_type": "stream",
     "text": [
      "StratifiedKFold(n_splits=5, random_state=0, shuffle=True)\n"
     ]
    }
   ],
   "source": [
    "skf = StratifiedKFold( n_splits=5, random_state=0, shuffle=True )\n",
    "print(skf)"
   ]
  },
  {
   "cell_type": "code",
   "execution_count": 9,
   "metadata": {},
   "outputs": [
    {
     "name": "stdout",
     "output_type": "stream",
     "text": [
      "Local System Time: 11:12 PM\n",
      "Pretrained Embeddings: 28830 hits (16914 misses)\n",
      "Epoch: 001 --LR: 1e-03 --MaxValF1: 0.8079194 --CurValF1: 0.8079194 --Patience: 01 --F1 improved: 0.8079194\n",
      "Epoch: 002 --LR: 1e-03 --MaxValF1: 0.8229476 --CurValF1: 0.8229476 --Patience: 01 --F1 improved: 0.8229476\n",
      "Epoch: 003 --LR: 1e-03 --MaxValF1: 0.8271481 --CurValF1: 0.8271481 --Patience: 01 --F1 improved: 0.8271481\n",
      "Epoch: 004 --LR: 1e-03 --MaxValF1: 0.8329939 --CurValF1: 0.8329939 --Patience: 01 --F1 improved: 0.8329939\n",
      "Epoch: 005 --LR: 1e-03 --MaxValF1: 0.8332772 --CurValF1: 0.8332772 --Patience: 01 --F1 improved: 0.8332772\n",
      "Epoch: 006 --LR: 1e-03 --MaxValF1: 0.8381659 --CurValF1: 0.8381659 --Patience: 01 --F1 improved: 0.8381659\n",
      "Epoch: 007 --LR: 1e-03 --MaxValF1: 0.8381659 --CurValF1: 0.8202049 --Patience: 01\n",
      "Epoch: 008 --LR: 3e-04 --MaxValF1: 0.8398625 --CurValF1: 0.8398625 --Patience: 02 --F1 improved: 0.8398625\n",
      "Epoch: 009 --LR: 3e-04 --MaxValF1: 0.8398625 --CurValF1: 0.8379185 --Patience: 01\n",
      "Epoch: 010 --LR: 9e-05 --MaxValF1: 0.8398625 --CurValF1: 0.8373656 --Patience: 02\n",
      "Epoch: 011 --LR: 3e-05 --MaxValF1: 0.8398625 --CurValF1: 0.8382253 --Patience: 03\n",
      "Epoch: 012 --LR: 8e-06 --MaxValF1: 0.8398625 --CurValF1: 0.8394136 --Patience: 04\n",
      "Epoch: 013 --LR: 2e-06 --MaxValF1: 0.8398625 --CurValF1: 0.8394136 --Patience: 05\n",
      "Training stopped due to the patience parameter. --Patience: 05\n",
      "Fold: 01 out of 05 completed.\n",
      "Local System Time: 11:14 PM\n",
      "Pretrained Embeddings: 28751 hits (16720 misses)\n",
      "Epoch: 001 --LR: 1e-03 --MaxValF1: 0.8090999 --CurValF1: 0.8090999 --Patience: 01 --F1 improved: 0.8090999\n",
      "Epoch: 002 --LR: 1e-03 --MaxValF1: 0.8330020 --CurValF1: 0.8330020 --Patience: 01 --F1 improved: 0.8330020\n",
      "Epoch: 003 --LR: 1e-03 --MaxValF1: 0.8330020 --CurValF1: 0.8317098 --Patience: 01\n",
      "Epoch: 004 --LR: 3e-04 --MaxValF1: 0.8358413 --CurValF1: 0.8358413 --Patience: 02 --F1 improved: 0.8358413\n",
      "Epoch: 005 --LR: 3e-04 --MaxValF1: 0.8362416 --CurValF1: 0.8362416 --Patience: 01 --F1 improved: 0.8362416\n",
      "Epoch: 006 --LR: 3e-04 --MaxValF1: 0.8362416 --CurValF1: 0.8359073 --Patience: 01\n",
      "Epoch: 007 --LR: 9e-05 --MaxValF1: 0.8364116 --CurValF1: 0.8364116 --Patience: 02 --F1 improved: 0.8364116\n",
      "Epoch: 008 --LR: 9e-05 --MaxValF1: 0.8383544 --CurValF1: 0.8383544 --Patience: 01 --F1 improved: 0.8383544\n",
      "Epoch: 009 --LR: 9e-05 --MaxValF1: 0.8383544 --CurValF1: 0.8383544 --Patience: 01\n",
      "Epoch: 010 --LR: 3e-05 --MaxValF1: 0.8383544 --CurValF1: 0.8369678 --Patience: 02\n",
      "Epoch: 011 --LR: 8e-06 --MaxValF1: 0.8383544 --CurValF1: 0.8371932 --Patience: 03\n",
      "Epoch: 012 --LR: 2e-06 --MaxValF1: 0.8383544 --CurValF1: 0.8371932 --Patience: 04\n",
      "Epoch: 013 --LR: 7e-07 --MaxValF1: 0.8383544 --CurValF1: 0.8371932 --Patience: 05\n",
      "Training stopped due to the patience parameter. --Patience: 05\n",
      "Fold: 02 out of 05 completed.\n",
      "Local System Time: 11:16 PM\n",
      "Pretrained Embeddings: 28866 hits (16643 misses)\n",
      "Epoch: 001 --LR: 1e-03 --MaxValF1: 0.8059001 --CurValF1: 0.8059001 --Patience: 01 --F1 improved: 0.8059001\n",
      "Epoch: 002 --LR: 1e-03 --MaxValF1: 0.8200134 --CurValF1: 0.8200134 --Patience: 01 --F1 improved: 0.8200134\n",
      "Epoch: 003 --LR: 1e-03 --MaxValF1: 0.8227288 --CurValF1: 0.8227288 --Patience: 01 --F1 improved: 0.8227288\n",
      "Epoch: 004 --LR: 1e-03 --MaxValF1: 0.8258481 --CurValF1: 0.8258481 --Patience: 01 --F1 improved: 0.8258481\n",
      "Epoch: 005 --LR: 1e-03 --MaxValF1: 0.8285229 --CurValF1: 0.8285229 --Patience: 01 --F1 improved: 0.8285229\n",
      "Epoch: 006 --LR: 1e-03 --MaxValF1: 0.8299935 --CurValF1: 0.8299935 --Patience: 01 --F1 improved: 0.8299935\n",
      "Epoch: 007 --LR: 1e-03 --MaxValF1: 0.8299935 --CurValF1: 0.8271973 --Patience: 01\n",
      "Epoch: 008 --LR: 3e-04 --MaxValF1: 0.8299935 --CurValF1: 0.8288288 --Patience: 02\n",
      "Epoch: 009 --LR: 9e-05 --MaxValF1: 0.8299935 --CurValF1: 0.8299769 --Patience: 03\n",
      "Epoch: 010 --LR: 3e-05 --MaxValF1: 0.8302135 --CurValF1: 0.8302135 --Patience: 04 --F1 improved: 0.8302135\n",
      "Epoch: 011 --LR: 3e-05 --MaxValF1: 0.8305141 --CurValF1: 0.8305141 --Patience: 01 --F1 improved: 0.8305141\n",
      "Epoch: 012 --LR: 3e-05 --MaxValF1: 0.8306156 --CurValF1: 0.8306156 --Patience: 01 --F1 improved: 0.8306156\n",
      "Epoch: 013 --LR: 3e-05 --MaxValF1: 0.8309532 --CurValF1: 0.8309532 --Patience: 01 --F1 improved: 0.8309532\n",
      "Epoch: 014 --LR: 3e-05 --MaxValF1: 0.8311688 --CurValF1: 0.8311688 --Patience: 01 --F1 improved: 0.8311688\n",
      "Epoch: 015 --LR: 3e-05 --MaxValF1: 0.8311688 --CurValF1: 0.8305648 --Patience: 01\n",
      "Epoch: 016 --LR: 8e-06 --MaxValF1: 0.8312894 --CurValF1: 0.8312894 --Patience: 02 --F1 improved: 0.8312894\n",
      "Epoch: 017 --LR: 8e-06 --MaxValF1: 0.8315650 --CurValF1: 0.8315650 --Patience: 01 --F1 improved: 0.8315650\n",
      "Epoch: 018 --LR: 8e-06 --MaxValF1: 0.8315650 --CurValF1: 0.8311774 --Patience: 01\n",
      "Epoch: 019 --LR: 2e-06 --MaxValF1: 0.8315650 --CurValF1: 0.8308507 --Patience: 02\n",
      "Epoch: 020 --LR: 7e-07 --MaxValF1: 0.8315650 --CurValF1: 0.8311774 --Patience: 03\n",
      "Epoch: 021 --LR: 2e-07 --MaxValF1: 0.8315650 --CurValF1: 0.8311774 --Patience: 04\n",
      "Epoch: 022 --LR: 7e-08 --MaxValF1: 0.8315650 --CurValF1: 0.8311774 --Patience: 05\n",
      "Training stopped due to the patience parameter. --Patience: 05\n",
      "Fold: 03 out of 05 completed.\n",
      "Local System Time: 11:19 PM\n",
      "Pretrained Embeddings: 28831 hits (16686 misses)\n",
      "Epoch: 001 --LR: 1e-03 --MaxValF1: 0.8182415 --CurValF1: 0.8182415 --Patience: 01 --F1 improved: 0.8182415\n",
      "Epoch: 002 --LR: 1e-03 --MaxValF1: 0.8286409 --CurValF1: 0.8286409 --Patience: 01 --F1 improved: 0.8286409\n",
      "Epoch: 003 --LR: 1e-03 --MaxValF1: 0.8296498 --CurValF1: 0.8296498 --Patience: 01 --F1 improved: 0.8296498\n",
      "Epoch: 004 --LR: 1e-03 --MaxValF1: 0.8352542 --CurValF1: 0.8352542 --Patience: 01 --F1 improved: 0.8352542\n",
      "Epoch: 005 --LR: 1e-03 --MaxValF1: 0.8352542 --CurValF1: 0.8327332 --Patience: 01\n",
      "Epoch: 006 --LR: 3e-04 --MaxValF1: 0.8368032 --CurValF1: 0.8368032 --Patience: 02 --F1 improved: 0.8368032\n",
      "Epoch: 007 --LR: 3e-04 --MaxValF1: 0.8373905 --CurValF1: 0.8373905 --Patience: 01 --F1 improved: 0.8373905\n",
      "Epoch: 008 --LR: 3e-04 --MaxValF1: 0.8379344 --CurValF1: 0.8379344 --Patience: 01 --F1 improved: 0.8379344\n",
      "Epoch: 009 --LR: 3e-04 --MaxValF1: 0.8379344 --CurValF1: 0.8369565 --Patience: 01\n",
      "Epoch: 010 --LR: 9e-05 --MaxValF1: 0.8379344 --CurValF1: 0.8366102 --Patience: 02\n",
      "Epoch: 011 --LR: 3e-05 --MaxValF1: 0.8379344 --CurValF1: 0.8366353 --Patience: 03\n",
      "Epoch: 012 --LR: 8e-06 --MaxValF1: 0.8379344 --CurValF1: 0.8364821 --Patience: 04\n",
      "Epoch: 013 --LR: 2e-06 --MaxValF1: 0.8379344 --CurValF1: 0.8371791 --Patience: 05\n",
      "Training stopped due to the patience parameter. --Patience: 05\n",
      "Fold: 04 out of 05 completed.\n",
      "Local System Time: 11:21 PM\n",
      "Pretrained Embeddings: 28812 hits (16602 misses)\n",
      "Epoch: 001 --LR: 1e-03 --MaxValF1: 0.8152455 --CurValF1: 0.8152455 --Patience: 01 --F1 improved: 0.8152455\n",
      "Epoch: 002 --LR: 1e-03 --MaxValF1: 0.8283558 --CurValF1: 0.8283558 --Patience: 01 --F1 improved: 0.8283558\n",
      "Epoch: 003 --LR: 1e-03 --MaxValF1: 0.8283558 --CurValF1: 0.8263912 --Patience: 01\n",
      "Epoch: 004 --LR: 3e-04 --MaxValF1: 0.8288288 --CurValF1: 0.8288288 --Patience: 02 --F1 improved: 0.8288288\n",
      "Epoch: 005 --LR: 3e-04 --MaxValF1: 0.8318063 --CurValF1: 0.8318063 --Patience: 01 --F1 improved: 0.8318063\n",
      "Epoch: 006 --LR: 3e-04 --MaxValF1: 0.8331117 --CurValF1: 0.8331117 --Patience: 01 --F1 improved: 0.8331117\n",
      "Epoch: 007 --LR: 3e-04 --MaxValF1: 0.8334969 --CurValF1: 0.8334969 --Patience: 01 --F1 improved: 0.8334969\n",
      "Epoch: 008 --LR: 3e-04 --MaxValF1: 0.8334969 --CurValF1: 0.8332774 --Patience: 01\n",
      "Epoch: 009 --LR: 9e-05 --MaxValF1: 0.8334969 --CurValF1: 0.8326613 --Patience: 02\n",
      "Epoch: 010 --LR: 3e-05 --MaxValF1: 0.8334969 --CurValF1: 0.8334462 --Patience: 03\n",
      "Epoch: 011 --LR: 8e-06 --MaxValF1: 0.8336714 --CurValF1: 0.8336714 --Patience: 04 --F1 improved: 0.8336714\n",
      "Epoch: 012 --LR: 8e-06 --MaxValF1: 0.8336714 --CurValF1: 0.8332208 --Patience: 01\n",
      "Epoch: 013 --LR: 2e-06 --MaxValF1: 0.8336714 --CurValF1: 0.8331081 --Patience: 02\n",
      "Epoch: 014 --LR: 7e-07 --MaxValF1: 0.8336714 --CurValF1: 0.8331081 --Patience: 03\n",
      "Epoch: 015 --LR: 2e-07 --MaxValF1: 0.8336714 --CurValF1: 0.8331081 --Patience: 04\n",
      "Epoch: 016 --LR: 7e-08 --MaxValF1: 0.8336714 --CurValF1: 0.8331081 --Patience: 05\n",
      "Training stopped due to the patience parameter. --Patience: 05\n",
      "Fold: 05 out of 05 completed.\n",
      "Local System Time: 11:23 PM\n",
      "Total runtime: 0 hrs 11 mins 24.41 secs\n"
     ]
    }
   ],
   "source": [
    "warnings.filterwarnings( 'ignore' )\n",
    "start_time = time.time()\n",
    "print( 'Local System Time: {}'.format( time.strftime( \"%I:%M %p\", time.localtime() ) ) )\n",
    "\n",
    "valaccuracy, valprecision, valrecall, valf1, valcm = [], [], [], [], []\n",
    "testaccuracy, testprecision, testrecall, testf1, testcm = [], [], [], [], []\n",
    "com_text, com_label, com_predicted, com_prob = [], [], [], []\n",
    "com_indices = []\n",
    "hist = {}\n",
    "\n",
    "fold = 1\n",
    "for train_index, test_index in skf.split( df[ xcolumn ], df[ ycolumn ] ):\n",
    "    # seprating train and test sets\n",
    "    xtrain = df.loc[ train_index ][ xcolumn ].values\n",
    "    xtest = df.loc[ test_index ][ xcolumn ].values\n",
    "    \n",
    "    ytrain = df.loc[ train_index ][ ycolumn ].values\n",
    "    ytest = df.loc[ test_index ][ ycolumn ].values\n",
    "    \n",
    "    # splitting train and validation sets\n",
    "    xtrain, xval, ytrain, yval = train_test_split( xtrain, ytrain, test_size=0.15, random_state=0 )\n",
    "    \n",
    "    # tokenization with keras tokenizer\n",
    "    tokenizer = text.Tokenizer(  )\n",
    "    tokenizer.fit_on_texts( np.append( xtrain, xval ) )\n",
    "\n",
    "    xtrain = tokenizer.texts_to_sequences( xtrain )\n",
    "    xval = tokenizer.texts_to_sequences( xval )\n",
    "    xtest = tokenizer.texts_to_sequences( xtest )\n",
    "    \n",
    "    # pad the tokenized sequences\n",
    "    xtrain = sequence.pad_sequences( xtrain, maxlen=MAX_LEN )\n",
    "    xval = sequence.pad_sequences( xval, maxlen=MAX_LEN )\n",
    "    xtest = sequence.pad_sequences( xtest, maxlen=MAX_LEN )\n",
    "    \n",
    "    # check if pre-trained word embeddings flag is true\n",
    "    if PRE_TRAINED_FLAG == True:\n",
    "        EMBEDDING_MATRIX = get_vectors(\n",
    "            tokenizer=tokenizer, emb_mean=emb_mean, emb_std=emb_std, embed_size=EMBED_SIZE\n",
    "        )\n",
    "    \n",
    "    # define a model\n",
    "    EMBED_INP_SIZE = len( tokenizer.word_index ) + 1\n",
    "    model = All_UT_Models.CNN_George(\n",
    "        max_len=MAX_LEN, embed_inp=EMBED_INP_SIZE, embed_size=EMBED_SIZE,\n",
    "        embedding_matrix=EMBEDDING_MATRIX, embed_trainable=EMBED_TRAINABLE,\n",
    "        emb_weights_init=EMB_WEIGHTS_INIT, optimizer=OPTIMIZER\n",
    "    )\n",
    "    \n",
    "    # save model summaries and model architecture diagrams in the first fold only\n",
    "    if fold == 1:\n",
    "        plot_model( model=model, to_file='{}/{}.png'.format( modelsummaries, modelname ), show_shapes=False )\n",
    "        \n",
    "        with open( '{}/{}.txt'.format( modelsummaries, modelname ), 'w' ) as s:\n",
    "            with redirect_stdout( s ):\n",
    "                model.summary()\n",
    "    \n",
    "    K.set_value( model.optimizer.lr, LR_RATE )\n",
    "    \n",
    "    # train the model with callbacks for early stopping\n",
    "    f1callback = UT_Utils.F1_score_callback(\n",
    "        val_data=( xval, yval ), filepath=modelpath + modelname + str( fold ),\n",
    "        patience=PATIENCE, decay=DECAY, decay_rate=DECAY_RATE, decay_after=DECAY_AFTER\n",
    "    )\n",
    "    histmodel = model.fit(\n",
    "        xtrain, ytrain, batch_size=BATCH, epochs=NEPOCHS, verbose=0, callbacks=[ f1callback ]\n",
    "    )\n",
    "    \n",
    "    # save history of all folds\n",
    "    hist[ 'fold' + str( fold ) ] = histmodel.history.copy()\n",
    "    \n",
    "    # delete trained model object\n",
    "    del model, histmodel, f1callback\n",
    "    EMBEDDING_MATRIX = []\n",
    "    K.clear_session()\n",
    "    gc.collect()\n",
    "    # delete pre trained embeddings from the memory\n",
    "    if ( PRE_TRAINED_FLAG == True ) and ( fold == skf.n_splits ):\n",
    "        del EMBEDDINGS_INDEX\n",
    "        gc.collect()\n",
    "    \n",
    "    # load saved model\n",
    "    loaded_model = load_model( modelpath + modelname + str( fold ) )\n",
    "    \n",
    "    # get predictions (probabilities) for validation and test sets respectively\n",
    "    valpredictions = loaded_model.predict( xval, verbose=0, batch_size=BATCH )\n",
    "    testpredictions = loaded_model.predict( xtest, verbose=0, batch_size=BATCH )\n",
    "    \n",
    "    # delete loaded model\n",
    "    del loaded_model\n",
    "    K.clear_session()\n",
    "    gc.collect()\n",
    "    \n",
    "    # optimizer threshold on validation set\n",
    "    threshold = UT_Utils.optimize_threshold( yval, valpredictions )\n",
    "    \n",
    "    # save accuracy, precision, recall, f1 and confusion matrices\n",
    "    vallabels = ( valpredictions >= threshold ).astype( 'int32' )\n",
    "    testlabels = ( testpredictions >= threshold ).astype( 'int32' )\n",
    "    \n",
    "    valaccuracy.append( accuracy_score( yval, vallabels ) )\n",
    "    valprecision.append( precision_score( yval, vallabels ) )\n",
    "    valrecall.append( recall_score( yval, vallabels ) )\n",
    "    valf1.append( f1_score( yval, vallabels ) )\n",
    "    valcm.append( confusion_matrix( yval, vallabels ) )    \n",
    "    \n",
    "    testaccuracy.append( accuracy_score( ytest, testlabels ) )\n",
    "    testprecision.append( precision_score( ytest, testlabels ) )\n",
    "    testrecall.append( recall_score( ytest, testlabels ) )\n",
    "    testf1.append( f1_score( ytest, testlabels ) )\n",
    "    testcm.append( confusion_matrix( ytest, testlabels ) )\n",
    "    \n",
    "    # save for future analysis and ensemble\n",
    "    com_indices.extend( test_index.tolist() )\n",
    "    com_text.extend( df.loc[ test_index ][ xcolumn ] )\n",
    "    com_label.extend( df.loc[ test_index ][ ycolumn ].tolist() )\n",
    "    com_predicted.extend( testlabels[:,0].tolist() )\n",
    "    com_prob.extend( testpredictions[:,0].tolist() )\n",
    "    \n",
    "    print( 'Fold: {:02d} out of {:02d} completed.'.format( fold, skf.get_n_splits() ) )\n",
    "    print( 'Local System Time: {}'.format( time.strftime( \"%I:%M %p\", time.localtime() ) ) )\n",
    "    \n",
    "    fold = fold + 1\n",
    "time_took = time.time() - start_time\n",
    "print( f\"Total runtime: { hms_string( time_took ) }\" )"
   ]
  },
  {
   "cell_type": "code",
   "execution_count": 10,
   "metadata": {},
   "outputs": [
    {
     "name": "stdout",
     "output_type": "stream",
     "text": [
      "Validation Accuracy\n",
      "['0.9466', '0.9429', '0.9418', '0.9429', '0.9437'] 0.9435703652811176 +- 0.0016409466728659215 \n",
      "\n",
      "Validation Precision\n",
      "['0.8887', '0.8359', '0.8490', '0.8377', '0.8689'] 0.856049395849506 +- 0.02013138382492328 \n",
      "\n",
      "Validation Recall\n",
      "['0.7961', '0.8408', '0.8148', '0.8382', '0.8012'] 0.8182175912697657 +- 0.018447629759387255 \n",
      "\n",
      "Validation F1\n",
      "['0.8399', '0.8384', '0.8316', '0.8379', '0.8337'] 0.8362775425891407 +- 0.003127645814351576\n"
     ]
    }
   ],
   "source": [
    "print( 'Validation Accuracy' )\n",
    "print( [ '{:0.4f}'.format( x ) for x in valaccuracy ], np.mean( valaccuracy ), '+-', np.std( valaccuracy ), '\\n' )\n",
    "\n",
    "print( 'Validation Precision' )\n",
    "print( [ '{:0.4f}'.format( x ) for x in valprecision ], np.mean( valprecision ), '+-', np.std( valprecision ), '\\n' )\n",
    "\n",
    "print( 'Validation Recall' )\n",
    "print( [ '{:0.4f}'.format( x ) for x in valrecall ], np.mean( valrecall ), '+-', np.std( valrecall ), '\\n' )\n",
    "\n",
    "print( 'Validation F1' )\n",
    "print( [ '{:0.4f}'.format( x ) for x in valf1 ], np.mean( valf1 ), '+-', np.std( valf1 ) )"
   ]
  },
  {
   "cell_type": "code",
   "execution_count": 11,
   "metadata": {},
   "outputs": [
    {
     "name": "stdout",
     "output_type": "stream",
     "text": [
      "[[1222  313]\n",
      " [ 153 7045]] \n",
      "\n",
      "[[1294  245]\n",
      " [ 254 6940]] \n",
      "\n",
      "[[1254  285]\n",
      " [ 223 6971]] \n",
      "\n",
      "[[1290  249]\n",
      " [ 250 6944]] \n",
      "\n",
      "[[1233  306]\n",
      " [ 186 7008]] \n",
      "\n"
     ]
    }
   ],
   "source": [
    "for c in valcm:\n",
    "    print( np.rot90(np.rot90(c)), '\\n' )"
   ]
  },
  {
   "cell_type": "code",
   "execution_count": 12,
   "metadata": {},
   "outputs": [
    {
     "name": "stdout",
     "output_type": "stream",
     "text": [
      "Test Accuracy\n",
      "['0.9451', '0.9417', '0.9429', '0.9401', '0.9447'] 0.942903049267899 +- 0.0018624026361575602 \n",
      "\n",
      "Test Precision\n",
      "['0.9002', '0.8469', '0.8622', '0.8468', '0.9053'] 0.8722800751648621 +- 0.025553257220784897 \n",
      "\n",
      "Test Recall\n",
      "['0.7817', '0.8256', '0.8125', '0.8144', '0.7736'] 0.8015572927141354 +- 0.020202816291568376 \n",
      "\n",
      "Test F1\n",
      "['0.8368', '0.8361', '0.8366', '0.8303', '0.8343'] 0.8348124443471686 +- 0.0024358719090369733\n"
     ]
    }
   ],
   "source": [
    "print( 'Test Accuracy' )\n",
    "print( [ '{:0.4f}'.format( x ) for x in testaccuracy ], np.mean( testaccuracy ), '+-', np.std( testaccuracy ), '\\n' )\n",
    "\n",
    "print( 'Test Precision' )\n",
    "print( [ '{:0.4f}'.format( x ) for x in testprecision ], np.mean( testprecision ), '+-', np.std( testprecision ), '\\n' )\n",
    "\n",
    "print( 'Test Recall' )\n",
    "print( [ '{:0.4f}'.format( x ) for x in testrecall ], np.mean( testrecall ), '+-', np.std( testrecall ), '\\n' )\n",
    "\n",
    "print( 'Test F1' )\n",
    "print( [ '{:0.4f}'.format( x ) for x in testf1 ], np.mean( testf1 ), '+-', np.std( testf1 ) )"
   ]
  },
  {
   "cell_type": "code",
   "execution_count": 13,
   "metadata": {},
   "outputs": [
    {
     "name": "stdout",
     "output_type": "stream",
     "text": [
      "[[ 2048   572]\n",
      " [  227 11708]] \n",
      "\n",
      "[[ 2163   457]\n",
      " [  391 11543]] \n",
      "\n",
      "[[ 2128   491]\n",
      " [  340 11595]] \n",
      "\n",
      "[[ 2133   486]\n",
      " [  386 11549]] \n",
      "\n",
      "[[ 2026   593]\n",
      " [  212 11723]] \n",
      "\n"
     ]
    }
   ],
   "source": [
    "for c in testcm:\n",
    "    print( np.rot90(np.rot90(c)), '\\n' )"
   ]
  },
  {
   "cell_type": "code",
   "execution_count": 14,
   "metadata": {},
   "outputs": [],
   "source": [
    "file = open( '{}/ResultsMain.csv'.format( modelresults ), mode='a' )\n",
    "file.write( modelname )\n",
    "file.write( ',' )\n",
    "file.write( str(np.mean( testaccuracy ))[:7] + '+-' + str(np.std( testaccuracy ))[:6] )\n",
    "file.write( ',' )\n",
    "file.write( str(np.mean( testprecision ))[:7] + '+-' + str(np.std( testprecision ))[:6] )\n",
    "file.write( ',' )\n",
    "file.write( str(np.mean( testrecall ))[:7] + '+-' + str(np.std( testrecall ))[:6] )\n",
    "file.write( ',' )\n",
    "file.write( str(np.mean( testf1 ))[:7] + '+-' + str(np.std( testf1 ))[:6] )\n",
    "file.write( '\\n' )\n",
    "file.close()"
   ]
  },
  {
   "cell_type": "code",
   "execution_count": 15,
   "metadata": {},
   "outputs": [
    {
     "data": {
      "text/plain": [
       "(72771, 4)"
      ]
     },
     "execution_count": 15,
     "metadata": {},
     "output_type": "execute_result"
    }
   ],
   "source": [
    "dfPredictions = pd.DataFrame(  )\n",
    "dfPredictions[ 'comment_indices' ] = com_indices\n",
    "#dfPredictions[ 'comment_text' ] = com_text #comment text\n",
    "dfPredictions[ 'comment_label' ] = com_label\n",
    "dfPredictions[ 'comment_predicted' ] = com_predicted\n",
    "dfPredictions[ 'comment_prob' ] = com_prob\n",
    "dfPredictions.to_csv( '{}/{}.csv'.format( modelresults, modelname ), index=False )\n",
    "dfPredictions.shape"
   ]
  }
 ],
 "metadata": {
  "kernelspec": {
   "display_name": "tf_2.8",
   "language": "python",
   "name": "tf_2.8"
  },
  "language_info": {
   "codemirror_mode": {
    "name": "ipython",
    "version": 3
   },
   "file_extension": ".py",
   "mimetype": "text/x-python",
   "name": "python",
   "nbconvert_exporter": "python",
   "pygments_lexer": "ipython3",
   "version": "3.7.13"
  },
  "varInspector": {
   "cols": {
    "lenName": 16,
    "lenType": 16,
    "lenVar": 40
   },
   "kernels_config": {
    "python": {
     "delete_cmd_postfix": "",
     "delete_cmd_prefix": "del ",
     "library": "var_list.py",
     "varRefreshCmd": "print(var_dic_list())"
    },
    "r": {
     "delete_cmd_postfix": ") ",
     "delete_cmd_prefix": "rm(",
     "library": "var_list.r",
     "varRefreshCmd": "cat(var_dic_list()) "
    }
   },
   "types_to_exclude": [
    "module",
    "function",
    "builtin_function_or_method",
    "instance",
    "_Feature"
   ],
   "window_display": false
  }
 },
 "nbformat": 4,
 "nbformat_minor": 2
}
